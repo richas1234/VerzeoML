{
 "cells": [
  {
   "cell_type": "markdown",
   "metadata": {},
   "source": [
    "# Random Forest with hyperparameter tuning in Python scikit-learn libary##"
   ]
  },
  {
   "cell_type": "code",
   "execution_count": 22,
   "metadata": {},
   "outputs": [
    {
     "name": "stdout",
     "output_type": "stream",
     "text": [
      "32561 x 15\n",
      "age                int64\n",
      "workclass         object\n",
      "fnlwgt             int64\n",
      "education         object\n",
      "education-num      int64\n",
      "marital-status    object\n",
      "occupation        object\n",
      "relationship      object\n",
      "race              object\n",
      "sex               object\n",
      "capital-gain       int64\n",
      "capital-loss       int64\n",
      "hours-per-week     int64\n",
      "native-country    object\n",
      "y                 object\n",
      "dtype: object\n",
      "age               int64\n",
      "workclass         int64\n",
      "fnlwgt            int64\n",
      "education         int64\n",
      "education-num     int64\n",
      "marital-status    int64\n",
      "occupation        int64\n",
      "relationship      int64\n",
      "race              int64\n",
      "sex               int64\n",
      "capital-gain      int64\n",
      "capital-loss      int64\n",
      "hours-per-week    int64\n",
      "native-country    int64\n",
      "y                 int64\n",
      "dtype: object\n",
      "* features:\n",
      "['age', 'workclass', 'fnlwgt', 'education', 'education-num', 'marital-status', 'occupation', 'relationship', 'race', 'sex', 'capital-gain', 'capital-loss', 'hours-per-week', 'native-country']\n"
     ]
    }
   ],
   "source": [
    "#set wd\n",
    "import os\n",
    "os.getcwd()\n",
    "os.chdir('E:/random forest')\n",
    "os.getcwd()\n",
    "\n",
    "# import modules\n",
    "import pandas as pd\n",
    "import numpy as np\n",
    "import subprocess\n",
    "\n",
    "#read data in-1\n",
    "df = pd.read_csv(\"adult income dataset.csv\", index_col=0)\n",
    "#list(df)\n",
    "ncol = len(df.axes[1])\n",
    "nrow=len(df.axes[0])\n",
    "print(\"%s x %s\" % (nrow, ncol)) #check dimension \n",
    "print (df.dtypes) #check data types\n",
    "\n",
    "# count freq\n",
    "df.groupby('y').count()\n",
    "\n",
    "#convert object col to int64 and rename-2\n",
    "n = ncol\n",
    "for i in range(0,n):\n",
    "       if (df.iloc[:,i].dtype==object):\n",
    "        A= df.iloc[:,i].unique()\n",
    "        map_to_int = {name: n for n, name in enumerate(A)}\n",
    "        df.iloc[:,i] = df.iloc[:,i].replace(map_to_int)\n",
    "print (df.dtypes)\n",
    "\n",
    "\n",
    "#first n-1 col as features, and the last one as target\n",
    "df1=df.iloc[:,0:n]\n",
    "features = list(df1.columns[:(n-1)])\n",
    "print(\"* features:\", features, sep=\"\\n\")\n",
    "df1.rename(columns={'y':'Target'}, inplace=True)\n",
    "#list(df1)\n",
    "#df1\n",
    "\n",
    "y = df1[\"Target\"]\n",
    "X = df1[features]"
   ]
  },
  {
   "cell_type": "code",
   "execution_count": 24,
   "metadata": {},
   "outputs": [
    {
     "name": "stdout",
     "output_type": "stream",
     "text": [
      "Using matplotlib backend: TkAgg\n"
     ]
    }
   ],
   "source": [
    "%matplotlib\n",
    "\n",
    "fig = plt.figure(figsize=(20, 20))\n",
    "\n",
    "df1.hist(bins=20)\n",
    "plt.show()"
   ]
  },
  {
   "cell_type": "code",
   "execution_count": 18,
   "metadata": {},
   "outputs": [
    {
     "name": "stdout",
     "output_type": "stream",
     "text": [
      "--------------- Correlation Matrix ---------------\n"
     ]
    },
    {
     "data": {
      "image/png": "[encoded data removed]",
      "text/plain": [
       "<matplotlib.figure.Figure at 0xca5730>"
      ]
     },
     "metadata": {},
     "output_type": "display_data"
    }
   ],
   "source": [
    "# a quick check the correlation\n",
    "corr_df = df1.corr()\n",
    "\n",
    "%matplotlib inline\n",
    "import seaborn\n",
    "import matplotlib.pyplot as plt\n",
    "print(\"--------------- Correlation Matrix ---------------\")\n",
    "# Create a mask to display only the lower triangle of the matrix (since it's mirrored around its \n",
    "# top-left to bottom-right diagonal).\n",
    "mask = np.zeros_like(corr_df)\n",
    "mask[np.triu_indices_from(mask)] = True\n",
    "# Create the heatmap using seaborn library. \n",
    "# List if colormaps (parameter 'cmap') is available here: http://matplotlib.org/examples/color/colormaps_reference.html\n",
    "seaborn.heatmap(corr_df, cmap='RdYlGn_r', vmax=1.0, vmin=-1 ,mask = mask,  linewidths=3,fmt='.1f')\n",
    " \n",
    "# Show the plot we reorient the labels for each column and row to make them easier to read.\n",
    "plt.yticks(rotation=0,fontsize=10) \n",
    "plt.xticks(rotation=45,fontsize=10) \n",
    "plt.show()"
   ]
  },
  {
   "cell_type": "code",
   "execution_count": 19,
   "metadata": {},
   "outputs": [
    {
     "name": "stdout",
     "output_type": "stream",
     "text": [
      "Automatically created module for IPython interactive environment\n",
      "RandomizedSearchCV took 64.69 seconds for 20 candidates parameter settings.\n",
      "Model with rank: 1\n",
      "Mean validation score: 0.863 (std: 0.004)\n",
      "Parameters: {'min_samples_leaf': 8, 'criterion': 'gini', 'max_features': 2, 'max_depth': None, 'min_samples_split': 8, 'bootstrap': False}\n",
      "\n",
      "Model with rank: 2\n",
      "Mean validation score: 0.861 (std: 0.005)\n",
      "Parameters: {'min_samples_leaf': 8, 'criterion': 'gini', 'max_features': 5, 'max_depth': None, 'min_samples_split': 5, 'bootstrap': True}\n",
      "\n",
      "Model with rank: 3\n",
      "Mean validation score: 0.861 (std: 0.004)\n",
      "Parameters: {'min_samples_leaf': 9, 'criterion': 'gini', 'max_features': 8, 'max_depth': None, 'min_samples_split': 9, 'bootstrap': False}\n",
      "\n"
     ]
    }
   ],
   "source": [
    "#modules for hyperparameter optimization\n",
    "\n",
    "print(__doc__)\n",
    "import numpy as np\n",
    "from time import time\n",
    "from operator import itemgetter\n",
    "from scipy.stats import randint as sp_randint\n",
    "\n",
    "from sklearn.grid_search import GridSearchCV, RandomizedSearchCV\n",
    "from sklearn.datasets import load_digits\n",
    "from sklearn.ensemble import RandomForestClassifier\n",
    "\n",
    "\n",
    "# build a classifier\n",
    "clf = RandomForestClassifier(n_estimators=20)\n",
    "\n",
    "# Utility function to report best scores\n",
    "def report(grid_scores, n_top=3):\n",
    "    top_scores = sorted(grid_scores, key=itemgetter(1), reverse=True)[:n_top]\n",
    "    for i, score in enumerate(top_scores):\n",
    "        print(\"Model with rank: {0}\".format(i + 1))\n",
    "        print(\"Mean validation score: {0:.3f} (std: {1:.3f})\".format(\n",
    "              score.mean_validation_score,\n",
    "              np.std(score.cv_validation_scores)))\n",
    "        print(\"Parameters: {0}\".format(score.parameters))\n",
    "        print(\"\")\n",
    "\n",
    "\n",
    "# specify parameters space\n",
    "param_dist = {\"max_depth\": [3, None],\n",
    "              \"max_features\": sp_randint(1, 11),\n",
    "              \"min_samples_split\": sp_randint(1, 11),\n",
    "              \"min_samples_leaf\": sp_randint(1, 11),\n",
    "              \"bootstrap\": [True, False],\n",
    "              \"criterion\": [\"gini\", \"entropy\"]}\n",
    "\n",
    "# run randomized search\n",
    "n_iter_search = 20\n",
    "random_search = RandomizedSearchCV(clf, param_distributions=param_dist,\n",
    "                                   n_iter=n_iter_search)\n",
    "\n",
    "start = time()\n",
    "random_search.fit(X, y)\n",
    "print(\"RandomizedSearchCV took %.2f seconds for %d candidates\"\n",
    "      \" parameter settings.\" % ((time() - start), n_iter_search))\n",
    "report(random_search.grid_scores_)"
   ]
  },
  {
   "cell_type": "code",
   "execution_count": 20,
   "metadata": {},
   "outputs": [
    {
     "name": "stdout",
     "output_type": "stream",
     "text": [
      "GridSearchCV took 556.10 seconds for 216 candidate parameter settings.\n",
      "Model with rank: 1\n",
      "Mean validation score: 0.863 (std: 0.005)\n",
      "Parameters: {'min_samples_leaf': 10, 'criterion': 'entropy', 'max_features': 3, 'max_depth': None, 'min_samples_split': 3, 'bootstrap': False}\n",
      "\n",
      "Model with rank: 2\n",
      "Mean validation score: 0.863 (std: 0.005)\n",
      "Parameters: {'min_samples_leaf': 10, 'criterion': 'entropy', 'max_features': 3, 'max_depth': None, 'min_samples_split': 1, 'bootstrap': False}\n",
      "\n",
      "Model with rank: 3\n",
      "Mean validation score: 0.863 (std: 0.005)\n",
      "Parameters: {'min_samples_leaf': 10, 'criterion': 'entropy', 'max_features': 3, 'max_depth': None, 'min_samples_split': 10, 'bootstrap': False}\n",
      "\n"
     ]
    }
   ],
   "source": [
    "# use a full grid over all parameters\n",
    "param_grid = {\"max_depth\": [3, None],\n",
    "              \"max_features\": [1, 3, 10],\n",
    "              \"min_samples_split\": [1, 3, 10],\n",
    "              \"min_samples_leaf\": [1, 3, 10],\n",
    "              \"bootstrap\": [True, False],\n",
    "              \"criterion\": [\"gini\", \"entropy\"]}\n",
    "\n",
    "# run grid search\n",
    "grid_search = GridSearchCV(clf, param_grid=param_grid)\n",
    "start = time()\n",
    "grid_search.fit(X, y)\n",
    "\n",
    "print(\"GridSearchCV took %.2f seconds for %d candidate parameter settings.\"\n",
    "      % (time() - start, len(grid_search.grid_scores_)))\n",
    "report(grid_search.grid_scores_)"
   ]
  },
  {
   "cell_type": "code",
   "execution_count": 6,
   "metadata": {
    "collapsed": true
   },
   "outputs": [],
   "source": [
    "#split data to train and test sets\n",
    "from sklearn.cross_validation import train_test_split\n",
    "train, test = train_test_split(df1, test_size = 0.5)\n",
    "\n",
    "y = train[\"Target\"]\n",
    "X = train[features]"
   ]
  },
  {
   "cell_type": "code",
   "execution_count": 7,
   "metadata": {},
   "outputs": [
    {
     "name": "stdout",
     "output_type": "stream",
     "text": [
      "             precision    recall  f1-score   support\n",
      "\n",
      "          0       0.88      0.93      0.91     12391\n",
      "          1       0.74      0.59      0.65      3890\n",
      "\n",
      "avg / total       0.84      0.85      0.85     16281\n",
      "\n",
      "[[11567   824]\n",
      " [ 1601  2289]]\n"
     ]
    }
   ],
   "source": [
    "#using default parameters to build random forest model\n",
    "\n",
    "from sklearn.ensemble import RandomForestClassifier\n",
    "clf = RandomForestClassifier()\n",
    "clf.fit(X, y)\n",
    "\n",
    "from sklearn import datasets\n",
    "from sklearn import metrics   \n",
    "expected = test[\"Target\"]\n",
    "X1 = test[features]\n",
    "predicted1 = clf.predict(X1)\n",
    "\n",
    "print(metrics.classification_report(expected, predicted1))\n",
    "print(metrics.confusion_matrix(expected, predicted1))"
   ]
  },
  {
   "cell_type": "code",
   "execution_count": 8,
   "metadata": {},
   "outputs": [
    {
     "data": {
      "text/plain": [
       "0.88273962837692743"
      ]
     },
     "execution_count": 8,
     "metadata": {},
     "output_type": "execute_result"
    }
   ],
   "source": [
    "# roc1 for default parameters\n",
    "probas1_ = clf.fit(X, y).predict_proba(X1)\n",
    "\n",
    "from sklearn.metrics import roc_curve, auc\n",
    "import matplotlib.pyplot as plt\n",
    "\n",
    "from sklearn.metrics import roc_curve, auc\n",
    "import matplotlib.pyplot as plt\n",
    "false_positive_rate1, true_positive_rate1, thresholds = roc_curve(expected, probas1_[:, 1])\n",
    "roc_auc1 = auc(false_positive_rate1, true_positive_rate1)\n",
    "roc_auc1"
   ]
  },
  {
   "cell_type": "code",
   "execution_count": 9,
   "metadata": {},
   "outputs": [
    {
     "name": "stdout",
     "output_type": "stream",
     "text": [
      "             precision    recall  f1-score   support\n",
      "\n",
      "          0       0.89      0.94      0.91     12391\n",
      "          1       0.76      0.61      0.68      3890\n",
      "\n",
      "avg / total       0.86      0.86      0.86     16281\n",
      "\n",
      "[[11635   756]\n",
      " [ 1498  2392]]\n"
     ]
    }
   ],
   "source": [
    "#use the best parameters found from RandomizedSearchCV\n",
    "from sklearn.ensemble import RandomForestClassifier\n",
    "clf = RandomForestClassifier(criterion='entropy', max_features=3, bootstrap= False, min_samples_split=1,\n",
    "     max_depth=None, min_samples_leaf=7)\n",
    "clf.fit(X, y)\n",
    "from sklearn import datasets\n",
    "from sklearn import metrics   \n",
    "expected = test[\"Target\"]\n",
    "X1 = test[features]\n",
    "predicted2 = clf.predict(X1)\n",
    "\n",
    "print(metrics.classification_report(expected, predicted2))\n",
    "print(metrics.confusion_matrix(expected, predicted2))"
   ]
  },
  {
   "cell_type": "code",
   "execution_count": 10,
   "metadata": {},
   "outputs": [
    {
     "data": {
      "text/plain": [
       "0.90989142546657231"
      ]
     },
     "execution_count": 10,
     "metadata": {},
     "output_type": "execute_result"
    }
   ],
   "source": [
    "# roc2 for RandomizedSearchCV\n",
    "probas2_ = clf.fit(X, y).predict_proba(X1)\n",
    "from sklearn.metrics import roc_curve, auc\n",
    "import matplotlib.pyplot as plt\n",
    "false_positive_rate2, true_positive_rate2, thresholds = roc_curve(expected,probas2_[:, 1])\n",
    "roc_auc2 = auc(false_positive_rate2, true_positive_rate2)\n",
    "roc_auc2"
   ]
  },
  {
   "cell_type": "code",
   "execution_count": 13,
   "metadata": {},
   "outputs": [
    {
     "name": "stdout",
     "output_type": "stream",
     "text": [
      "             precision    recall  f1-score   support\n",
      "\n",
      "          0       0.88      0.94      0.91     12391\n",
      "          1       0.77      0.61      0.68      3890\n",
      "\n",
      "avg / total       0.86      0.86      0.86     16281\n",
      "\n",
      "[[11677   714]\n",
      " [ 1521  2369]]\n"
     ]
    }
   ],
   "source": [
    "#use the best parameters from GridSearchCV\n",
    "from sklearn.ensemble import RandomForestClassifier\n",
    "clf = RandomForestClassifier(criterion='gini', max_features=3, bootstrap= False, min_samples_split=1,\n",
    "                             max_depth=None, min_samples_leaf=10)\n",
    "clf.fit(X, y)\n",
    "\n",
    "from sklearn import datasets\n",
    "from sklearn import metrics   \n",
    "expected = test[\"Target\"]\n",
    "X1 = test[features]\n",
    "predicted3 = clf.predict(X1)\n",
    "\n",
    "print(metrics.classification_report(expected, predicted3))\n",
    "print(metrics.confusion_matrix(expected, predicted3))\n",
    "#0 income<=50k\n",
    "#1 income > 50k"
   ]
  },
  {
   "cell_type": "code",
   "execution_count": 14,
   "metadata": {},
   "outputs": [
    {
     "data": {
      "text/plain": [
       "0.91011162841261151"
      ]
     },
     "execution_count": 14,
     "metadata": {},
     "output_type": "execute_result"
    }
   ],
   "source": [
    "# roc GridSearchCV\n",
    "probas3_ = clf.fit(X, y).predict_proba(X1)\n",
    "\n",
    "from sklearn.metrics import roc_curve, auc\n",
    "import matplotlib.pyplot as plt\n",
    "false_positive_rate3, true_positive_rate3, thresholds = roc_curve(expected,probas3_[:, 1])\n",
    "roc_auc3 = auc(false_positive_rate3, true_positive_rate3)\n",
    "roc_auc3"
   ]
  },
  {
   "cell_type": "code",
   "execution_count": 15,
   "metadata": {},
   "outputs": [
    {
     "data": {
      "image/png": "[encoded data removed]",
      "text/plain": [
       "<matplotlib.figure.Figure at 0xda81cd0>"
      ]
     },
     "metadata": {},
     "output_type": "display_data"
    }
   ],
   "source": [
    "plt.title('Receiver Operating Characteristic-random forest')\n",
    "plt.plot(false_positive_rate1, true_positive_rate1, 'g',\n",
    "label='AUC-default parameters = %0.5f'% roc_auc1)\n",
    "\n",
    "\n",
    "plt.plot(false_positive_rate2, true_positive_rate2, 'b',\n",
    "label='AUC-best randomized search parameters = %0.5f'% roc_auc2)\n",
    "\n",
    "plt.plot(false_positive_rate3, true_positive_rate3, 'r',\n",
    "label='AUC-best grid search parameters= %0.5f'% roc_auc3)\n",
    "\n",
    "plt.legend(loc='lower right')\n",
    "plt.plot([0,1],[0,1],'k--')\n",
    "plt.xlim([-0.1,1.2])\n",
    "plt.ylim([-0.1,1.2])\n",
    "plt.ylabel('True Positive Rate')\n",
    "plt.xlabel('False Positive Rate')\n",
    "plt.show()"
   ]
  },
  {
   "cell_type": "code",
   "execution_count": 21,
   "metadata": {},
   "outputs": [
    {
     "name": "stdout",
     "output_type": "stream",
     "text": [
      "Feature ranking:\n",
      "1. feature 5 (0.169404)\n",
      "2. feature 7 (0.163835)\n",
      "3. feature 10 (0.161388)\n",
      "4. feature 0 (0.125563)\n",
      "5. feature 4 (0.123969)\n",
      "6. feature 12 (0.048685)\n",
      "7. feature 6 (0.044262)\n",
      "8. feature 11 (0.042047)\n",
      "9. feature 2 (0.037913)\n",
      "10. feature 3 (0.030286)\n",
      "11. feature 9 (0.025353)\n",
      "12. feature 1 (0.017205)\n",
      "13. feature 8 (0.005261)\n",
      "14. feature 13 (0.004831)\n"
     ]
    },
    {
     "data": {
      "image/png": "[encoded data removed]",
      "text/plain": [
       "<matplotlib.figure.Figure at 0xdb4bfb0>"
      ]
     },
     "metadata": {},
     "output_type": "display_data"
    }
   ],
   "source": [
    "#find the importance ranking \n",
    "#use the best parameters from gridSearchCV\n",
    "from sklearn.ensemble import RandomForestClassifier\n",
    "clf = RandomForestClassifier(criterion='entropy', max_features=3, bootstrap= False, min_samples_split=3,\n",
    "                             max_depth=None, min_samples_leaf=10)\n",
    "\n",
    "\n",
    "forest=clf.fit(X, y)\n",
    "\n",
    "#label for x-axis\n",
    "features_name = np.array(X.columns.values)\n",
    "features_name\n",
    "\n",
    "importances = clf.feature_importances_\n",
    "std = np.std([clf.feature_importances_ for tree in clf.estimators_],\n",
    "             axis=0)\n",
    "indices = np.argsort(importances)[::-1]\n",
    "# Print the feature ranking\n",
    "print(\"Feature ranking:\")\n",
    "\n",
    "for f in range(X.shape[1]):\n",
    "    print(\"%d. feature %d (%f)\" % (f + 1, indices[f], importances[indices[f]]))\n",
    "\n",
    "# Plot the feature importances \n",
    "plt.figure()\n",
    "plt.title(\"Feature importances\",size=30)\n",
    "plt.bar(range(X.shape[1]), importances[indices],\n",
    "      yerr=std[indices], color='r' , align=\"center\")\n",
    "plt.xticks(range(X.shape[1]), features_name[indices],rotation=20,fontsize = 7)\n",
    "plt.xlim([-1, X.shape[1]])\n",
    "plt.show()\n"
   ]
  },
  {
   "cell_type": "code",
   "execution_count": 23,
   "metadata": {
    "collapsed": true
   },
   "outputs": [],
   "source": [
    "#figures can be exported in higher resolution, when choosing matplotlib plot not inline"
   ]
  },
  {
   "cell_type": "code",
   "execution_count": null,
   "metadata": {
    "collapsed": true
   },
   "outputs": [],
   "source": []
  },
  {
   "cell_type": "code",
   "execution_count": null,
   "metadata": {
    "collapsed": true
   },
   "outputs": [],
   "source": []
  }
 ],
 "metadata": {
  "kernelspec": {
   "display_name": "Python 3",
   "language": "python",
   "name": "python3"
  },
  "language_info": {
   "codemirror_mode": {
    "name": "ipython",
    "version": 3
   },
   "file_extension": ".py",
   "mimetype": "text/x-python",
   "name": "python",
   "nbconvert_exporter": "python",
   "pygments_lexer": "ipython3",
   "version": "3.7.3"
  }
 },
 "nbformat": 4,
 "nbformat_minor": 1
}
