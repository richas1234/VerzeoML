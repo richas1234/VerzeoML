{
 "cells": [
  {
   "cell_type": "markdown",
   "metadata": {},
   "source": [
    "# File Operations "
   ]
  },
  {
   "cell_type": "markdown",
   "metadata": {},
   "source": [
    "<h3>What is a file?</h3>\n",
    "\n",
    "<b>A file is some information or data which stays in the computer storage devices. You already know about different kinds of file , like your music files, video files, text files. Python gives you easy ways to manipulate these files. Generally we divide files in two categories, text file and binary file. Text files are simple text where as the binary files contain binary data which is only readable by computer.</b>\n",
    "\n",
    "<h3>End of Line Character in a text file</h3>\n",
    "\n",
    "<b>Each line is terminated with a special character, called the EOL or End of Line character. There are several types, but the most common is the comma {,} or newline character. It ends the current line and tells the interpreter a new one has begun. \n",
    "\n",
    "A backslash character can also be used, and it tells the interpreter that the next character – following the slash – should be treated as a new line. This character is useful when you don’t want to start a new line in the text itself but in the code. </b>\n",
    "\n",
    "<b>Ex: Harsha.txt, config.py, param.xml, data.csv</b>"
   ]
  },
  {
   "cell_type": "markdown",
   "metadata": {},
   "source": [
    "<h3>Directories and file management in python</h3>"
   ]
  },
  {
   "cell_type": "markdown",
   "metadata": {},
   "source": [
    "<b>Directory is nothing but a folder/location where it can store files, subfolders.\n",
    "To acces the folders and files in python, we have a module named os.</b>\n",
    "<br>\n",
    "\n",
    "<b>os module has diffrent methods to handle both directories and files in python</b>"
   ]
  },
  {
   "cell_type": "markdown",
   "metadata": {},
   "source": [
    "<h3>Create , Delete and rename directories in python using os module. Navigating directories in python</h3>"
   ]
  },
  {
   "cell_type": "code",
   "execution_count": 1,
   "metadata": {},
   "outputs": [
    {
     "data": {
      "text/plain": [
       "'D:\\\\Data_Science\\\\Batch1_Lessons'"
      ]
     },
     "execution_count": 1,
     "metadata": {},
     "output_type": "execute_result"
    }
   ],
   "source": [
    "import os\n",
    "#get current working directory\n",
    "os.getcwd()"
   ]
  },
  {
   "cell_type": "markdown",
   "metadata": {},
   "source": [
    "'D:\\\\\\Data_Science\\\\\\Batch1_Lessons'--> The '\\\\' indicates the escape sequence of the file path. If we want to print only single slash , we can print it using print() function"
   ]
  },
  {
   "cell_type": "code",
   "execution_count": 4,
   "metadata": {},
   "outputs": [
    {
     "name": "stdout",
     "output_type": "stream",
     "text": [
      "D:\\Data_Science\\Batch1_Lessons\n"
     ]
    }
   ],
   "source": [
    "print(os.getcwd())"
   ]
  },
  {
   "cell_type": "code",
   "execution_count": 3,
   "metadata": {},
   "outputs": [
    {
     "data": {
      "text/plain": [
       "['.ipynb_checkpoints',\n",
       " 'Ashwinv_status_Harsha.pptx',\n",
       " 'Data Viz. What to focus on as a game dev_  (1).ipynb',\n",
       " 'GE_Ship_Building',\n",
       " 'Henkel_Video_Analytics',\n",
       " 'IB_Book',\n",
       " 'IB_Book.zip',\n",
       " 'L&T_Ship_Building_IPMS',\n",
       " 'LNT_Data_Analytics',\n",
       " 'PDF_Text_Classification',\n",
       " 'Predective_Maintenance',\n",
       " 'Text Classification.ipynb',\n",
       " 'Untitled.ipynb',\n",
       " 'Untitled1.ipynb',\n",
       " 'Video_Analytics']"
      ]
     },
     "execution_count": 3,
     "metadata": {},
     "output_type": "execute_result"
    }
   ],
   "source": [
    "#Finding list of files in the directory \n",
    "os.listdir(\"D:\\Work\")\n",
    "#it lists all the files in the current working directory"
   ]
  },
  {
   "cell_type": "code",
   "execution_count": 4,
   "metadata": {},
   "outputs": [
    {
     "data": {
      "text/plain": [
       "['Anaconda',\n",
       " 'Analytics_Vidya_Hackathon',\n",
       " 'Analytics_Vidya_Hackathon.zip',\n",
       " 'Assignments_DonorsChoose_2018',\n",
       " 'Assignments_DonorsChoose_2018-20190618T112223Z-002.zip',\n",
       " 'Batch1_Lessons',\n",
       " 'Blindness_Detection',\n",
       " 'DS_Materials',\n",
       " 'DS_Task',\n",
       " 'DS_Task_Mohan',\n",
       " 'Machine_Hack_Hackathon',\n",
       " 'Twitter_Sentiment_Anaysis']"
      ]
     },
     "execution_count": 4,
     "metadata": {},
     "output_type": "execute_result"
    }
   ],
   "source": [
    "#Finding list of files in a specific directory\n",
    "os.listdir(\"D:\\\\Data_Science\")"
   ]
  },
  {
   "cell_type": "code",
   "execution_count": 5,
   "metadata": {},
   "outputs": [
    {
     "name": "stdout",
     "output_type": "stream",
     "text": [
      "D:\\Data_Science\n"
     ]
    }
   ],
   "source": [
    "#Change the current working directory\n",
    "os.chdir('D:\\\\Data_Science')\n",
    "print(os.getcwd())"
   ]
  },
  {
   "cell_type": "code",
   "execution_count": 14,
   "metadata": {},
   "outputs": [
    {
     "name": "stdout",
     "output_type": "stream",
     "text": [
      "D:\\Data_Science\\Batch1_Lessons\n"
     ]
    }
   ],
   "source": [
    "os.chdir('D:\\\\Data_Science\\\\Batch1_Lessons')\n",
    "print(os.getcwd())"
   ]
  },
  {
   "cell_type": "code",
   "execution_count": 381,
   "metadata": {},
   "outputs": [],
   "source": [
    "#Create a directory\n",
    "os.mkdir('test')\n",
    "#by default if dont specify the fully qualified path, then it will create a folder in the current working directory"
   ]
  },
  {
   "cell_type": "code",
   "execution_count": 6,
   "metadata": {},
   "outputs": [],
   "source": [
    "#Create a directory under specific folder\n",
    "os.mkdir('D:\\\\Data_Science\\\\DS_Task\\\\test1')"
   ]
  },
  {
   "cell_type": "code",
   "execution_count": 20,
   "metadata": {},
   "outputs": [
    {
     "data": {
      "text/plain": [
       "['.ipynb_checkpoints',\n",
       " 'example.py',\n",
       " 'img1.PNG',\n",
       " 'img2.PNG',\n",
       " 'test',\n",
       " 'Topics_16_hrs.xlsx',\n",
       " 'Untitled.ipynb',\n",
       " 'Week2.ipynb',\n",
       " 'Week_1.ipynb',\n",
       " '__pycache__',\n",
       " '~$Topics_16_hrs.xlsx']"
      ]
     },
     "execution_count": 20,
     "metadata": {},
     "output_type": "execute_result"
    }
   ],
   "source": [
    "os.listdir()"
   ]
  },
  {
   "cell_type": "code",
   "execution_count": 384,
   "metadata": {},
   "outputs": [
    {
     "ename": "FileNotFoundError",
     "evalue": "[WinError 2] The system cannot find the file specified: 'test' -> 'test_changed'",
     "output_type": "error",
     "traceback": [
      "\u001b[1;31m---------------------------------------------------------------------------\u001b[0m",
      "\u001b[1;31mFileNotFoundError\u001b[0m                         Traceback (most recent call last)",
      "\u001b[1;32m<ipython-input-384-eafd7a099c1e>\u001b[0m in \u001b[0;36m<module>\u001b[1;34m\u001b[0m\n\u001b[0;32m      1\u001b[0m \u001b[1;31m#Rename a folder\u001b[0m\u001b[1;33m\u001b[0m\u001b[1;33m\u001b[0m\u001b[1;33m\u001b[0m\u001b[0m\n\u001b[1;32m----> 2\u001b[1;33m \u001b[0mos\u001b[0m\u001b[1;33m.\u001b[0m\u001b[0mrename\u001b[0m\u001b[1;33m(\u001b[0m\u001b[1;34m'test'\u001b[0m\u001b[1;33m,\u001b[0m\u001b[1;34m'test_changed'\u001b[0m\u001b[1;33m)\u001b[0m\u001b[1;33m\u001b[0m\u001b[1;33m\u001b[0m\u001b[0m\n\u001b[0m\u001b[0;32m      3\u001b[0m \u001b[0mos\u001b[0m\u001b[1;33m.\u001b[0m\u001b[0mlistdir\u001b[0m\u001b[1;33m(\u001b[0m\u001b[1;33m)\u001b[0m\u001b[1;33m\u001b[0m\u001b[1;33m\u001b[0m\u001b[0m\n",
      "\u001b[1;31mFileNotFoundError\u001b[0m: [WinError 2] The system cannot find the file specified: 'test' -> 'test_changed'"
     ]
    }
   ],
   "source": [
    "#Rename a folder\n",
    "os.rename('test','test_changed')\n",
    "os.listdir()"
   ]
  },
  {
   "cell_type": "code",
   "execution_count": 386,
   "metadata": {},
   "outputs": [
    {
     "data": {
      "text/plain": [
       "['abc.txt']"
      ]
     },
     "execution_count": 386,
     "metadata": {},
     "output_type": "execute_result"
    }
   ],
   "source": [
    "os.listdir(\"D:\\\\Data_Science\\\\Batch1_Lessons\\\\test_changed\")"
   ]
  },
  {
   "cell_type": "code",
   "execution_count": 387,
   "metadata": {},
   "outputs": [
    {
     "ename": "OSError",
     "evalue": "[WinError 145] The directory is not empty: 'test_changed'",
     "output_type": "error",
     "traceback": [
      "\u001b[1;31m---------------------------------------------------------------------------\u001b[0m",
      "\u001b[1;31mOSError\u001b[0m                                   Traceback (most recent call last)",
      "\u001b[1;32m<ipython-input-387-f8813f5ec716>\u001b[0m in \u001b[0;36m<module>\u001b[1;34m\u001b[0m\n\u001b[0;32m      1\u001b[0m \u001b[1;31m#Delete a folder, file\u001b[0m\u001b[1;33m\u001b[0m\u001b[1;33m\u001b[0m\u001b[1;33m\u001b[0m\u001b[0m\n\u001b[1;32m----> 2\u001b[1;33m \u001b[0mos\u001b[0m\u001b[1;33m.\u001b[0m\u001b[0mrmdir\u001b[0m\u001b[1;33m(\u001b[0m\u001b[1;34m'test_changed'\u001b[0m\u001b[1;33m)\u001b[0m\u001b[1;33m\u001b[0m\u001b[1;33m\u001b[0m\u001b[0m\n\u001b[0m\u001b[0;32m      3\u001b[0m \u001b[1;31m#You can't delete a not empty directory, u should delete the files inside the directory and delete the folder\u001b[0m\u001b[1;33m\u001b[0m\u001b[1;33m\u001b[0m\u001b[1;33m\u001b[0m\u001b[0m\n",
      "\u001b[1;31mOSError\u001b[0m: [WinError 145] The directory is not empty: 'test_changed'"
     ]
    }
   ],
   "source": [
    "#Delete a folder, file \n",
    "os.rmdir('test_changed')\n",
    "#You can't delete a not empty directory, u should delete the files inside the directory and delete the folder"
   ]
  },
  {
   "cell_type": "code",
   "execution_count": 388,
   "metadata": {},
   "outputs": [],
   "source": [
    "os.remove('D:\\\\Data_Science\\\\Batch1_Lessons\\\\test_changed\\\\abc.txt')"
   ]
  },
  {
   "cell_type": "code",
   "execution_count": 389,
   "metadata": {},
   "outputs": [],
   "source": [
    "#Delete a folder, file \n",
    "#os.chmod('D:\\\\Data_Science\\\\Batch1_Lessons\\\\test_changed', 0777)\n",
    "os.rmdir('D:\\\\Data_Science\\\\Batch1_Lessons\\\\test_changed')"
   ]
  },
  {
   "cell_type": "code",
   "execution_count": 390,
   "metadata": {},
   "outputs": [
    {
     "data": {
      "text/plain": [
       "['.ipynb_checkpoints',\n",
       " '100 Sales Records.csv',\n",
       " 'example.py',\n",
       " 'img1.PNG',\n",
       " 'img2.PNG',\n",
       " 'ML OCT Agenda.pdf',\n",
       " 'my_file.txt',\n",
       " 'test.txt',\n",
       " 'test1.txt',\n",
       " 'Topics_16_hrs.xlsx',\n",
       " 'Untitled.ipynb',\n",
       " 'Week2.ipynb',\n",
       " 'Week_1.ipynb',\n",
       " '__pycache__',\n",
       " '~$Topics_16_hrs.xlsx']"
      ]
     },
     "execution_count": 390,
     "metadata": {},
     "output_type": "execute_result"
    }
   ],
   "source": [
    "os.listdir(\"D:\\\\Data_Science\\\\Batch1_Lessons\")"
   ]
  },
  {
   "cell_type": "code",
   "execution_count": 52,
   "metadata": {},
   "outputs": [],
   "source": [
    " #To remove the directory with all files inside it, we can use shutil module\n",
    "import shutil\n",
    "shutil.rmtree('test_changed')"
   ]
  },
  {
   "cell_type": "code",
   "execution_count": 53,
   "metadata": {},
   "outputs": [
    {
     "data": {
      "text/plain": [
       "['.ipynb_checkpoints',\n",
       " 'example.py',\n",
       " 'img1.PNG',\n",
       " 'img2.PNG',\n",
       " 'Topics_16_hrs.xlsx',\n",
       " 'Untitled.ipynb',\n",
       " 'Week2.ipynb',\n",
       " 'Week_1.ipynb',\n",
       " '__pycache__',\n",
       " '~$Topics_16_hrs.xlsx']"
      ]
     },
     "execution_count": 53,
     "metadata": {},
     "output_type": "execute_result"
    }
   ],
   "source": [
    "os.listdir()"
   ]
  },
  {
   "cell_type": "markdown",
   "metadata": {},
   "source": [
    "<h2>How to get input from the user</h2>"
   ]
  },
  {
   "cell_type": "code",
   "execution_count": 391,
   "metadata": {},
   "outputs": [
    {
     "name": "stdout",
     "output_type": "stream",
     "text": [
      "Enter a number100\n",
      "Entered  100  of type <class 'str'>\n"
     ]
    }
   ],
   "source": [
    "num = input(\"Enter a number\")\n",
    "print('Entered ',num, ' of type', type(num))\n",
    "#By default the input value is considered as a string , we can convert it int,float explicitly"
   ]
  },
  {
   "cell_type": "code",
   "execution_count": 392,
   "metadata": {},
   "outputs": [
    {
     "name": "stdout",
     "output_type": "stream",
     "text": [
      "Enter a number100\n",
      "Entered  100  of type <class 'int'>\n",
      "Enter a number200\n",
      "Entered  200.0  of type <class 'float'>\n"
     ]
    }
   ],
   "source": [
    "num = int(input(\"Enter a number\"))\n",
    "print('Entered ',num, ' of type', type(num))\n",
    "num1 = float(input(\"Enter a number\"))\n",
    "print('Entered ',num1, ' of type', type(num1))"
   ]
  },
  {
   "cell_type": "code",
   "execution_count": 61,
   "metadata": {},
   "outputs": [],
   "source": [
    "def add_numbers(num1,num2):\n",
    "    return num1+num2"
   ]
  },
  {
   "cell_type": "code",
   "execution_count": 63,
   "metadata": {},
   "outputs": [
    {
     "name": "stdout",
     "output_type": "stream",
     "text": [
      "Enter Number1 12\n",
      "Enter Number2 13\n"
     ]
    },
    {
     "data": {
      "text/plain": [
       "25"
      ]
     },
     "execution_count": 63,
     "metadata": {},
     "output_type": "execute_result"
    }
   ],
   "source": [
    "add_numbers(int(input('Enter Number1 ')), int(input('Enter Number2 ')))"
   ]
  },
  {
   "cell_type": "markdown",
   "metadata": {},
   "source": [
    "<h2>Multi Line printing</h2>"
   ]
  },
  {
   "cell_type": "code",
   "execution_count": 227,
   "metadata": {},
   "outputs": [
    {
     "name": "stdout",
     "output_type": "stream",
     "text": [
      "\n",
      "Shall we \n",
      "Print In \n",
      "Multiple Lines\n",
      "\n",
      "\n",
      "You can make designs like Below:::\n",
      "\n",
      "==========================\n",
      "|            |           |\n",
      "|            |           |\n",
      "|    SHAPE1  | SHAPE2    |\n",
      "|            |           |\n",
      "|            |           |\n",
      "==========================\n",
      "|            |           |\n",
      "|            |           |\n",
      "|    SHAPE3  | SHAPE3    |\n",
      "|            |           |\n",
      "|            |           |\n",
      "==========================\n",
      "\n"
     ]
    }
   ],
   "source": [
    "print(\n",
    "'''\n",
    "Shall we \n",
    "Print In \n",
    "Multiple Lines\n",
    "'''\n",
    "    )\n",
    "\n",
    "print(\n",
    "'''\n",
    "You can make designs like Below:::\n",
    "\n",
    "==========================\n",
    "|            |           |\n",
    "|            |           |\n",
    "|    SHAPE1  | SHAPE2    |\n",
    "|            |           |\n",
    "|            |           |\n",
    "==========================\n",
    "|            |           |\n",
    "|            |           |\n",
    "|    SHAPE3  | SHAPE3    |\n",
    "|            |           |\n",
    "|            |           |\n",
    "==========================\n",
    "'''\n",
    "    )"
   ]
  },
  {
   "cell_type": "markdown",
   "metadata": {},
   "source": [
    "<h2>File operations in python</h2>"
   ]
  },
  {
   "cell_type": "code",
   "execution_count": null,
   "metadata": {},
   "outputs": [],
   "source": [
    "#Opening a file \n",
    "Syntax : file_object  = open(“filename”, “mode”,encoding = 'utf-8')\n",
    "#Filename : Name of the file to open and \n",
    "#file_object : Open method will returns a object which has inbuilt functions used for file handling.\n",
    "#Mode   :   It tells the interpreter and developer which way the file will be used.\n",
    "#Encoding : The default encoding is platform dependent. In windows, it is 'cp1252' but 'utf-8' in Linux.\n",
    "#Modes of opening a file in python\n",
    "# 'r'  : Open a file for reading. (default)\n",
    "# 'w'  : Open a file for writing. Creates a new file if it does not exist or truncates the file if it exists.\n",
    "# 'x'  : Open a file for exclusive creation. If the file already exists, the operation fails.\n",
    "# 'a'  : Open for appending at the end of the file without truncating it. Creates a new file if it does not exist.\n",
    "# 't'  : Open in text mode. (default)\n",
    "# 'b'  : Open in binary mode.\n",
    "# 'r+'  :  Special read and write mode, which is used to handle both actions when working with a file "
   ]
  },
  {
   "cell_type": "markdown",
   "metadata": {},
   "source": [
    "<h3>Create a text file</h3>"
   ]
  },
  {
   "cell_type": "code",
   "execution_count": 4,
   "metadata": {},
   "outputs": [],
   "source": [
    "file = open('test.txt','w') \n",
    " \n",
    "file.write('Hello All\\n') \n",
    "file.write('Welcome to Verzeo online machine learning internship program\\n') \n",
    "file.write('This course will help u in learning ML\\n') \n",
    "file.write('Happy learning!\\n') \n",
    "file.close()"
   ]
  },
  {
   "cell_type": "code",
   "execution_count": 5,
   "metadata": {},
   "outputs": [],
   "source": [
    "#Another way of writing a file \n",
    "with open(\"test1.txt\",'w',encoding = 'utf-8') as f:\n",
    "   f.write(\"Hello All\\n\")\n",
    "   f.write(\"Good Morning\\n\\n\")\n",
    "   f.write(\"Welcome to the session\\n\")\n",
    "\n",
    "#This program will create a new file named 'test1.txt' if it does not exist. If it does exist, it is overwritten.\n",
    "#The advantage using 'with' is, u no need to close the file explicitly."
   ]
  },
  {
   "cell_type": "code",
   "execution_count": 6,
   "metadata": {},
   "outputs": [
    {
     "name": "stdout",
     "output_type": "stream",
     "text": [
      "Hello All\n",
      "Welcome to Verzeo online machine learning internship program\n",
      "This course will help u in learning ML\n",
      "Happy learning!\n",
      "\n"
     ]
    }
   ],
   "source": [
    "#Reading/opening a file\n",
    "#The default mode is read only, ie if you do not provide any mode it will open the file as read only\n",
    "file = open('test.txt', 'r') \n",
    "print(file.read())\n"
   ]
  },
  {
   "cell_type": "code",
   "execution_count": null,
   "metadata": {},
   "outputs": [],
   "source": [
    "#A file operation takes place in the following order.\n",
    "#Open a file\n",
    "#Read or write (perform operation)\n",
    "#Close the file\n",
    "\n",
    "#Always a opened file should be closed,otherwise it will be stored in the memory and if the same process contnus for multipe files ,\n",
    "#it will keep adding and finally theprogram could crash"
   ]
  },
  {
   "cell_type": "code",
   "execution_count": 7,
   "metadata": {},
   "outputs": [],
   "source": [
    "file.close()"
   ]
  },
  {
   "cell_type": "code",
   "execution_count": 8,
   "metadata": {},
   "outputs": [],
   "source": [
    "#Reading individual lines/ reading with size\n",
    "file = open(\"test.txt\",'r',encoding = 'utf-8')"
   ]
  },
  {
   "cell_type": "code",
   "execution_count": 9,
   "metadata": {},
   "outputs": [
    {
     "data": {
      "text/plain": [
       "'Hel'"
      ]
     },
     "execution_count": 9,
     "metadata": {},
     "output_type": "execute_result"
    }
   ],
   "source": [
    "# read the first 5 data.\n",
    "file.read(3)\n",
    "#if the text file reading is completed, it will return empty string"
   ]
  },
  {
   "cell_type": "code",
   "execution_count": 10,
   "metadata": {},
   "outputs": [
    {
     "data": {
      "text/plain": [
       "3"
      ]
     },
     "execution_count": 10,
     "metadata": {},
     "output_type": "execute_result"
    }
   ],
   "source": [
    "#Tell and Seek\n",
    "file.tell() # Tell will return the current position of the cluster in the file reading."
   ]
  },
  {
   "cell_type": "code",
   "execution_count": 11,
   "metadata": {},
   "outputs": [
    {
     "data": {
      "text/plain": [
       "'lo Al'"
      ]
     },
     "execution_count": 11,
     "metadata": {},
     "output_type": "execute_result"
    }
   ],
   "source": [
    "file.read(5)"
   ]
  },
  {
   "cell_type": "code",
   "execution_count": 12,
   "metadata": {},
   "outputs": [
    {
     "data": {
      "text/plain": [
       "8"
      ]
     },
     "execution_count": 12,
     "metadata": {},
     "output_type": "execute_result"
    }
   ],
   "source": [
    "file.tell()"
   ]
  },
  {
   "cell_type": "code",
   "execution_count": 14,
   "metadata": {},
   "outputs": [
    {
     "data": {
      "text/plain": [
       "0"
      ]
     },
     "execution_count": 14,
     "metadata": {},
     "output_type": "execute_result"
    }
   ],
   "source": [
    "#Seek will bring the cursor to the required position back\n",
    "file.seek(0)"
   ]
  },
  {
   "cell_type": "code",
   "execution_count": 15,
   "metadata": {},
   "outputs": [
    {
     "name": "stdout",
     "output_type": "stream",
     "text": [
      "Hello\n"
     ]
    },
    {
     "data": {
      "text/plain": [
       "5"
      ]
     },
     "execution_count": 15,
     "metadata": {},
     "output_type": "execute_result"
    }
   ],
   "source": [
    "print(file.read(5))\n",
    "file.tell()"
   ]
  },
  {
   "cell_type": "code",
   "execution_count": 427,
   "metadata": {},
   "outputs": [
    {
     "name": "stdout",
     "output_type": "stream",
     "text": [
      " All\n",
      "\n"
     ]
    }
   ],
   "source": [
    "file.seek(5)\n",
    "print(file.read(5))"
   ]
  },
  {
   "cell_type": "code",
   "execution_count": 429,
   "metadata": {},
   "outputs": [
    {
     "name": "stdout",
     "output_type": "stream",
     "text": [
      "Hello All\n",
      "Good Morning\n",
      "\n",
      "Welcome to the session\n"
     ]
    }
   ],
   "source": [
    "#Reading lines in a loop\n",
    "file1 = open(\"test1.txt\",'r',encoding = 'utf-8')\n",
    "for x in file1:\n",
    "    print(x, end='')\n",
    "file1.close()"
   ]
  },
  {
   "cell_type": "code",
   "execution_count": 430,
   "metadata": {},
   "outputs": [
    {
     "name": "stdout",
     "output_type": "stream",
     "text": [
      "Hello All\n",
      "\n",
      "Good Morning\n",
      "\n",
      "\n",
      "\n",
      "Welcome to the session\n",
      "\n"
     ]
    }
   ],
   "source": [
    "with open('test1.txt') as f1:\n",
    "    for line in f1:\n",
    "        print(line)"
   ]
  },
  {
   "cell_type": "code",
   "execution_count": 7,
   "metadata": {},
   "outputs": [],
   "source": [
    "#Readline, Readlines\n",
    "file = open('test1.txt',encoding = 'utf-8')"
   ]
  },
  {
   "cell_type": "code",
   "execution_count": 11,
   "metadata": {},
   "outputs": [
    {
     "name": "stdout",
     "output_type": "stream",
     "text": [
      "Welcome to the session\n",
      "\n",
      "51\n"
     ]
    }
   ],
   "source": [
    "#Readline will read line by line till the file ends, if we specify size it will work like read\n",
    "print(file.readline())\n",
    "print(file.tell())"
   ]
  },
  {
   "cell_type": "code",
   "execution_count": 444,
   "metadata": {},
   "outputs": [
    {
     "data": {
      "text/plain": [
       "['Hello All\\n', 'Good Morning\\n', '\\n', 'Welcome to the session\\n']"
      ]
     },
     "execution_count": 444,
     "metadata": {},
     "output_type": "execute_result"
    }
   ],
   "source": [
    "#Return all the lines in a list, if all lines are done, it will return empty list\n",
    "file.readlines()"
   ]
  },
  {
   "cell_type": "code",
   "execution_count": 33,
   "metadata": {},
   "outputs": [],
   "source": [
    "#Append Data to a File\n",
    "f=open(\"test.txt\", \"a+\")\n",
    "for i in range(2):\n",
    "     f.write(\"New line %d\\r\\n\" % (i+1))\n",
    "f.close()"
   ]
  },
  {
   "cell_type": "code",
   "execution_count": 446,
   "metadata": {},
   "outputs": [
    {
     "name": "stdout",
     "output_type": "stream",
     "text": [
      "Hello All\n",
      "\n",
      "Welcome to Verzeo online machine learning internship program\n",
      "\n",
      "This course will help u in learning ML\n",
      "\n",
      "Happy learning!\n",
      "\n",
      "New line 1\n",
      "\n",
      "\n",
      "\n",
      "New line 2\n",
      "\n",
      "\n",
      "\n",
      "New line 1\n",
      "\n",
      "\n",
      "\n",
      "New line 2\n",
      "\n",
      "\n",
      "\n",
      "New line 1\n",
      "\n",
      "\n",
      "\n",
      "New line 2\n",
      "\n",
      "\n",
      "\n"
     ]
    }
   ],
   "source": [
    "with open('test.txt') as f1:\n",
    "    for line in f1:\n",
    "        print(line)"
   ]
  },
  {
   "cell_type": "code",
   "execution_count": 447,
   "metadata": {},
   "outputs": [
    {
     "name": "stdout",
     "output_type": "stream",
     "text": [
      "This is line 1\n",
      "\n",
      "This is line 2\n",
      "\n",
      "This is line 3\n",
      "\n",
      "This is line 4\n",
      "\n",
      "This is line 5\n",
      "\n",
      "This is line 6\n",
      "\n",
      "This is line 7\n",
      "\n",
      "This is line 8\n",
      "\n",
      "This is line 9\n",
      "\n",
      "This is line 10\n",
      "\n",
      "\n"
     ]
    }
   ],
   "source": [
    "def main():\n",
    "    f= open(\"my_file.txt\",\"w+\")\n",
    "    for i in range(10):\n",
    "         f.write(\"This is line %d\\r\\n\" % (i+1))\n",
    "    f.close()\n",
    "    #Open the file back and read the contents\n",
    "    f=open(\"my_file.txt\", \"r\")\n",
    "    if f.mode == 'r':\n",
    "        contents =f.read()\n",
    "        print (contents)\n",
    "    #or, readlines reads the individual line into a list\n",
    "    fl =f.readlines()\n",
    "    for x in fl:\n",
    "        print(x)\n",
    "if __name__== \"__main__\":\n",
    "  main()"
   ]
  },
  {
   "cell_type": "code",
   "execution_count": null,
   "metadata": {},
   "outputs": [],
   "source": [
    "#List of file functions\n",
    "# close()          : Close an open file. It has no effect if the file is already closed.\n",
    "# detach()         : Separate the underlying binary buffer from the TextIOBase and return it.\n",
    "# fileno()         : Return an integer number (file descriptor) of the file.\n",
    "# flush()          : Flush the write buffer of the file stream.\n",
    "# isatty()         : Return True if the file stream is interactive.\n",
    "# read(n)          : Read atmost n characters form the file. Reads till end of file if it is negative or None.\n",
    "# readable()       : Returns True if the file stream can be read from.\n",
    "# readline(n=-1)   : Read and return one line from the file. Reads in at most n bytes if specified.\n",
    "# readlines(n=-1)  : Read and return a list of lines from the file. Reads in at most n bytes/characters if specified.\n",
    "# seek(offset,from=SEEK_SET) : Change the file position to offset bytes, in reference to from (start, current, end).\n",
    "# seekable()       : Returns True if the file stream supports random access.\n",
    "# tell()           : Returns the current file location.\n",
    "# truncate(size=None) : Resize the file stream to size bytes. If size is not specified, resize to current location.\n",
    "# writable()       : Returns True if the file stream can be written to.\n",
    "# write(s)         : Write string s to the file and return the number of characters written.\n",
    "# writelines(lines) : Write a list of lines to the file."
   ]
  },
  {
   "cell_type": "markdown",
   "metadata": {},
   "source": [
    "<h2>How to read data from csv</h2>"
   ]
  },
  {
   "cell_type": "markdown",
   "metadata": {},
   "source": [
    "<b>What Is a CSV File?</b>\n",
    "\n",
    "A CSV file (Comma Separated Values file) is a type of plain text file that uses specific structuring to arrange tabular data. Because it’s a plain text file, it can contain only actual text data—in other words, printable ASCII or Unicode characters.\n",
    "\n",
    "The structure of a CSV file is given away by its name. Normally, CSV files use a comma to separate each specific data value."
   ]
  },
  {
   "cell_type": "code",
   "execution_count": 448,
   "metadata": {},
   "outputs": [
    {
     "data": {
      "text/html": [
       "<div>\n",
       "<style scoped>\n",
       "    .dataframe tbody tr th:only-of-type {\n",
       "        vertical-align: middle;\n",
       "    }\n",
       "\n",
       "    .dataframe tbody tr th {\n",
       "        vertical-align: top;\n",
       "    }\n",
       "\n",
       "    .dataframe thead th {\n",
       "        text-align: right;\n",
       "    }\n",
       "</style>\n",
       "<table border=\"1\" class=\"dataframe\">\n",
       "  <thead>\n",
       "    <tr style=\"text-align: right;\">\n",
       "      <th></th>\n",
       "      <th>ID</th>\n",
       "      <th>first_name</th>\n",
       "      <th>company</th>\n",
       "      <th>salary</th>\n",
       "    </tr>\n",
       "  </thead>\n",
       "  <tbody>\n",
       "    <tr>\n",
       "      <th>0</th>\n",
       "      <td>11</td>\n",
       "      <td>David</td>\n",
       "      <td>Aon</td>\n",
       "      <td>74</td>\n",
       "    </tr>\n",
       "    <tr>\n",
       "      <th>1</th>\n",
       "      <td>12</td>\n",
       "      <td>Jamie</td>\n",
       "      <td>TCS</td>\n",
       "      <td>76</td>\n",
       "    </tr>\n",
       "    <tr>\n",
       "      <th>2</th>\n",
       "      <td>13</td>\n",
       "      <td>Steve</td>\n",
       "      <td>Google</td>\n",
       "      <td>96</td>\n",
       "    </tr>\n",
       "    <tr>\n",
       "      <th>3</th>\n",
       "      <td>14</td>\n",
       "      <td>Stevart</td>\n",
       "      <td>RBS</td>\n",
       "      <td>71</td>\n",
       "    </tr>\n",
       "    <tr>\n",
       "      <th>4</th>\n",
       "      <td>15</td>\n",
       "      <td>John</td>\n",
       "      <td>HCL</td>\n",
       "      <td>78</td>\n",
       "    </tr>\n",
       "  </tbody>\n",
       "</table>\n",
       "</div>"
      ],
      "text/plain": [
       "   ID first_name company  salary\n",
       "0  11      David     Aon      74\n",
       "1  12      Jamie     TCS      76\n",
       "2  13      Steve  Google      96\n",
       "3  14    Stevart     RBS      71\n",
       "4  15       John     HCL      78"
      ]
     },
     "execution_count": 448,
     "metadata": {},
     "output_type": "execute_result"
    }
   ],
   "source": [
    "#For example , this is the table data\n",
    "mydt"
   ]
  },
  {
   "cell_type": "code",
   "execution_count": null,
   "metadata": {},
   "outputs": [],
   "source": [
    "#You want to represent above table data in a csv format as below\n",
    "\n",
    "ID,first_name,company,salary\n",
    "11,David,Aon,74\n",
    "12,Jamie,TCS,76\n",
    "13,Steve,Google,96\n",
    "14,Stevart,RBS,71\n",
    "15,John,HCL,78\n",
    "\n",
    "#In general, the separator character is called a delimiter, and the comma is not the only one used. \n",
    "#Other popular delimiters include the tab (\\t), colon (:) and semi-colon (;) characters. \n",
    "#Properly parsing a CSV file requires us to know which delimiter is being used."
   ]
  },
  {
   "cell_type": "markdown",
   "metadata": {},
   "source": [
    "<h3>Using Built-in CSV Library to parse CSV files</h3>"
   ]
  },
  {
   "cell_type": "code",
   "execution_count": 205,
   "metadata": {},
   "outputs": [
    {
     "name": "stdout",
     "output_type": "stream",
     "text": [
      "Column names are Region, Country, Item Type, Sales Channel, Order Priority, Order Date, Order ID, Ship Date, Units Sold, Unit Price, Unit Cost, Total Revenue, Total Cost, Total Profit\n",
      "Region:Australia and Oceania--Country:Tuvalu--Item Type:Baby Food--Order Date:5/28/2010--Total Profit:1582243.50 \n",
      "\n",
      "Region:Central America and the Caribbean--Country:Grenada--Item Type:Cereal--Order Date:8/22/2012--Total Profit:328376.44 \n",
      "\n",
      "Region:Europe--Country:Russia--Item Type:Office Supplies--Order Date:5/2/2014--Total Profit:933903.84 \n",
      "\n",
      "Region:Sub-Saharan Africa--Country:Sao Tome and Principe--Item Type:Fruits--Order Date:6/20/2014--Total Profit:56065.84 \n",
      "\n",
      "Region:Sub-Saharan Africa--Country:Rwanda--Item Type:Office Supplies--Order Date:2/1/2013--Total Profit:2657347.52 \n",
      "\n",
      "Region:Australia and Oceania--Country:Solomon Islands--Item Type:Baby Food--Order Date:2/4/2015--Total Profit:474115.08 \n",
      "\n",
      "Region:Sub-Saharan Africa--Country:Angola--Item Type:Household--Order Date:4/23/2011--Total Profit:2104134.98 \n",
      "\n",
      "Region:Sub-Saharan Africa--Country:Burkina Faso--Item Type:Vegetables--Order Date:7/17/2012--Total Profit:734896.26 \n",
      "\n",
      "Region:Sub-Saharan Africa--Country:Republic of the Congo--Item Type:Personal Care--Order Date:7/14/2015--Total Profit:343986.90 \n",
      "\n",
      "Region:Sub-Saharan Africa--Country:Senegal--Item Type:Cereal--Order Date:4/18/2014--Total Profit:772106.23 \n",
      "\n",
      "Region:Asia--Country:Kyrgyzstan--Item Type:Vegetables--Order Date:6/24/2011--Total Profit:11275.32 \n",
      "\n",
      "Region:Sub-Saharan Africa--Country:Cape Verde--Item Type:Clothes--Order Date:8/2/2014--Total Profit:149381.12 \n",
      "\n",
      "Region:Asia--Country:Bangladesh--Item Type:Clothes--Order Date:1/13/2017--Total Profit:296145.92 \n",
      "\n",
      "Region:Central America and the Caribbean--Country:Honduras--Item Type:Household--Order Date:2/8/2017--Total Profit:4509793.96 \n",
      "\n",
      "Region:Asia--Country:Mongolia--Item Type:Personal Care--Order Date:2/19/2014--Total Profit:277739.67 \n",
      "\n",
      "Region:Europe--Country:Bulgaria--Item Type:Clothes--Order Date:4/23/2012--Total Profit:59960.32 \n",
      "\n",
      "Region:Asia--Country:Sri Lanka--Item Type:Cosmetics--Order Date:11/19/2016--Total Profit:1830670.16 \n",
      "\n",
      "Region:Sub-Saharan Africa--Country:Cameroon--Item Type:Beverages--Order Date:4/1/2015--Total Profit:172619.70 \n",
      "\n",
      "Region:Asia--Country:Turkmenistan--Item Type:Household--Order Date:12/30/2010--Total Profit:1924728.20 \n",
      "\n",
      "Region:Australia and Oceania--Country:East Timor--Item Type:Meat--Order Date:7/31/2012--Total Profit:2154588.52 \n",
      "\n",
      "Region:Europe--Country:Norway--Item Type:Baby Food--Order Date:5/14/2014--Total Profit:1187679.00 \n",
      "\n",
      "Region:Europe--Country:Portugal--Item Type:Baby Food--Order Date:7/31/2015--Total Profit:202941.66 \n",
      "\n",
      "Region:Central America and the Caribbean--Country:Honduras--Item Type:Snacks--Order Date:6/30/2016--Total Profit:216804.00 \n",
      "\n",
      "Region:Australia and Oceania--Country:New Zealand--Item Type:Fruits--Order Date:9/8/2014--Total Profit:15134.04 \n",
      "\n",
      "Region:Europe--Country:Moldova --Item Type:Personal Care--Order Date:5/7/2016--Total Profit:287316.90 \n",
      "\n",
      "Region:Europe--Country:France--Item Type:Cosmetics--Order Date:5/22/2017--Total Profit:477943.95 \n",
      "\n",
      "Region:Australia and Oceania--Country:Kiribati--Item Type:Fruits--Order Date:10/13/2014--Total Profit:37354.16 \n",
      "\n",
      "Region:Sub-Saharan Africa--Country:Mali--Item Type:Fruits--Order Date:5/7/2010--Total Profit:40288.24 \n",
      "\n",
      "Region:Europe--Country:Norway--Item Type:Beverages--Order Date:7/18/2014--Total Profit:162891.96 \n",
      "\n",
      "Region:Sub-Saharan Africa--Country:The Gambia--Item Type:Household--Order Date:5/26/2012--Total Profit:1191019.80 \n",
      "\n",
      "Region:Europe--Country:Switzerland--Item Type:Cosmetics--Order Date:9/17/2012--Total Profit:2280701.13 \n",
      "\n",
      "Region:Sub-Saharan Africa--Country:South Sudan--Item Type:Personal Care--Order Date:12/29/2013--Total Profit:120423.75 \n",
      "\n",
      "Region:Australia and Oceania--Country:Australia--Item Type:Office Supplies--Order Date:10/27/2015--Total Profit:1534983.04 \n",
      "\n",
      "Region:Asia--Country:Myanmar--Item Type:Household--Order Date:1/16/2015--Total Profit:4145955.00 \n",
      "\n",
      "Region:Sub-Saharan Africa--Country:Djibouti--Item Type:Snacks--Order Date:2/25/2017--Total Profit:713942.88 \n",
      "\n",
      "Region:Central America and the Caribbean--Country:Costa Rica--Item Type:Personal Care--Order Date:5/8/2017--Total Profit:363198.03 \n",
      "\n",
      "Region:Middle East and North Africa--Country:Syria--Item Type:Fruits--Order Date:11/22/2011--Total Profit:26185.28 \n",
      "\n",
      "Region:Sub-Saharan Africa--Country:The Gambia--Item Type:Meat--Order Date:1/14/2017--Total Profit:1738477.23 \n",
      "\n",
      "Region:Asia--Country:Brunei--Item Type:Office Supplies--Order Date:4/1/2012--Total Profit:3521431.68 \n",
      "\n",
      "Region:Europe--Country:Bulgaria--Item Type:Office Supplies--Order Date:2/16/2012--Total Profit:2093015.52 \n",
      "\n",
      "Region:Sub-Saharan Africa--Country:Niger--Item Type:Personal Care--Order Date:3/11/2017--Total Profit:170860.05 \n",
      "\n",
      "Region:Middle East and North Africa--Country:Azerbaijan--Item Type:Cosmetics--Order Date:2/6/2010--Total Profit:1904929.22 \n",
      "\n",
      "Region:Sub-Saharan Africa--Country:The Gambia--Item Type:Cereal--Order Date:6/7/2012--Total Profit:247921.87 \n",
      "\n",
      "Region:Europe--Country:Slovakia--Item Type:Vegetables--Order Date:10/6/2012--Total Profit:15549.03 \n",
      "\n",
      "Region:Asia--Country:Myanmar--Item Type:Clothes--Order Date:11/14/2015--Total Profit:212531.20 \n",
      "\n",
      "Region:Sub-Saharan Africa--Country:Comoros--Item Type:Cereal--Order Date:3/29/2016--Total Profit:112659.82 \n",
      "\n",
      "Region:Europe--Country:Iceland--Item Type:Cosmetics--Order Date:12/31/2016--Total Profit:2334947.11 \n",
      "\n",
      "Region:Europe--Country:Switzerland--Item Type:Personal Care--Order Date:12/23/2010--Total Profit:15470.91 \n",
      "\n",
      "Region:Europe--Country:Macedonia--Item Type:Clothes--Order Date:10/14/2014--Total Profit:281057.28 \n",
      "\n",
      "Region:Sub-Saharan Africa--Country:Mauritania--Item Type:Office Supplies--Order Date:1/11/2012--Total Profit:664599.36 \n",
      "\n",
      "Region:Europe--Country:Albania--Item Type:Clothes--Order Date:2/2/2010--Total Profit:81320.96 \n",
      "\n",
      "Region:Sub-Saharan Africa--Country:Lesotho--Item Type:Fruits--Order Date:8/18/2013--Total Profit:66473.52 \n",
      "\n",
      "Region:Middle East and North Africa--Country:Saudi Arabia--Item Type:Cereal--Order Date:3/25/2013--Total Profit:475817.93 \n",
      "\n",
      "Region:Sub-Saharan Africa--Country:Sierra Leone--Item Type:Office Supplies--Order Date:11/26/2011--Total Profit:1814786.72 \n",
      "\n",
      "Region:Sub-Saharan Africa--Country:Sao Tome and Principe--Item Type:Fruits--Order Date:9/17/2013--Total Profit:52848.04 \n",
      "\n",
      "Region:Sub-Saharan Africa--Country:Cote d'Ivoire--Item Type:Clothes--Order Date:6/8/2012--Total Profit:124794.88 \n",
      "\n",
      "Region:Australia and Oceania--Country:Fiji--Item Type:Clothes--Order Date:6/30/2010--Total Profit:354995.20 \n",
      "\n",
      "Region:Europe--Country:Austria--Item Type:Cosmetics--Order Date:2/23/2015--Total Profit:749700.51 \n",
      "\n",
      "Region:Europe--Country:United Kingdom--Item Type:Household--Order Date:1/5/2012--Total Profit:141716.28 \n",
      "\n",
      "Region:Sub-Saharan Africa--Country:Djibouti--Item Type:Cosmetics--Order Date:4/7/2014--Total Profit:1899925.95 \n",
      "\n",
      "Region:Australia and Oceania--Country:Australia--Item Type:Cereal--Order Date:6/9/2013--Total Profit:79869.02 \n",
      "\n",
      "Region:Europe--Country:San Marino--Item Type:Baby Food--Order Date:6/26/2013--Total Profit:757245.00 \n",
      "\n",
      "Region:Sub-Saharan Africa--Country:Cameroon--Item Type:Office Supplies--Order Date:11/7/2011--Total Profit:2896729.28 \n",
      "\n",
      "Region:Middle East and North Africa--Country:Libya--Item Type:Clothes--Order Date:10/30/2010--Total Profit:219197.44 \n",
      "\n",
      "Region:Central America and the Caribbean--Country:Haiti--Item Type:Cosmetics--Order Date:10/13/2013--Total Profit:448977.65 \n",
      "\n",
      "Region:Sub-Saharan Africa--Country:Rwanda--Item Type:Cosmetics--Order Date:10/11/2013--Total Profit:1178928.41 \n",
      "\n",
      "Region:Sub-Saharan Africa--Country:Gabon--Item Type:Personal Care--Order Date:7/8/2012--Total Profit:490535.52 \n",
      "\n",
      "Region:Central America and the Caribbean--Country:Belize--Item Type:Clothes--Order Date:7/25/2016--Total Profit:197048.32 \n",
      "\n",
      "Region:Europe--Country:Lithuania--Item Type:Office Supplies--Order Date:10/24/2010--Total Profit:4350343.52 \n",
      "\n",
      "Region:Sub-Saharan Africa--Country:Madagascar--Item Type:Clothes--Order Date:4/25/2015--Total Profit:263137.28 \n",
      "\n",
      "Region:Asia--Country:Turkmenistan--Item Type:Office Supplies--Order Date:4/23/2013--Total Profit:2630049.60 \n",
      "\n",
      "Region:Middle East and North Africa--Country:Libya--Item Type:Fruits--Order Date:8/14/2015--Total Profit:4657.16 \n",
      "\n",
      "Region:Sub-Saharan Africa--Country:Democratic Republic of the Congo--Item Type:Beverages--Order Date:5/26/2011--Total Profit:182506.39 \n",
      "\n",
      "Region:Sub-Saharan Africa--Country:Djibouti--Item Type:Cereal--Order Date:5/20/2017--Total Profit:1013704.16 \n",
      "\n",
      "Region:Middle East and North Africa--Country:Pakistan--Item Type:Cosmetics--Order Date:7/5/2013--Total Profit:2604860.36 \n",
      "\n",
      "Region:North America--Country:Mexico--Item Type:Household--Order Date:11/6/2014--Total Profit:3494663.16 \n",
      "\n",
      "Region:Australia and Oceania--Country:Federated States of Micronesia--Item Type:Beverages--Order Date:10/28/2014--Total Profit:298158.41 \n",
      "\n",
      "Region:Asia--Country:Laos--Item Type:Vegetables--Order Date:9/15/2011--Total Profit:339350.76 \n",
      "\n",
      "Region:Europe--Country:Monaco--Item Type:Baby Food--Order Date:5/29/2012--Total Profit:1373243.88 \n",
      "\n",
      "Region:Australia and Oceania--Country:Samoa --Item Type:Cosmetics--Order Date:7/20/2013--Total Profit:2542187.82 \n",
      "\n",
      "Region:Europe--Country:Spain--Item Type:Household--Order Date:10/21/2012--Total Profit:2267963.02 \n",
      "\n",
      "Region:Middle East and North Africa--Country:Lebanon--Item Type:Clothes--Order Date:9/18/2012--Total Profit:282562.56 \n",
      "\n",
      "Region:Middle East and North Africa--Country:Iran--Item Type:Cosmetics--Order Date:11/15/2016--Total Profit:1708748.37 \n",
      "\n",
      "Region:Sub-Saharan Africa--Country:Zambia--Item Type:Snacks--Order Date:1/4/2011--Total Profit:398042.40 \n",
      "\n",
      "Region:Sub-Saharan Africa--Country:Kenya--Item Type:Vegetables--Order Date:3/18/2012--Total Profit:587135.01 \n",
      "\n",
      "Region:North America--Country:Mexico--Item Type:Personal Care--Order Date:2/17/2012--Total Profit:363934.74 \n",
      "\n",
      "Region:Sub-Saharan Africa--Country:Sao Tome and Principe--Item Type:Beverages--Order Date:1/16/2011--Total Profit:280673.91 \n",
      "\n",
      "Region:Sub-Saharan Africa--Country:The Gambia--Item Type:Baby Food--Order Date:2/3/2014--Total Profit:886215.78 \n",
      "\n",
      "Region:Middle East and North Africa--Country:Kuwait--Item Type:Fruits--Order Date:4/30/2012--Total Profit:3612.24 \n",
      "\n",
      "Region:Europe--Country:Slovenia--Item Type:Beverages--Order Date:10/23/2016--Total Profit:148141.40 \n",
      "\n",
      "Region:Sub-Saharan Africa--Country:Sierra Leone--Item Type:Office Supplies--Order Date:12/6/2016--Total Profit:497662.08 \n",
      "\n",
      "Region:Australia and Oceania--Country:Australia--Item Type:Beverages--Order Date:7/7/2014--Total Profit:298476.31 \n",
      "\n",
      "Region:Middle East and North Africa--Country:Azerbaijan--Item Type:Office Supplies--Order Date:6/13/2012--Total Profit:1060944.16 \n",
      "\n",
      "Region:Europe--Country:Romania--Item Type:Cosmetics--Order Date:11/26/2010--Total Profit:2082940.30 \n",
      "\n",
      "Region:Central America and the Caribbean--Country:Nicaragua--Item Type:Beverages--Order Date:2/8/2011--Total Profit:259279.24 \n",
      "\n",
      "Region:Sub-Saharan Africa--Country:Mali--Item Type:Clothes--Order Date:7/26/2011--Total Profit:31825.92 \n",
      "\n",
      "Region:Asia--Country:Malaysia--Item Type:Fruits--Order Date:11/11/2011--Total Profit:43367.64 \n",
      "\n",
      "Region:Sub-Saharan Africa--Country:Sierra Leone--Item Type:Vegetables--Order Date:6/1/2016--Total Profit:135031.05 \n",
      "\n",
      "Region:North America--Country:Mexico--Item Type:Personal Care--Order Date:7/30/2015--Total Profit:326815.89 \n",
      "\n",
      "Region:Sub-Saharan Africa--Country:Mozambique--Item Type:Household--Order Date:2/10/2012--Total Profit:2697132.18 \n",
      "\n",
      "Processed 101 lines.\n"
     ]
    }
   ],
   "source": [
    "import csv\n",
    "with open('100 Sales Records.csv') as csv_file:\n",
    "    csv_reader = csv.reader(csv_file, delimiter=',')\n",
    "    line_count = 0\n",
    "    for row in csv_reader:\n",
    "        if line_count == 0:\n",
    "            print(f'Column names are {\", \".join(row)}')\n",
    "            line_count += 1\n",
    "        else:\n",
    "            print(f'''Region:{row[0]}--Country:{row[1]}--Item Type:{row[2]}--Order Date:{row[5]}--Total Profit:{row[12]} \\n''')\n",
    "            line_count += 1\n",
    "    print(f'Processed {line_count} lines.')"
   ]
  },
  {
   "cell_type": "code",
   "execution_count": 210,
   "metadata": {},
   "outputs": [
    {
     "name": "stdout",
     "output_type": "stream",
     "text": [
      "Column names are Region, Country, Item Type, Sales Channel, Order Priority, Order Date, Order ID, Ship Date, Units Sold, Unit Price, Unit Cost, Total Revenue, Total Cost, Total Profit\n",
      "Region:Australia and Oceania--Country:Tuvalu--Item Type:Baby Food--Order Date:5/28/2010--Total Profit:951410.50 \n",
      "\n",
      "Region:Central America and the Caribbean--Country:Grenada--Item Type:Cereal--Order Date:8/22/2012--Total Profit:248406.36 \n",
      "\n",
      "Region:Europe--Country:Russia--Item Type:Office Supplies--Order Date:5/2/2014--Total Profit:224598.75 \n",
      "\n",
      "Region:Sub-Saharan Africa--Country:Sao Tome and Principe--Item Type:Fruits--Order Date:6/20/2014--Total Profit:19525.82 \n",
      "\n",
      "Region:Sub-Saharan Africa--Country:Rwanda--Item Type:Office Supplies--Order Date:2/1/2013--Total Profit:639077.50 \n",
      "\n",
      "Region:Australia and Oceania--Country:Solomon Islands--Item Type:Baby Food--Order Date:2/4/2015--Total Profit:285087.64 \n",
      "\n",
      "Region:Sub-Saharan Africa--Country:Angola--Item Type:Household--Order Date:4/23/2011--Total Profit:693911.51 \n",
      "\n",
      "Region:Sub-Saharan Africa--Country:Burkina Faso--Item Type:Vegetables--Order Date:7/17/2012--Total Profit:510216.66 \n",
      "\n",
      "Region:Sub-Saharan Africa--Country:Republic of the Congo--Item Type:Personal Care--Order Date:7/14/2015--Total Profit:152114.20 \n",
      "\n",
      "Region:Sub-Saharan Africa--Country:Senegal--Item Type:Cereal--Order Date:4/18/2014--Total Profit:584073.87 \n",
      "\n",
      "Region:Asia--Country:Kyrgyzstan--Item Type:Vegetables--Order Date:6/24/2011--Total Profit:7828.12 \n",
      "\n",
      "Region:Sub-Saharan Africa--Country:Cape Verde--Item Type:Clothes--Order Date:8/2/2014--Total Profit:306097.92 \n",
      "\n",
      "Region:Asia--Country:Bangladesh--Item Type:Clothes--Order Date:1/13/2017--Total Profit:606834.72 \n",
      "\n",
      "Region:Central America and the Caribbean--Country:Honduras--Item Type:Household--Order Date:2/8/2017--Total Profit:1487261.02 \n",
      "\n",
      "Region:Asia--Country:Mongolia--Item Type:Personal Care--Order Date:2/19/2014--Total Profit:122819.06 \n",
      "\n",
      "Region:Europe--Country:Bulgaria--Item Type:Clothes--Order Date:4/23/2012--Total Profit:122865.12 \n",
      "\n",
      "Region:Asia--Country:Sri Lanka--Item Type:Cosmetics--Order Date:11/19/2016--Total Profit:1208744.24 \n",
      "\n",
      "Region:Sub-Saharan Africa--Country:Cameroon--Item Type:Beverages--Order Date:4/1/2015--Total Profit:85033.80 \n",
      "\n",
      "Region:Asia--Country:Turkmenistan--Item Type:Household--Order Date:12/30/2010--Total Profit:634745.90 \n",
      "\n",
      "Region:Australia and Oceania--Country:East Timor--Item Type:Meat--Order Date:7/31/2012--Total Profit:337937.60 \n",
      "\n",
      "Region:Europe--Country:Norway--Item Type:Baby Food--Order Date:5/14/2014--Total Profit:714157.00 \n",
      "\n",
      "Region:Europe--Country:Portugal--Item Type:Baby Food--Order Date:7/31/2015--Total Profit:122029.78 \n",
      "\n",
      "Region:Central America and the Caribbean--Country:Honduras--Item Type:Snacks--Order Date:6/30/2016--Total Profit:122686.50 \n",
      "\n",
      "Region:Australia and Oceania--Country:New Zealand--Item Type:Fruits--Order Date:9/8/2014--Total Profit:5270.67 \n",
      "\n",
      "Region:Europe--Country:Moldova --Item Type:Personal Care--Order Date:5/7/2016--Total Profit:127054.20 \n",
      "\n",
      "Region:Europe--Country:France--Item Type:Cosmetics--Order Date:5/22/2017--Total Profit:315574.05 \n",
      "\n",
      "Region:Australia and Oceania--Country:Kiribati--Item Type:Fruits--Order Date:10/13/2014--Total Profit:13009.18 \n",
      "\n",
      "Region:Sub-Saharan Africa--Country:Mali--Item Type:Fruits--Order Date:5/7/2010--Total Profit:14031.02 \n",
      "\n",
      "Region:Europe--Country:Norway--Item Type:Beverages--Order Date:7/18/2014--Total Profit:80241.84 \n",
      "\n",
      "Region:Sub-Saharan Africa--Country:The Gambia--Item Type:Household--Order Date:5/26/2012--Total Profit:392780.10 \n",
      "\n",
      "Region:Europe--Country:Switzerland--Item Type:Cosmetics--Order Date:9/17/2012--Total Profit:1505888.07 \n",
      "\n",
      "Region:Sub-Saharan Africa--Country:South Sudan--Item Type:Personal Care--Order Date:12/29/2013--Total Profit:53252.50 \n",
      "\n",
      "Region:Australia and Oceania--Country:Australia--Item Type:Office Supplies--Order Date:10/27/2015--Total Profit:369155.00 \n",
      "\n",
      "Region:Asia--Country:Myanmar--Item Type:Household--Order Date:1/16/2015--Total Profit:1367272.50 \n",
      "\n",
      "Region:Sub-Saharan Africa--Country:Djibouti--Item Type:Snacks--Order Date:2/25/2017--Total Profit:404010.78 \n",
      "\n",
      "Region:Central America and the Caribbean--Country:Costa Rica--Item Type:Personal Care--Order Date:5/8/2017--Total Profit:160609.54 \n",
      "\n",
      "Region:Middle East and North Africa--Country:Syria--Item Type:Fruits--Order Date:11/22/2011--Total Profit:9119.44 \n",
      "\n",
      "Region:Sub-Saharan Africa--Country:The Gambia--Item Type:Meat--Order Date:1/14/2017--Total Profit:272672.40 \n",
      "\n",
      "Region:Asia--Country:Brunei--Item Type:Office Supplies--Order Date:4/1/2012--Total Profit:846885.00 \n",
      "\n",
      "Region:Europe--Country:Bulgaria--Item Type:Office Supplies--Order Date:2/16/2012--Total Profit:503358.75 \n",
      "\n",
      "Region:Sub-Saharan Africa--Country:Niger--Item Type:Personal Care--Order Date:3/11/2017--Total Profit:75555.90 \n",
      "\n",
      "Region:Middle East and North Africa--Country:Azerbaijan--Item Type:Cosmetics--Order Date:2/6/2010--Total Profit:1257775.58 \n",
      "\n",
      "Region:Sub-Saharan Africa--Country:The Gambia--Item Type:Cereal--Order Date:6/7/2012--Total Profit:187545.03 \n",
      "\n",
      "Region:Europe--Country:Slovakia--Item Type:Vegetables--Order Date:10/6/2012--Total Profit:10795.23 \n",
      "\n",
      "Region:Asia--Country:Myanmar--Item Type:Clothes--Order Date:11/14/2015--Total Profit:435499.20 \n",
      "\n",
      "Region:Sub-Saharan Africa--Country:Comoros--Item Type:Cereal--Order Date:3/29/2016--Total Profit:85223.58 \n",
      "\n",
      "Region:Europe--Country:Iceland--Item Type:Cosmetics--Order Date:12/31/2016--Total Profit:1541705.29 \n",
      "\n",
      "Region:Europe--Country:Switzerland--Item Type:Personal Care--Order Date:12/23/2010--Total Profit:6841.38 \n",
      "\n",
      "Region:Europe--Country:Macedonia--Item Type:Clothes--Order Date:10/14/2014--Total Profit:575916.48 \n",
      "\n",
      "Region:Sub-Saharan Africa--Country:Mauritania--Item Type:Office Supplies--Order Date:1/11/2012--Total Profit:159832.50 \n",
      "\n",
      "Region:Europe--Country:Albania--Item Type:Clothes--Order Date:2/2/2010--Total Profit:166635.36 \n",
      "\n",
      "Region:Sub-Saharan Africa--Country:Lesotho--Item Type:Fruits--Order Date:8/18/2013--Total Profit:23150.46 \n",
      "\n",
      "Region:Middle East and North Africa--Country:Saudi Arabia--Item Type:Cereal--Order Date:3/25/2013--Total Profit:359941.17 \n",
      "\n",
      "Region:Sub-Saharan Africa--Country:Sierra Leone--Item Type:Office Supplies--Order Date:11/26/2011--Total Profit:436446.25 \n",
      "\n",
      "Region:Sub-Saharan Africa--Country:Sao Tome and Principe--Item Type:Fruits--Order Date:9/17/2013--Total Profit:18405.17 \n",
      "\n",
      "Region:Sub-Saharan Africa--Country:Cote d'Ivoire--Item Type:Clothes--Order Date:6/8/2012--Total Profit:255718.08 \n",
      "\n",
      "Region:Australia and Oceania--Country:Fiji--Item Type:Clothes--Order Date:6/30/2010--Total Profit:727423.20 \n",
      "\n",
      "Region:Europe--Country:Austria--Item Type:Cosmetics--Order Date:2/23/2015--Total Profit:495007.89 \n",
      "\n",
      "Region:Europe--Country:United Kingdom--Item Type:Household--Order Date:1/5/2012--Total Profit:46735.86 \n",
      "\n",
      "Region:Sub-Saharan Africa--Country:Djibouti--Item Type:Cosmetics--Order Date:4/7/2014--Total Profit:1254472.05 \n",
      "\n",
      "Region:Australia and Oceania--Country:Australia--Item Type:Cereal--Order Date:6/9/2013--Total Profit:60418.38 \n",
      "\n",
      "Region:Europe--Country:San Marino--Item Type:Baby Food--Order Date:6/26/2013--Total Profit:455335.00 \n",
      "\n",
      "Region:Sub-Saharan Africa--Country:Cameroon--Item Type:Office Supplies--Order Date:11/7/2011--Total Profit:696647.50 \n",
      "\n",
      "Region:Middle East and North Africa--Country:Libya--Item Type:Clothes--Order Date:10/30/2010--Total Profit:449159.04 \n",
      "\n",
      "Region:Central America and the Caribbean--Country:Haiti--Item Type:Cosmetics--Order Date:10/13/2013--Total Profit:296448.35 \n",
      "\n",
      "Region:Sub-Saharan Africa--Country:Rwanda--Item Type:Cosmetics--Order Date:10/11/2013--Total Profit:778415.99 \n",
      "\n",
      "Region:Sub-Saharan Africa--Country:Gabon--Item Type:Personal Care--Order Date:7/8/2012--Total Profit:216919.36 \n",
      "\n",
      "Region:Central America and the Caribbean--Country:Belize--Item Type:Clothes--Order Date:7/25/2016--Total Profit:403773.12 \n",
      "\n",
      "Region:Europe--Country:Lithuania--Item Type:Office Supplies--Order Date:10/24/2010--Total Profit:1046233.75 \n",
      "\n",
      "Region:Sub-Saharan Africa--Country:Madagascar--Item Type:Clothes--Order Date:4/25/2015--Total Profit:539196.48 \n",
      "\n",
      "Region:Asia--Country:Turkmenistan--Item Type:Office Supplies--Order Date:4/23/2013--Total Profit:632512.50 \n",
      "\n",
      "Region:Middle East and North Africa--Country:Libya--Item Type:Fruits--Order Date:8/14/2015--Total Profit:1621.93 \n",
      "\n",
      "Region:Sub-Saharan Africa--Country:Democratic Republic of the Congo--Item Type:Beverages--Order Date:5/26/2011--Total Profit:89904.06 \n",
      "\n",
      "Region:Sub-Saharan Africa--Country:Djibouti--Item Type:Cereal--Order Date:5/20/2017--Total Profit:766835.04 \n",
      "\n",
      "Region:Middle East and North Africa--Country:Pakistan--Item Type:Cosmetics--Order Date:7/5/2013--Total Profit:1719922.04 \n",
      "\n",
      "Region:North America--Country:Mexico--Item Type:Household--Order Date:11/6/2014--Total Profit:1152486.42 \n",
      "\n",
      "Region:Australia and Oceania--Country:Federated States of Micronesia--Item Type:Beverages--Order Date:10/28/2014--Total Profit:146875.14 \n",
      "\n",
      "Region:Asia--Country:Laos--Item Type:Vegetables--Order Date:9/15/2011--Total Profit:235601.16 \n",
      "\n",
      "Region:Europe--Country:Monaco--Item Type:Baby Food--Order Date:5/29/2012--Total Profit:825738.04 \n",
      "\n",
      "Region:Australia and Oceania--Country:Samoa --Item Type:Cosmetics--Order Date:7/20/2013--Total Profit:1678540.98 \n",
      "\n",
      "Region:Europe--Country:Spain--Item Type:Household--Order Date:10/21/2012--Total Profit:747939.49 \n",
      "\n",
      "Region:Middle East and North Africa--Country:Lebanon--Item Type:Clothes--Order Date:9/18/2012--Total Profit:579000.96 \n",
      "\n",
      "Region:Middle East and North Africa--Country:Iran--Item Type:Cosmetics--Order Date:11/15/2016--Total Profit:1128242.43 \n",
      "\n",
      "Region:Sub-Saharan Africa--Country:Zambia--Item Type:Snacks--Order Date:1/4/2011--Total Profit:225246.90 \n",
      "\n",
      "Region:Sub-Saharan Africa--Country:Kenya--Item Type:Vegetables--Order Date:3/18/2012--Total Profit:407630.41 \n",
      "\n",
      "Region:North America--Country:Mexico--Item Type:Personal Care--Order Date:2/17/2012--Total Profit:160935.32 \n",
      "\n",
      "Region:Sub-Saharan Africa--Country:Sao Tome and Principe--Item Type:Beverages--Order Date:1/16/2011--Total Profit:138262.14 \n",
      "\n",
      "Region:Sub-Saharan Africa--Country:The Gambia--Item Type:Baby Food--Order Date:2/3/2014--Total Profit:532885.74 \n",
      "\n",
      "Region:Middle East and North Africa--Country:Kuwait--Item Type:Fruits--Order Date:4/30/2012--Total Profit:1258.02 \n",
      "\n",
      "Region:Europe--Country:Slovenia--Item Type:Beverages--Order Date:10/23/2016--Total Profit:72975.60 \n",
      "\n",
      "Region:Sub-Saharan Africa--Country:Sierra Leone--Item Type:Office Supplies--Order Date:12/6/2016--Total Profit:119685.00 \n",
      "\n",
      "Region:Australia and Oceania--Country:Australia--Item Type:Beverages--Order Date:7/7/2014--Total Profit:147031.74 \n",
      "\n",
      "Region:Middle East and North Africa--Country:Azerbaijan--Item Type:Office Supplies--Order Date:6/13/2012--Total Profit:255151.25 \n",
      "\n",
      "Region:Europe--Country:Romania--Item Type:Cosmetics--Order Date:11/26/2010--Total Profit:1375311.70 \n",
      "\n",
      "Region:Central America and the Caribbean--Country:Nicaragua--Item Type:Beverages--Order Date:2/8/2011--Total Profit:127722.96 \n",
      "\n",
      "Region:Sub-Saharan Africa--Country:Mali--Item Type:Clothes--Order Date:7/26/2011--Total Profit:65214.72 \n",
      "\n",
      "Region:Asia--Country:Malaysia--Item Type:Fruits--Order Date:11/11/2011--Total Profit:15103.47 \n",
      "\n",
      "Region:Sub-Saharan Africa--Country:Sierra Leone--Item Type:Vegetables--Order Date:6/1/2016--Total Profit:93748.05 \n",
      "\n",
      "Region:North America--Country:Mexico--Item Type:Personal Care--Order Date:7/30/2015--Total Profit:144521.02 \n",
      "\n",
      "Region:Sub-Saharan Africa--Country:Mozambique--Item Type:Household--Order Date:2/10/2012--Total Profit:889472.91 \n",
      "\n",
      "Processed 101 lines.\n"
     ]
    }
   ],
   "source": [
    "#Loading csv data into a dictionary\n",
    "import csv\n",
    "with open('100 Sales Records.csv', mode='r') as csv_file:\n",
    "    csv_reader = csv.DictReader(csv_file)\n",
    "    line_count = 0\n",
    "    for row in csv_reader:\n",
    "        if line_count == 0:\n",
    "            print(f'Column names are {\", \".join(row)}')\n",
    "            line_count += 1\n",
    "        print(f'Region:{row[\"Region\"]}--Country:{row[\"Country\"]}--Item Type:{row[\"Item Type\"]}--Order Date:{row[\"Order Date\"]}--Total Profit:{row[\"Total Profit\"]} \\n')\n",
    "        line_count += 1\n",
    "    print(f'Processed {line_count} lines.')"
   ]
  },
  {
   "cell_type": "markdown",
   "metadata": {},
   "source": [
    "The reader object can handle different styles of CSV files by specifying additional parameters, some of which are shown below:\n",
    "\n",
    "-->delimiter specifies the character used to separate each field. The default is the comma (',').\n",
    "\n",
    "-->quotechar specifies the character used to surround fields that contain the delimiter character. The default is a double quote (' \" ').\n",
    "\n",
    "-->escapechar specifies the character used to escape the delimiter character, in case quotes aren’t used. The default is no escape character."
   ]
  },
  {
   "cell_type": "code",
   "execution_count": 213,
   "metadata": {},
   "outputs": [
    {
     "data": {
      "text/html": [
       "<div>\n",
       "<style scoped>\n",
       "    .dataframe tbody tr th:only-of-type {\n",
       "        vertical-align: middle;\n",
       "    }\n",
       "\n",
       "    .dataframe tbody tr th {\n",
       "        vertical-align: top;\n",
       "    }\n",
       "\n",
       "    .dataframe thead th {\n",
       "        text-align: right;\n",
       "    }\n",
       "</style>\n",
       "<table border=\"1\" class=\"dataframe\">\n",
       "  <thead>\n",
       "    <tr style=\"text-align: right;\">\n",
       "      <th></th>\n",
       "      <th>Region</th>\n",
       "      <th>Country</th>\n",
       "      <th>Item Type</th>\n",
       "      <th>Sales Channel</th>\n",
       "      <th>Order Priority</th>\n",
       "      <th>Order Date</th>\n",
       "      <th>Order ID</th>\n",
       "      <th>Ship Date</th>\n",
       "      <th>Units Sold</th>\n",
       "      <th>Unit Price</th>\n",
       "      <th>Unit Cost</th>\n",
       "      <th>Total Revenue</th>\n",
       "      <th>Total Cost</th>\n",
       "      <th>Total Profit</th>\n",
       "    </tr>\n",
       "  </thead>\n",
       "  <tbody>\n",
       "    <tr>\n",
       "      <th>0</th>\n",
       "      <td>Australia and Oceania</td>\n",
       "      <td>Tuvalu</td>\n",
       "      <td>Baby Food</td>\n",
       "      <td>Offline</td>\n",
       "      <td>H</td>\n",
       "      <td>5/28/2010</td>\n",
       "      <td>669165933</td>\n",
       "      <td>6/27/2010</td>\n",
       "      <td>9925</td>\n",
       "      <td>255.28</td>\n",
       "      <td>159.42</td>\n",
       "      <td>2533654.00</td>\n",
       "      <td>1582243.50</td>\n",
       "      <td>951410.50</td>\n",
       "    </tr>\n",
       "    <tr>\n",
       "      <th>1</th>\n",
       "      <td>Central America and the Caribbean</td>\n",
       "      <td>Grenada</td>\n",
       "      <td>Cereal</td>\n",
       "      <td>Online</td>\n",
       "      <td>C</td>\n",
       "      <td>8/22/2012</td>\n",
       "      <td>963881480</td>\n",
       "      <td>9/15/2012</td>\n",
       "      <td>2804</td>\n",
       "      <td>205.70</td>\n",
       "      <td>117.11</td>\n",
       "      <td>576782.80</td>\n",
       "      <td>328376.44</td>\n",
       "      <td>248406.36</td>\n",
       "    </tr>\n",
       "    <tr>\n",
       "      <th>2</th>\n",
       "      <td>Europe</td>\n",
       "      <td>Russia</td>\n",
       "      <td>Office Supplies</td>\n",
       "      <td>Offline</td>\n",
       "      <td>L</td>\n",
       "      <td>5/2/2014</td>\n",
       "      <td>341417157</td>\n",
       "      <td>5/8/2014</td>\n",
       "      <td>1779</td>\n",
       "      <td>651.21</td>\n",
       "      <td>524.96</td>\n",
       "      <td>1158502.59</td>\n",
       "      <td>933903.84</td>\n",
       "      <td>224598.75</td>\n",
       "    </tr>\n",
       "    <tr>\n",
       "      <th>3</th>\n",
       "      <td>Sub-Saharan Africa</td>\n",
       "      <td>Sao Tome and Principe</td>\n",
       "      <td>Fruits</td>\n",
       "      <td>Online</td>\n",
       "      <td>C</td>\n",
       "      <td>6/20/2014</td>\n",
       "      <td>514321792</td>\n",
       "      <td>7/5/2014</td>\n",
       "      <td>8102</td>\n",
       "      <td>9.33</td>\n",
       "      <td>6.92</td>\n",
       "      <td>75591.66</td>\n",
       "      <td>56065.84</td>\n",
       "      <td>19525.82</td>\n",
       "    </tr>\n",
       "    <tr>\n",
       "      <th>4</th>\n",
       "      <td>Sub-Saharan Africa</td>\n",
       "      <td>Rwanda</td>\n",
       "      <td>Office Supplies</td>\n",
       "      <td>Offline</td>\n",
       "      <td>L</td>\n",
       "      <td>2/1/2013</td>\n",
       "      <td>115456712</td>\n",
       "      <td>2/6/2013</td>\n",
       "      <td>5062</td>\n",
       "      <td>651.21</td>\n",
       "      <td>524.96</td>\n",
       "      <td>3296425.02</td>\n",
       "      <td>2657347.52</td>\n",
       "      <td>639077.50</td>\n",
       "    </tr>\n",
       "    <tr>\n",
       "      <th>5</th>\n",
       "      <td>Australia and Oceania</td>\n",
       "      <td>Solomon Islands</td>\n",
       "      <td>Baby Food</td>\n",
       "      <td>Online</td>\n",
       "      <td>C</td>\n",
       "      <td>2/4/2015</td>\n",
       "      <td>547995746</td>\n",
       "      <td>2/21/2015</td>\n",
       "      <td>2974</td>\n",
       "      <td>255.28</td>\n",
       "      <td>159.42</td>\n",
       "      <td>759202.72</td>\n",
       "      <td>474115.08</td>\n",
       "      <td>285087.64</td>\n",
       "    </tr>\n",
       "    <tr>\n",
       "      <th>6</th>\n",
       "      <td>Sub-Saharan Africa</td>\n",
       "      <td>Angola</td>\n",
       "      <td>Household</td>\n",
       "      <td>Offline</td>\n",
       "      <td>M</td>\n",
       "      <td>4/23/2011</td>\n",
       "      <td>135425221</td>\n",
       "      <td>4/27/2011</td>\n",
       "      <td>4187</td>\n",
       "      <td>668.27</td>\n",
       "      <td>502.54</td>\n",
       "      <td>2798046.49</td>\n",
       "      <td>2104134.98</td>\n",
       "      <td>693911.51</td>\n",
       "    </tr>\n",
       "    <tr>\n",
       "      <th>7</th>\n",
       "      <td>Sub-Saharan Africa</td>\n",
       "      <td>Burkina Faso</td>\n",
       "      <td>Vegetables</td>\n",
       "      <td>Online</td>\n",
       "      <td>H</td>\n",
       "      <td>7/17/2012</td>\n",
       "      <td>871543967</td>\n",
       "      <td>7/27/2012</td>\n",
       "      <td>8082</td>\n",
       "      <td>154.06</td>\n",
       "      <td>90.93</td>\n",
       "      <td>1245112.92</td>\n",
       "      <td>734896.26</td>\n",
       "      <td>510216.66</td>\n",
       "    </tr>\n",
       "    <tr>\n",
       "      <th>8</th>\n",
       "      <td>Sub-Saharan Africa</td>\n",
       "      <td>Republic of the Congo</td>\n",
       "      <td>Personal Care</td>\n",
       "      <td>Offline</td>\n",
       "      <td>M</td>\n",
       "      <td>7/14/2015</td>\n",
       "      <td>770463311</td>\n",
       "      <td>8/25/2015</td>\n",
       "      <td>6070</td>\n",
       "      <td>81.73</td>\n",
       "      <td>56.67</td>\n",
       "      <td>496101.10</td>\n",
       "      <td>343986.90</td>\n",
       "      <td>152114.20</td>\n",
       "    </tr>\n",
       "    <tr>\n",
       "      <th>9</th>\n",
       "      <td>Sub-Saharan Africa</td>\n",
       "      <td>Senegal</td>\n",
       "      <td>Cereal</td>\n",
       "      <td>Online</td>\n",
       "      <td>H</td>\n",
       "      <td>4/18/2014</td>\n",
       "      <td>616607081</td>\n",
       "      <td>5/30/2014</td>\n",
       "      <td>6593</td>\n",
       "      <td>205.70</td>\n",
       "      <td>117.11</td>\n",
       "      <td>1356180.10</td>\n",
       "      <td>772106.23</td>\n",
       "      <td>584073.87</td>\n",
       "    </tr>\n",
       "  </tbody>\n",
       "</table>\n",
       "</div>"
      ],
      "text/plain": [
       "                              Region                Country        Item Type  \\\n",
       "0              Australia and Oceania                 Tuvalu        Baby Food   \n",
       "1  Central America and the Caribbean                Grenada           Cereal   \n",
       "2                             Europe                 Russia  Office Supplies   \n",
       "3                 Sub-Saharan Africa  Sao Tome and Principe           Fruits   \n",
       "4                 Sub-Saharan Africa                 Rwanda  Office Supplies   \n",
       "5              Australia and Oceania        Solomon Islands        Baby Food   \n",
       "6                 Sub-Saharan Africa                 Angola        Household   \n",
       "7                 Sub-Saharan Africa           Burkina Faso       Vegetables   \n",
       "8                 Sub-Saharan Africa  Republic of the Congo    Personal Care   \n",
       "9                 Sub-Saharan Africa                Senegal           Cereal   \n",
       "\n",
       "  Sales Channel Order Priority Order Date   Order ID  Ship Date  Units Sold  \\\n",
       "0       Offline              H  5/28/2010  669165933  6/27/2010        9925   \n",
       "1        Online              C  8/22/2012  963881480  9/15/2012        2804   \n",
       "2       Offline              L   5/2/2014  341417157   5/8/2014        1779   \n",
       "3        Online              C  6/20/2014  514321792   7/5/2014        8102   \n",
       "4       Offline              L   2/1/2013  115456712   2/6/2013        5062   \n",
       "5        Online              C   2/4/2015  547995746  2/21/2015        2974   \n",
       "6       Offline              M  4/23/2011  135425221  4/27/2011        4187   \n",
       "7        Online              H  7/17/2012  871543967  7/27/2012        8082   \n",
       "8       Offline              M  7/14/2015  770463311  8/25/2015        6070   \n",
       "9        Online              H  4/18/2014  616607081  5/30/2014        6593   \n",
       "\n",
       "   Unit Price  Unit Cost  Total Revenue  Total Cost  Total Profit  \n",
       "0      255.28     159.42     2533654.00  1582243.50     951410.50  \n",
       "1      205.70     117.11      576782.80   328376.44     248406.36  \n",
       "2      651.21     524.96     1158502.59   933903.84     224598.75  \n",
       "3        9.33       6.92       75591.66    56065.84      19525.82  \n",
       "4      651.21     524.96     3296425.02  2657347.52     639077.50  \n",
       "5      255.28     159.42      759202.72   474115.08     285087.64  \n",
       "6      668.27     502.54     2798046.49  2104134.98     693911.51  \n",
       "7      154.06      90.93     1245112.92   734896.26     510216.66  \n",
       "8       81.73      56.67      496101.10   343986.90     152114.20  \n",
       "9      205.70     117.11     1356180.10   772106.23     584073.87  "
      ]
     },
     "execution_count": 213,
     "metadata": {},
     "output_type": "execute_result"
    }
   ],
   "source": [
    "import pandas\n",
    "df = pandas.read_csv('100 Sales Records.csv')\n",
    "df.head(10)"
   ]
  },
  {
   "cell_type": "code",
   "execution_count": 216,
   "metadata": {},
   "outputs": [
    {
     "data": {
      "text/html": [
       "<div>\n",
       "<style scoped>\n",
       "    .dataframe tbody tr th:only-of-type {\n",
       "        vertical-align: middle;\n",
       "    }\n",
       "\n",
       "    .dataframe tbody tr th {\n",
       "        vertical-align: top;\n",
       "    }\n",
       "\n",
       "    .dataframe thead th {\n",
       "        text-align: right;\n",
       "    }\n",
       "</style>\n",
       "<table border=\"1\" class=\"dataframe\">\n",
       "  <thead>\n",
       "    <tr style=\"text-align: right;\">\n",
       "      <th></th>\n",
       "      <th>Country</th>\n",
       "      <th>Item Type</th>\n",
       "      <th>Sales Channel</th>\n",
       "      <th>Order Priority</th>\n",
       "      <th>Order Date</th>\n",
       "      <th>Order ID</th>\n",
       "      <th>Ship Date</th>\n",
       "      <th>Units Sold</th>\n",
       "      <th>Unit Price</th>\n",
       "      <th>Unit Cost</th>\n",
       "      <th>Total Revenue</th>\n",
       "      <th>Total Cost</th>\n",
       "      <th>Total Profit</th>\n",
       "    </tr>\n",
       "    <tr>\n",
       "      <th>Region</th>\n",
       "      <th></th>\n",
       "      <th></th>\n",
       "      <th></th>\n",
       "      <th></th>\n",
       "      <th></th>\n",
       "      <th></th>\n",
       "      <th></th>\n",
       "      <th></th>\n",
       "      <th></th>\n",
       "      <th></th>\n",
       "      <th></th>\n",
       "      <th></th>\n",
       "      <th></th>\n",
       "    </tr>\n",
       "  </thead>\n",
       "  <tbody>\n",
       "    <tr>\n",
       "      <th>Australia and Oceania</th>\n",
       "      <td>Tuvalu</td>\n",
       "      <td>Baby Food</td>\n",
       "      <td>Offline</td>\n",
       "      <td>H</td>\n",
       "      <td>5/28/2010</td>\n",
       "      <td>669165933</td>\n",
       "      <td>6/27/2010</td>\n",
       "      <td>9925</td>\n",
       "      <td>255.28</td>\n",
       "      <td>159.42</td>\n",
       "      <td>2533654.00</td>\n",
       "      <td>1582243.50</td>\n",
       "      <td>951410.50</td>\n",
       "    </tr>\n",
       "    <tr>\n",
       "      <th>Central America and the Caribbean</th>\n",
       "      <td>Grenada</td>\n",
       "      <td>Cereal</td>\n",
       "      <td>Online</td>\n",
       "      <td>C</td>\n",
       "      <td>8/22/2012</td>\n",
       "      <td>963881480</td>\n",
       "      <td>9/15/2012</td>\n",
       "      <td>2804</td>\n",
       "      <td>205.70</td>\n",
       "      <td>117.11</td>\n",
       "      <td>576782.80</td>\n",
       "      <td>328376.44</td>\n",
       "      <td>248406.36</td>\n",
       "    </tr>\n",
       "    <tr>\n",
       "      <th>Europe</th>\n",
       "      <td>Russia</td>\n",
       "      <td>Office Supplies</td>\n",
       "      <td>Offline</td>\n",
       "      <td>L</td>\n",
       "      <td>5/2/2014</td>\n",
       "      <td>341417157</td>\n",
       "      <td>5/8/2014</td>\n",
       "      <td>1779</td>\n",
       "      <td>651.21</td>\n",
       "      <td>524.96</td>\n",
       "      <td>1158502.59</td>\n",
       "      <td>933903.84</td>\n",
       "      <td>224598.75</td>\n",
       "    </tr>\n",
       "    <tr>\n",
       "      <th>Sub-Saharan Africa</th>\n",
       "      <td>Sao Tome and Principe</td>\n",
       "      <td>Fruits</td>\n",
       "      <td>Online</td>\n",
       "      <td>C</td>\n",
       "      <td>6/20/2014</td>\n",
       "      <td>514321792</td>\n",
       "      <td>7/5/2014</td>\n",
       "      <td>8102</td>\n",
       "      <td>9.33</td>\n",
       "      <td>6.92</td>\n",
       "      <td>75591.66</td>\n",
       "      <td>56065.84</td>\n",
       "      <td>19525.82</td>\n",
       "    </tr>\n",
       "    <tr>\n",
       "      <th>Sub-Saharan Africa</th>\n",
       "      <td>Rwanda</td>\n",
       "      <td>Office Supplies</td>\n",
       "      <td>Offline</td>\n",
       "      <td>L</td>\n",
       "      <td>2/1/2013</td>\n",
       "      <td>115456712</td>\n",
       "      <td>2/6/2013</td>\n",
       "      <td>5062</td>\n",
       "      <td>651.21</td>\n",
       "      <td>524.96</td>\n",
       "      <td>3296425.02</td>\n",
       "      <td>2657347.52</td>\n",
       "      <td>639077.50</td>\n",
       "    </tr>\n",
       "    <tr>\n",
       "      <th>Australia and Oceania</th>\n",
       "      <td>Solomon Islands</td>\n",
       "      <td>Baby Food</td>\n",
       "      <td>Online</td>\n",
       "      <td>C</td>\n",
       "      <td>2/4/2015</td>\n",
       "      <td>547995746</td>\n",
       "      <td>2/21/2015</td>\n",
       "      <td>2974</td>\n",
       "      <td>255.28</td>\n",
       "      <td>159.42</td>\n",
       "      <td>759202.72</td>\n",
       "      <td>474115.08</td>\n",
       "      <td>285087.64</td>\n",
       "    </tr>\n",
       "    <tr>\n",
       "      <th>Sub-Saharan Africa</th>\n",
       "      <td>Angola</td>\n",
       "      <td>Household</td>\n",
       "      <td>Offline</td>\n",
       "      <td>M</td>\n",
       "      <td>4/23/2011</td>\n",
       "      <td>135425221</td>\n",
       "      <td>4/27/2011</td>\n",
       "      <td>4187</td>\n",
       "      <td>668.27</td>\n",
       "      <td>502.54</td>\n",
       "      <td>2798046.49</td>\n",
       "      <td>2104134.98</td>\n",
       "      <td>693911.51</td>\n",
       "    </tr>\n",
       "    <tr>\n",
       "      <th>Sub-Saharan Africa</th>\n",
       "      <td>Burkina Faso</td>\n",
       "      <td>Vegetables</td>\n",
       "      <td>Online</td>\n",
       "      <td>H</td>\n",
       "      <td>7/17/2012</td>\n",
       "      <td>871543967</td>\n",
       "      <td>7/27/2012</td>\n",
       "      <td>8082</td>\n",
       "      <td>154.06</td>\n",
       "      <td>90.93</td>\n",
       "      <td>1245112.92</td>\n",
       "      <td>734896.26</td>\n",
       "      <td>510216.66</td>\n",
       "    </tr>\n",
       "    <tr>\n",
       "      <th>Sub-Saharan Africa</th>\n",
       "      <td>Republic of the Congo</td>\n",
       "      <td>Personal Care</td>\n",
       "      <td>Offline</td>\n",
       "      <td>M</td>\n",
       "      <td>7/14/2015</td>\n",
       "      <td>770463311</td>\n",
       "      <td>8/25/2015</td>\n",
       "      <td>6070</td>\n",
       "      <td>81.73</td>\n",
       "      <td>56.67</td>\n",
       "      <td>496101.10</td>\n",
       "      <td>343986.90</td>\n",
       "      <td>152114.20</td>\n",
       "    </tr>\n",
       "    <tr>\n",
       "      <th>Sub-Saharan Africa</th>\n",
       "      <td>Senegal</td>\n",
       "      <td>Cereal</td>\n",
       "      <td>Online</td>\n",
       "      <td>H</td>\n",
       "      <td>4/18/2014</td>\n",
       "      <td>616607081</td>\n",
       "      <td>5/30/2014</td>\n",
       "      <td>6593</td>\n",
       "      <td>205.70</td>\n",
       "      <td>117.11</td>\n",
       "      <td>1356180.10</td>\n",
       "      <td>772106.23</td>\n",
       "      <td>584073.87</td>\n",
       "    </tr>\n",
       "  </tbody>\n",
       "</table>\n",
       "</div>"
      ],
      "text/plain": [
       "                                                 Country        Item Type  \\\n",
       "Region                                                                      \n",
       "Australia and Oceania                             Tuvalu        Baby Food   \n",
       "Central America and the Caribbean                Grenada           Cereal   \n",
       "Europe                                            Russia  Office Supplies   \n",
       "Sub-Saharan Africa                 Sao Tome and Principe           Fruits   \n",
       "Sub-Saharan Africa                                Rwanda  Office Supplies   \n",
       "Australia and Oceania                    Solomon Islands        Baby Food   \n",
       "Sub-Saharan Africa                                Angola        Household   \n",
       "Sub-Saharan Africa                          Burkina Faso       Vegetables   \n",
       "Sub-Saharan Africa                 Republic of the Congo    Personal Care   \n",
       "Sub-Saharan Africa                               Senegal           Cereal   \n",
       "\n",
       "                                  Sales Channel Order Priority Order Date  \\\n",
       "Region                                                                      \n",
       "Australia and Oceania                   Offline              H  5/28/2010   \n",
       "Central America and the Caribbean        Online              C  8/22/2012   \n",
       "Europe                                  Offline              L   5/2/2014   \n",
       "Sub-Saharan Africa                       Online              C  6/20/2014   \n",
       "Sub-Saharan Africa                      Offline              L   2/1/2013   \n",
       "Australia and Oceania                    Online              C   2/4/2015   \n",
       "Sub-Saharan Africa                      Offline              M  4/23/2011   \n",
       "Sub-Saharan Africa                       Online              H  7/17/2012   \n",
       "Sub-Saharan Africa                      Offline              M  7/14/2015   \n",
       "Sub-Saharan Africa                       Online              H  4/18/2014   \n",
       "\n",
       "                                    Order ID  Ship Date  Units Sold  \\\n",
       "Region                                                                \n",
       "Australia and Oceania              669165933  6/27/2010        9925   \n",
       "Central America and the Caribbean  963881480  9/15/2012        2804   \n",
       "Europe                             341417157   5/8/2014        1779   \n",
       "Sub-Saharan Africa                 514321792   7/5/2014        8102   \n",
       "Sub-Saharan Africa                 115456712   2/6/2013        5062   \n",
       "Australia and Oceania              547995746  2/21/2015        2974   \n",
       "Sub-Saharan Africa                 135425221  4/27/2011        4187   \n",
       "Sub-Saharan Africa                 871543967  7/27/2012        8082   \n",
       "Sub-Saharan Africa                 770463311  8/25/2015        6070   \n",
       "Sub-Saharan Africa                 616607081  5/30/2014        6593   \n",
       "\n",
       "                                   Unit Price  Unit Cost  Total Revenue  \\\n",
       "Region                                                                    \n",
       "Australia and Oceania                  255.28     159.42     2533654.00   \n",
       "Central America and the Caribbean      205.70     117.11      576782.80   \n",
       "Europe                                 651.21     524.96     1158502.59   \n",
       "Sub-Saharan Africa                       9.33       6.92       75591.66   \n",
       "Sub-Saharan Africa                     651.21     524.96     3296425.02   \n",
       "Australia and Oceania                  255.28     159.42      759202.72   \n",
       "Sub-Saharan Africa                     668.27     502.54     2798046.49   \n",
       "Sub-Saharan Africa                     154.06      90.93     1245112.92   \n",
       "Sub-Saharan Africa                      81.73      56.67      496101.10   \n",
       "Sub-Saharan Africa                     205.70     117.11     1356180.10   \n",
       "\n",
       "                                   Total Cost  Total Profit  \n",
       "Region                                                       \n",
       "Australia and Oceania              1582243.50     951410.50  \n",
       "Central America and the Caribbean   328376.44     248406.36  \n",
       "Europe                              933903.84     224598.75  \n",
       "Sub-Saharan Africa                   56065.84      19525.82  \n",
       "Sub-Saharan Africa                 2657347.52     639077.50  \n",
       "Australia and Oceania               474115.08     285087.64  \n",
       "Sub-Saharan Africa                 2104134.98     693911.51  \n",
       "Sub-Saharan Africa                  734896.26     510216.66  \n",
       "Sub-Saharan Africa                  343986.90     152114.20  \n",
       "Sub-Saharan Africa                  772106.23     584073.87  "
      ]
     },
     "execution_count": 216,
     "metadata": {},
     "output_type": "execute_result"
    }
   ],
   "source": [
    "#Pandas assumes the first line as the header\n",
    "#Python by default creates a zero based index untill specified any column\n",
    "#Date columns has to be specially handled in python, otherwise it will consider it as string\n",
    "import pandas\n",
    "df = pandas.read_csv('100 Sales Records.csv', index_col='Region')\n",
    "df.head(10)\n"
   ]
  },
  {
   "cell_type": "code",
   "execution_count": 217,
   "metadata": {},
   "outputs": [
    {
     "data": {
      "text/plain": [
       "Index(['Country', 'Item Type', 'Sales Channel', 'Order Priority', 'Order Date',\n",
       "       'Order ID', 'Ship Date', 'Units Sold', 'Unit Price', 'Unit Cost',\n",
       "       'Total Revenue', 'Total Cost', 'Total Profit'],\n",
       "      dtype='object')"
      ]
     },
     "execution_count": 217,
     "metadata": {},
     "output_type": "execute_result"
    }
   ],
   "source": [
    "df.columns"
   ]
  },
  {
   "cell_type": "code",
   "execution_count": 222,
   "metadata": {},
   "outputs": [
    {
     "data": {
      "text/html": [
       "<div>\n",
       "<style scoped>\n",
       "    .dataframe tbody tr th:only-of-type {\n",
       "        vertical-align: middle;\n",
       "    }\n",
       "\n",
       "    .dataframe tbody tr th {\n",
       "        vertical-align: top;\n",
       "    }\n",
       "\n",
       "    .dataframe thead th {\n",
       "        text-align: right;\n",
       "    }\n",
       "</style>\n",
       "<table border=\"1\" class=\"dataframe\">\n",
       "  <thead>\n",
       "    <tr style=\"text-align: right;\">\n",
       "      <th></th>\n",
       "      <th>Country</th>\n",
       "      <th>Item Type</th>\n",
       "      <th>Sales Channel</th>\n",
       "      <th>Order Priority</th>\n",
       "      <th>Order Date</th>\n",
       "      <th>Order ID</th>\n",
       "      <th>Ship Date</th>\n",
       "      <th>Units Sold</th>\n",
       "      <th>Unit Price</th>\n",
       "      <th>Unit Cost</th>\n",
       "      <th>Total Revenue</th>\n",
       "      <th>Total Cost</th>\n",
       "      <th>Total Profit</th>\n",
       "    </tr>\n",
       "    <tr>\n",
       "      <th>Region</th>\n",
       "      <th></th>\n",
       "      <th></th>\n",
       "      <th></th>\n",
       "      <th></th>\n",
       "      <th></th>\n",
       "      <th></th>\n",
       "      <th></th>\n",
       "      <th></th>\n",
       "      <th></th>\n",
       "      <th></th>\n",
       "      <th></th>\n",
       "      <th></th>\n",
       "      <th></th>\n",
       "    </tr>\n",
       "  </thead>\n",
       "  <tbody>\n",
       "    <tr>\n",
       "      <th>Australia and Oceania</th>\n",
       "      <td>Tuvalu</td>\n",
       "      <td>Baby Food</td>\n",
       "      <td>Offline</td>\n",
       "      <td>H</td>\n",
       "      <td>2014-05-08</td>\n",
       "      <td>669165933</td>\n",
       "      <td>05-08-2014</td>\n",
       "      <td>9925</td>\n",
       "      <td>255.28</td>\n",
       "      <td>159.42</td>\n",
       "      <td>2533654.00</td>\n",
       "      <td>1582243.50</td>\n",
       "      <td>951410.50</td>\n",
       "    </tr>\n",
       "    <tr>\n",
       "      <th>Central America and the Caribbean</th>\n",
       "      <td>Grenada</td>\n",
       "      <td>Cereal</td>\n",
       "      <td>Online</td>\n",
       "      <td>C</td>\n",
       "      <td>2014-07-05</td>\n",
       "      <td>963881480</td>\n",
       "      <td>07-05-2014</td>\n",
       "      <td>2804</td>\n",
       "      <td>205.70</td>\n",
       "      <td>117.11</td>\n",
       "      <td>576782.80</td>\n",
       "      <td>328376.44</td>\n",
       "      <td>248406.36</td>\n",
       "    </tr>\n",
       "    <tr>\n",
       "      <th>Europe</th>\n",
       "      <td>Russia</td>\n",
       "      <td>Office Supplies</td>\n",
       "      <td>Offline</td>\n",
       "      <td>L</td>\n",
       "      <td>2014-05-08</td>\n",
       "      <td>341417157</td>\n",
       "      <td>05-08-2014</td>\n",
       "      <td>1779</td>\n",
       "      <td>651.21</td>\n",
       "      <td>524.96</td>\n",
       "      <td>1158502.59</td>\n",
       "      <td>933903.84</td>\n",
       "      <td>224598.75</td>\n",
       "    </tr>\n",
       "    <tr>\n",
       "      <th>Sub-Saharan Africa</th>\n",
       "      <td>Sao Tome and Principe</td>\n",
       "      <td>Fruits</td>\n",
       "      <td>Online</td>\n",
       "      <td>C</td>\n",
       "      <td>2014-07-05</td>\n",
       "      <td>514321792</td>\n",
       "      <td>07-05-2014</td>\n",
       "      <td>8102</td>\n",
       "      <td>9.33</td>\n",
       "      <td>6.92</td>\n",
       "      <td>75591.66</td>\n",
       "      <td>56065.84</td>\n",
       "      <td>19525.82</td>\n",
       "    </tr>\n",
       "    <tr>\n",
       "      <th>Sub-Saharan Africa</th>\n",
       "      <td>Rwanda</td>\n",
       "      <td>Office Supplies</td>\n",
       "      <td>Offline</td>\n",
       "      <td>L</td>\n",
       "      <td>2013-02-06</td>\n",
       "      <td>115456712</td>\n",
       "      <td>02-06-2013</td>\n",
       "      <td>5062</td>\n",
       "      <td>651.21</td>\n",
       "      <td>524.96</td>\n",
       "      <td>3296425.02</td>\n",
       "      <td>2657347.52</td>\n",
       "      <td>639077.50</td>\n",
       "    </tr>\n",
       "  </tbody>\n",
       "</table>\n",
       "</div>"
      ],
      "text/plain": [
       "                                                 Country        Item Type  \\\n",
       "Region                                                                      \n",
       "Australia and Oceania                             Tuvalu        Baby Food   \n",
       "Central America and the Caribbean                Grenada           Cereal   \n",
       "Europe                                            Russia  Office Supplies   \n",
       "Sub-Saharan Africa                 Sao Tome and Principe           Fruits   \n",
       "Sub-Saharan Africa                                Rwanda  Office Supplies   \n",
       "\n",
       "                                  Sales Channel Order Priority Order Date  \\\n",
       "Region                                                                      \n",
       "Australia and Oceania                   Offline              H 2014-05-08   \n",
       "Central America and the Caribbean        Online              C 2014-07-05   \n",
       "Europe                                  Offline              L 2014-05-08   \n",
       "Sub-Saharan Africa                       Online              C 2014-07-05   \n",
       "Sub-Saharan Africa                      Offline              L 2013-02-06   \n",
       "\n",
       "                                    Order ID   Ship Date  Units Sold  \\\n",
       "Region                                                                 \n",
       "Australia and Oceania              669165933  05-08-2014        9925   \n",
       "Central America and the Caribbean  963881480  07-05-2014        2804   \n",
       "Europe                             341417157  05-08-2014        1779   \n",
       "Sub-Saharan Africa                 514321792  07-05-2014        8102   \n",
       "Sub-Saharan Africa                 115456712  02-06-2013        5062   \n",
       "\n",
       "                                   Unit Price  Unit Cost  Total Revenue  \\\n",
       "Region                                                                    \n",
       "Australia and Oceania                  255.28     159.42     2533654.00   \n",
       "Central America and the Caribbean      205.70     117.11      576782.80   \n",
       "Europe                                 651.21     524.96     1158502.59   \n",
       "Sub-Saharan Africa                       9.33       6.92       75591.66   \n",
       "Sub-Saharan Africa                     651.21     524.96     3296425.02   \n",
       "\n",
       "                                   Total Cost  Total Profit  \n",
       "Region                                                       \n",
       "Australia and Oceania              1582243.50     951410.50  \n",
       "Central America and the Caribbean   328376.44     248406.36  \n",
       "Europe                              933903.84     224598.75  \n",
       "Sub-Saharan Africa                   56065.84      19525.82  \n",
       "Sub-Saharan Africa                 2657347.52     639077.50  "
      ]
     },
     "execution_count": 222,
     "metadata": {},
     "output_type": "execute_result"
    }
   ],
   "source": [
    "#Handling date columns in pandas\n",
    "import pandas\n",
    "df = pandas.read_csv('100 Sales Records.csv', index_col='Region', parse_dates=['Order Date'])\n",
    "df.head()"
   ]
  },
  {
   "cell_type": "code",
   "execution_count": 225,
   "metadata": {},
   "outputs": [
    {
     "data": {
      "text/html": [
       "<div>\n",
       "<style scoped>\n",
       "    .dataframe tbody tr th:only-of-type {\n",
       "        vertical-align: middle;\n",
       "    }\n",
       "\n",
       "    .dataframe tbody tr th {\n",
       "        vertical-align: top;\n",
       "    }\n",
       "\n",
       "    .dataframe thead th {\n",
       "        text-align: right;\n",
       "    }\n",
       "</style>\n",
       "<table border=\"1\" class=\"dataframe\">\n",
       "  <thead>\n",
       "    <tr style=\"text-align: right;\">\n",
       "      <th></th>\n",
       "      <th>Country</th>\n",
       "      <th>Item_Type</th>\n",
       "      <th>Channel</th>\n",
       "      <th>Order_Priority</th>\n",
       "      <th>Order_Date</th>\n",
       "      <th>ID</th>\n",
       "      <th>Ship_Date</th>\n",
       "      <th>Units_Sold</th>\n",
       "      <th>Unit_Price</th>\n",
       "      <th>Unit_Cost</th>\n",
       "      <th>Total_Revenue</th>\n",
       "      <th>Cost</th>\n",
       "      <th>Profit</th>\n",
       "    </tr>\n",
       "    <tr>\n",
       "      <th>Region</th>\n",
       "      <th></th>\n",
       "      <th></th>\n",
       "      <th></th>\n",
       "      <th></th>\n",
       "      <th></th>\n",
       "      <th></th>\n",
       "      <th></th>\n",
       "      <th></th>\n",
       "      <th></th>\n",
       "      <th></th>\n",
       "      <th></th>\n",
       "      <th></th>\n",
       "      <th></th>\n",
       "    </tr>\n",
       "  </thead>\n",
       "  <tbody>\n",
       "    <tr>\n",
       "      <th>Australia and Oceania</th>\n",
       "      <td>Tuvalu</td>\n",
       "      <td>Baby Food</td>\n",
       "      <td>Offline</td>\n",
       "      <td>H</td>\n",
       "      <td>2014-05-08</td>\n",
       "      <td>669165933</td>\n",
       "      <td>2014-05-08</td>\n",
       "      <td>9925</td>\n",
       "      <td>255.28</td>\n",
       "      <td>159.42</td>\n",
       "      <td>2533654.00</td>\n",
       "      <td>1582243.50</td>\n",
       "      <td>951410.50</td>\n",
       "    </tr>\n",
       "    <tr>\n",
       "      <th>Central America and the Caribbean</th>\n",
       "      <td>Grenada</td>\n",
       "      <td>Cereal</td>\n",
       "      <td>Online</td>\n",
       "      <td>C</td>\n",
       "      <td>2014-07-05</td>\n",
       "      <td>963881480</td>\n",
       "      <td>2014-07-05</td>\n",
       "      <td>2804</td>\n",
       "      <td>205.70</td>\n",
       "      <td>117.11</td>\n",
       "      <td>576782.80</td>\n",
       "      <td>328376.44</td>\n",
       "      <td>248406.36</td>\n",
       "    </tr>\n",
       "    <tr>\n",
       "      <th>Europe</th>\n",
       "      <td>Russia</td>\n",
       "      <td>Office Supplies</td>\n",
       "      <td>Offline</td>\n",
       "      <td>L</td>\n",
       "      <td>2014-05-08</td>\n",
       "      <td>341417157</td>\n",
       "      <td>2014-05-08</td>\n",
       "      <td>1779</td>\n",
       "      <td>651.21</td>\n",
       "      <td>524.96</td>\n",
       "      <td>1158502.59</td>\n",
       "      <td>933903.84</td>\n",
       "      <td>224598.75</td>\n",
       "    </tr>\n",
       "    <tr>\n",
       "      <th>Sub-Saharan Africa</th>\n",
       "      <td>Sao Tome and Principe</td>\n",
       "      <td>Fruits</td>\n",
       "      <td>Online</td>\n",
       "      <td>C</td>\n",
       "      <td>2014-07-05</td>\n",
       "      <td>514321792</td>\n",
       "      <td>2014-07-05</td>\n",
       "      <td>8102</td>\n",
       "      <td>9.33</td>\n",
       "      <td>6.92</td>\n",
       "      <td>75591.66</td>\n",
       "      <td>56065.84</td>\n",
       "      <td>19525.82</td>\n",
       "    </tr>\n",
       "    <tr>\n",
       "      <th>Sub-Saharan Africa</th>\n",
       "      <td>Rwanda</td>\n",
       "      <td>Office Supplies</td>\n",
       "      <td>Offline</td>\n",
       "      <td>L</td>\n",
       "      <td>2013-02-06</td>\n",
       "      <td>115456712</td>\n",
       "      <td>2013-02-06</td>\n",
       "      <td>5062</td>\n",
       "      <td>651.21</td>\n",
       "      <td>524.96</td>\n",
       "      <td>3296425.02</td>\n",
       "      <td>2657347.52</td>\n",
       "      <td>639077.50</td>\n",
       "    </tr>\n",
       "  </tbody>\n",
       "</table>\n",
       "</div>"
      ],
      "text/plain": [
       "                                                 Country        Item_Type  \\\n",
       "Region                                                                      \n",
       "Australia and Oceania                             Tuvalu        Baby Food   \n",
       "Central America and the Caribbean                Grenada           Cereal   \n",
       "Europe                                            Russia  Office Supplies   \n",
       "Sub-Saharan Africa                 Sao Tome and Principe           Fruits   \n",
       "Sub-Saharan Africa                                Rwanda  Office Supplies   \n",
       "\n",
       "                                   Channel Order_Priority Order_Date  \\\n",
       "Region                                                                 \n",
       "Australia and Oceania              Offline              H 2014-05-08   \n",
       "Central America and the Caribbean   Online              C 2014-07-05   \n",
       "Europe                             Offline              L 2014-05-08   \n",
       "Sub-Saharan Africa                  Online              C 2014-07-05   \n",
       "Sub-Saharan Africa                 Offline              L 2013-02-06   \n",
       "\n",
       "                                          ID  Ship_Date  Units_Sold  \\\n",
       "Region                                                                \n",
       "Australia and Oceania              669165933 2014-05-08        9925   \n",
       "Central America and the Caribbean  963881480 2014-07-05        2804   \n",
       "Europe                             341417157 2014-05-08        1779   \n",
       "Sub-Saharan Africa                 514321792 2014-07-05        8102   \n",
       "Sub-Saharan Africa                 115456712 2013-02-06        5062   \n",
       "\n",
       "                                   Unit_Price  Unit_Cost  Total_Revenue  \\\n",
       "Region                                                                    \n",
       "Australia and Oceania                  255.28     159.42     2533654.00   \n",
       "Central America and the Caribbean      205.70     117.11      576782.80   \n",
       "Europe                                 651.21     524.96     1158502.59   \n",
       "Sub-Saharan Africa                       9.33       6.92       75591.66   \n",
       "Sub-Saharan Africa                     651.21     524.96     3296425.02   \n",
       "\n",
       "                                         Cost     Profit  \n",
       "Region                                                    \n",
       "Australia and Oceania              1582243.50  951410.50  \n",
       "Central America and the Caribbean   328376.44  248406.36  \n",
       "Europe                              933903.84  224598.75  \n",
       "Sub-Saharan Africa                   56065.84   19525.82  \n",
       "Sub-Saharan Africa                 2657347.52  639077.50  "
      ]
     },
     "execution_count": 225,
     "metadata": {},
     "output_type": "execute_result"
    }
   ],
   "source": [
    "#Giving custom header names\n",
    "import pandas\n",
    "df = pandas.read_csv('100 Sales Records.csv', \n",
    "            index_col='Region', parse_dates=['Order_Date','Ship_Date'], \n",
    "            header=0, \n",
    "            names=['Region','Country', 'Item_Type', 'Channel', 'Order_Priority', 'Order_Date',\n",
    "       'ID', 'Ship_Date', 'Units_Sold', 'Unit_Price', 'Unit_Cost',\n",
    "       'Total_Revenue', 'Cost', 'Profit'])\n",
    "df.head()"
   ]
  },
  {
   "cell_type": "markdown",
   "metadata": {},
   "source": [
    "<h2>Lists and Multi Dimensional Lists</h2>"
   ]
  },
  {
   "cell_type": "markdown",
   "metadata": {},
   "source": [
    "1.Many languages only have one built-in complex type, commonly referred to as an array. You are probably familiar with syntax like [1, 2, 3, 4].<br>\n",
    "2.In Python, [1,2,3,4] defines what we call a list. A list can also be declared as list(1, 2, 3, 4).<br>\n",
    "3.It can have any number of items and they may be of different types (integer, float, string etc.).<br>\n",
    "4.The simplest list is the empty list []."
   ]
  },
  {
   "cell_type": "code",
   "execution_count": 6,
   "metadata": {},
   "outputs": [],
   "source": [
    "#List creation\n",
    "my_list = []\n",
    "my_list = list([1,2,3,4])\n",
    "my_list = [1, 2, 3]\n",
    "# list with mixed datatypes\n",
    "my_list = [1, \"Hello\", 3.4]\n",
    "# nested list\n",
    "my_list = [\"mouse\", [8, 4, 6], ['a'],[9,10],10]"
   ]
  },
  {
   "cell_type": "code",
   "execution_count": 9,
   "metadata": {},
   "outputs": [
    {
     "name": "stdout",
     "output_type": "stream",
     "text": [
      "1\n"
     ]
    }
   ],
   "source": [
    "#How to find the length of the list\n",
    "print(len(my_list[2]))"
   ]
  },
  {
   "cell_type": "code",
   "execution_count": 11,
   "metadata": {},
   "outputs": [
    {
     "data": {
      "text/plain": [
       "6"
      ]
     },
     "execution_count": 11,
     "metadata": {},
     "output_type": "execute_result"
    }
   ],
   "source": [
    "len(mylist)"
   ]
  },
  {
   "cell_type": "code",
   "execution_count": 12,
   "metadata": {},
   "outputs": [
    {
     "name": "stdout",
     "output_type": "stream",
     "text": [
      "['v', 'e', 'r', 'z', 'e', 'o']\n",
      "v\n",
      "r\n",
      "e\n",
      "list indices must be integers or slices, not float\n",
      "r\n",
      "1\n"
     ]
    }
   ],
   "source": [
    "#Indexing\n",
    "mylist = list('verzeo')\n",
    "print(mylist)\n",
    "# Output: ['v', 'e', 'r', 'z', 'e', 'o']\n",
    "print(mylist[0])\n",
    "# Output: v\n",
    "print(mylist[2])\n",
    "# Output: r\n",
    "print(mylist[4])\n",
    "## Output: e\n",
    "\n",
    "try:\n",
    "    mylist[4.0] # Error! Only integer can be used for indexing\n",
    "except TypeError as e:\n",
    "    print(e)\n",
    "# Nested List\n",
    "n_list = [\"verzeo\", [2,3,0,1,6,5,7]]\n",
    "# Nested indexing\n",
    "# Output: a\n",
    "print(n_list[0][2])    ##\n",
    "# Output: 5\n",
    "print(n_list[1][3])    ##"
   ]
  },
  {
   "cell_type": "code",
   "execution_count": 13,
   "metadata": {},
   "outputs": [
    {
     "name": "stdout",
     "output_type": "stream",
     "text": [
      "0\n",
      "z\n"
     ]
    }
   ],
   "source": [
    "print(n_list[-1][2])    ##\n",
    "# Output: 5\n",
    "print(n_list[0][-3]) "
   ]
  },
  {
   "cell_type": "code",
   "execution_count": 457,
   "metadata": {},
   "outputs": [
    {
     "data": {
      "text/plain": [
       "2"
      ]
     },
     "execution_count": 457,
     "metadata": {},
     "output_type": "execute_result"
    }
   ],
   "source": [
    "n_list[1][0]"
   ]
  },
  {
   "cell_type": "code",
   "execution_count": 458,
   "metadata": {},
   "outputs": [
    {
     "name": "stdout",
     "output_type": "stream",
     "text": [
      "['v', 'e', 'r', 'z', 'e', 'o']\n",
      "o\n",
      "e\n"
     ]
    }
   ],
   "source": [
    "#Python allows negative indexing for its sequences. \n",
    "#The index of -1 refers to the last item, -2 to the second last item and so on.\n",
    "\n",
    "my_list = list('verzeo')\n",
    "# Output: o\n",
    "print(my_list)\n",
    "print(my_list[-1])\n",
    "# Output: e\n",
    "print(my_list[-5])"
   ]
  },
  {
   "cell_type": "code",
   "execution_count": 459,
   "metadata": {},
   "outputs": [
    {
     "name": "stdout",
     "output_type": "stream",
     "text": [
      "['v', 'e', 'r', 'z', 'e', 'o']\n"
     ]
    },
    {
     "data": {
      "text/plain": [
       "2"
      ]
     },
     "execution_count": 459,
     "metadata": {},
     "output_type": "execute_result"
    }
   ],
   "source": [
    "#How to return index?\n",
    "my_list = list('verzeo')\n",
    "print(my_list)\n",
    "my_list.index('r')"
   ]
  },
  {
   "cell_type": "code",
   "execution_count": 469,
   "metadata": {},
   "outputs": [
    {
     "data": {
      "text/plain": [
       "6"
      ]
     },
     "execution_count": 469,
     "metadata": {},
     "output_type": "execute_result"
    }
   ],
   "source": [
    "#Return the index where 'e' occured second time\n",
    "my_list = list('verzeoefjhedjhhkje')\n",
    "my_list.index('e',5)"
   ]
  },
  {
   "cell_type": "markdown",
   "metadata": {},
   "source": [
    "<h3>Slicing the list in python</h3>"
   ]
  },
  {
   "cell_type": "code",
   "execution_count": 16,
   "metadata": {},
   "outputs": [
    {
     "name": "stdout",
     "output_type": "stream",
     "text": [
      "['r', 'z', 'e']\n",
      "['v', 'e', 'r', 'z', 'e']\n",
      "['o', '.', 'c', 'o', 'm']\n",
      "['v', 'e', 'r', 'z', 'e', 'o', '.', 'c', 'o', 'm']\n",
      "['v', 'r', 'e', '.', 'o']\n",
      "['m', 'c', 'o', 'z', 'e']\n",
      "['r', 'e']\n"
     ]
    }
   ],
   "source": [
    "#Syntax for slicing the list\n",
    "#list[first index:last index:step]\n",
    "#list[::] --> Will give the complete list\n",
    "\n",
    "my_list = ['v', 'e', 'r', 'z', 'e', 'o','.','c','o','m']\n",
    "# elements 3rd to 5th\n",
    "print(my_list[2:5])\n",
    "# elements beginning to 4th\n",
    "print(my_list[:-5])\n",
    "# elements 6th to end\n",
    "print(my_list[5:])\n",
    "# elements beginning to end\n",
    "print(my_list[::])\n",
    "# elements beginning to end with step of 2\n",
    "print(my_list[::2])\n",
    "# elements end to beginning with step of 2\n",
    "print(my_list[::-2])\n",
    "# elements 3 to 6 with step of 2\n",
    "print(my_list[2:6:2])"
   ]
  },
  {
   "cell_type": "code",
   "execution_count": 17,
   "metadata": {},
   "outputs": [
    {
     "name": "stdout",
     "output_type": "stream",
     "text": [
      "['m', 'o', 'c']\n"
     ]
    }
   ],
   "source": [
    "print(my_list[:-4:-1])"
   ]
  },
  {
   "cell_type": "markdown",
   "metadata": {},
   "source": []
  },
  {
   "cell_type": "markdown",
   "metadata": {},
   "source": [
    "<h3>Working with operators in list</h3>"
   ]
  },
  {
   "cell_type": "code",
   "execution_count": 290,
   "metadata": {},
   "outputs": [
    {
     "name": "stdout",
     "output_type": "stream",
     "text": [
      "[1, 2]\n",
      "[1, 2, 3, 4]\n",
      "[1, 2, 3, 4, [3, 4]]\n"
     ]
    }
   ],
   "source": [
    "# '+' will work as a append in list\n",
    "my_list = [1]\n",
    "my_list += [2]\n",
    "print(my_list)\n",
    "my_list += [3, 4]\n",
    "print(my_list)\n",
    "my_list += [[3, 4]]\n",
    "print(my_list)"
   ]
  },
  {
   "cell_type": "code",
   "execution_count": 293,
   "metadata": {},
   "outputs": [
    {
     "name": "stdout",
     "output_type": "stream",
     "text": [
      "[1, 2, 1, 2]\n",
      "[[1, 2], [1, 2]]\n"
     ]
    }
   ],
   "source": [
    "my_list = [1, 2]\n",
    "my_list = my_list * 2\n",
    "print(my_list)\n",
    "my_list =[ [1, 2] ]* 2\n",
    "print(my_list)"
   ]
  },
  {
   "cell_type": "code",
   "execution_count": 18,
   "metadata": {},
   "outputs": [
    {
     "data": {
      "text/plain": [
       "144"
      ]
     },
     "execution_count": 18,
     "metadata": {},
     "output_type": "execute_result"
    }
   ],
   "source": [
    "import sys\n",
    "sys.getsizeof(my_list)"
   ]
  },
  {
   "cell_type": "markdown",
   "metadata": {},
   "source": [
    "<h3>Change or add elements to a list</h3>"
   ]
  },
  {
   "cell_type": "code",
   "execution_count": 20,
   "metadata": {},
   "outputs": [
    {
     "name": "stdout",
     "output_type": "stream",
     "text": [
      "[2, 3, 5, 11, 8, 9]\n",
      "[2, 3, 5, 11, 13, 17, 14, 9]\n"
     ]
    }
   ],
   "source": [
    "#List are mutable, meaning, their elements can be changed unlike string or tuple.\n",
    "#We can use assignment operator (=) to change an item or a range of items.\n",
    "prime_numbers = [2, 3, 5, 6,8,9]\n",
    "# change the 4th item    \n",
    "prime_numbers[3] = 11            \n",
    "print(prime_numbers)\n",
    "# # change 4th to last items\n",
    "prime_numbers[3:5] = [11,13,17,14]   #U can use slicing to modify the elements in the list\n",
    "print(prime_numbers)"
   ]
  },
  {
   "cell_type": "markdown",
   "metadata": {},
   "source": [
    "<b>Append/Extend a list in python</b>"
   ]
  },
  {
   "cell_type": "code",
   "execution_count": 278,
   "metadata": {},
   "outputs": [
    {
     "data": {
      "text/plain": [
       "['a', 'b', 'c']"
      ]
     },
     "execution_count": 278,
     "metadata": {},
     "output_type": "execute_result"
    }
   ],
   "source": [
    "#Append\n",
    "list_append = ['a','b']\n",
    "list_append.append('c')\n",
    "list_append\n",
    "#Append will add the element to the existing list"
   ]
  },
  {
   "cell_type": "code",
   "execution_count": 279,
   "metadata": {},
   "outputs": [
    {
     "data": {
      "text/plain": [
       "['a', 'b', 'c', ['d', 'e', 'f']]"
      ]
     },
     "execution_count": 279,
     "metadata": {},
     "output_type": "execute_result"
    }
   ],
   "source": [
    "list_append.append(['d', 'e', 'f'])\n",
    "list_append # Here list [d,e,f] is added to the existing as a list element, append will not split and add the elements"
   ]
  },
  {
   "cell_type": "code",
   "execution_count": 299,
   "metadata": {},
   "outputs": [
    {
     "data": {
      "text/plain": [
       "['a', 'b', 'd', 'e', 'f']"
      ]
     },
     "execution_count": 299,
     "metadata": {},
     "output_type": "execute_result"
    }
   ],
   "source": [
    "#To split the elements in the list and add, we have an function called extend\n",
    "list_append = ['a','b']\n",
    "list_append.extend(['d', 'e', 'f'])\n",
    "list_append"
   ]
  },
  {
   "cell_type": "code",
   "execution_count": 300,
   "metadata": {},
   "outputs": [
    {
     "name": "stdout",
     "output_type": "stream",
     "text": [
      "['a', 'b', 'c', 'd', 'e', 'f']\n"
     ]
    }
   ],
   "source": [
    "list_append.insert(2, 'c')\n",
    "print(list_append)"
   ]
  },
  {
   "cell_type": "markdown",
   "metadata": {},
   "source": [
    "<h3>Delete or remove elements from a list</h3>"
   ]
  },
  {
   "cell_type": "code",
   "execution_count": 301,
   "metadata": {},
   "outputs": [
    {
     "name": "stdout",
     "output_type": "stream",
     "text": [
      "['v', 'e', 'r', 'e', 'o', '.', 'c', 'o', 'm']\n",
      "['v', '.', 'c', 'o', 'm']\n"
     ]
    },
    {
     "ename": "NameError",
     "evalue": "name 'my_list' is not defined",
     "output_type": "error",
     "traceback": [
      "\u001b[1;31m---------------------------------------------------------------------------\u001b[0m",
      "\u001b[1;31mNameError\u001b[0m                                 Traceback (most recent call last)",
      "\u001b[1;32m<ipython-input-301-64a158d35a1e>\u001b[0m in \u001b[0;36m<module>\u001b[1;34m\u001b[0m\n\u001b[0;32m     10\u001b[0m \u001b[1;32mdel\u001b[0m \u001b[0mmy_list\u001b[0m\u001b[1;33m\u001b[0m\u001b[1;33m\u001b[0m\u001b[0m\n\u001b[0;32m     11\u001b[0m \u001b[1;31m# Error: List not defined\u001b[0m\u001b[1;33m\u001b[0m\u001b[1;33m\u001b[0m\u001b[1;33m\u001b[0m\u001b[0m\n\u001b[1;32m---> 12\u001b[1;33m \u001b[0mprint\u001b[0m\u001b[1;33m(\u001b[0m\u001b[0mmy_list\u001b[0m\u001b[1;33m)\u001b[0m\u001b[1;33m\u001b[0m\u001b[1;33m\u001b[0m\u001b[0m\n\u001b[0m",
      "\u001b[1;31mNameError\u001b[0m: name 'my_list' is not defined"
     ]
    }
   ],
   "source": [
    "my_list = ['v', 'e', 'r', 'z', 'e', 'o','.','c','o','m']\n",
    "# delete one item\n",
    "del my_list[3]\n",
    "print(my_list)   \n",
    "# delete multiple items\n",
    "del my_list[1:5]  \n",
    "# Output: ['p', 'm']\n",
    "print(my_list)\n",
    "# delete entire list\n",
    "del my_list       \n",
    "# Error: List not defined\n",
    "print(my_list)"
   ]
  },
  {
   "cell_type": "markdown",
   "metadata": {},
   "source": [
    "<h3>Remove, pop functions</h3>"
   ]
  },
  {
   "cell_type": "markdown",
   "metadata": {},
   "source": [
    "We can use remove() method to remove the given item or pop() method to remove an item at the given index.\n",
    "\n",
    "The pop() method removes and returns the last item if index is not provided. This helps us implement lists as stacks (first in, last out data structure).\n",
    "\n",
    "We can also use the clear() method to empty a list."
   ]
  },
  {
   "cell_type": "code",
   "execution_count": 303,
   "metadata": {},
   "outputs": [
    {
     "name": "stdout",
     "output_type": "stream",
     "text": [
      "['v', 'e', 'r', 'e', 'o', '.', 'c', 'o', 'm']\n",
      "e\n",
      "['v', 'r', 'e', 'o', '.', 'c', 'o', 'm']\n",
      "m\n",
      "['v', 'r', 'e', 'o', '.', 'c', 'o']\n",
      "[]\n"
     ]
    }
   ],
   "source": [
    "my_list =  ['v', 'e', 'r', 'z', 'e', 'o','.','c','o','m']\n",
    "my_list.remove('z')\n",
    "# ['v', 'e', 'r', 'e', 'o', '.', 'c', 'o', 'm']\n",
    "print(my_list)\n",
    "# Output: 'e'\n",
    "print(my_list.pop(1))\n",
    "#['v', 'r', 'e', 'o', '.', 'c', 'o', 'm']\n",
    "print(my_list)\n",
    "# Output: 'm'\n",
    "print(my_list.pop())\n",
    "#['v', 'r', 'e', 'o', '.', 'c', 'o']\n",
    "print(my_list)\n",
    "my_list.clear()\n",
    "# Output: []\n",
    "print(my_list)"
   ]
  },
  {
   "cell_type": "code",
   "execution_count": 304,
   "metadata": {},
   "outputs": [
    {
     "name": "stdout",
     "output_type": "stream",
     "text": [
      "['v', 'e', 'z', 'e', 'o', '.', 'c', 'o', 'm']\n",
      "['v', 'e', '.', 'c', 'o', 'm']\n"
     ]
    }
   ],
   "source": [
    "#Using Slicing to remove the items in list\n",
    "my_list = ['v', 'e', 'r', 'z', 'e', 'o','.','c','o','m']\n",
    "my_list[2:3] = [] #\n",
    "print(my_list)\n",
    "my_list[2:5] = []\n",
    "print(my_list)"
   ]
  },
  {
   "cell_type": "markdown",
   "metadata": {},
   "source": [
    "<h3>Few useful functions of list</h3>"
   ]
  },
  {
   "cell_type": "code",
   "execution_count": 308,
   "metadata": {},
   "outputs": [
    {
     "name": "stdout",
     "output_type": "stream",
     "text": [
      "2\n",
      "0\n",
      "['banana', 'apple', 'kiwi', 'banana', 'pear', 'apple', 'orange']\n",
      "['apple', 'apple', 'banana', 'banana', 'kiwi', 'orange', 'pear']\n"
     ]
    }
   ],
   "source": [
    "fruits = ['orange', 'apple', 'pear', 'banana', 'kiwi', 'apple', 'banana']\n",
    "print(fruits.count('apple')) # Counts the occurence of a specific element in the list, if it doesnt find it will return 0\n",
    "\n",
    "print(fruits.count('tangerine'))\n",
    "fruits.reverse()  # Reverse list\n",
    "print(fruits)\n",
    "fruits.sort() # Sorts the list ascending by default,\n",
    "print(fruits)"
   ]
  },
  {
   "cell_type": "markdown",
   "metadata": {},
   "source": [
    "<h3>List comprehension</h3>"
   ]
  },
  {
   "cell_type": "code",
   "execution_count": 309,
   "metadata": {},
   "outputs": [
    {
     "name": "stdout",
     "output_type": "stream",
     "text": [
      "[0, 1, 4, 9, 16, 25, 36, 49, 64, 81]\n"
     ]
    }
   ],
   "source": [
    "#Creating a simple list using for loop\n",
    "squares = []\n",
    "for x in range(10):\n",
    "    squares.append(x**2)\n",
    "print(squares)"
   ]
  },
  {
   "cell_type": "code",
   "execution_count": 310,
   "metadata": {},
   "outputs": [
    {
     "name": "stdout",
     "output_type": "stream",
     "text": [
      "[0, 1, 4, 9, 16, 25, 36, 49, 64, 81]\n"
     ]
    }
   ],
   "source": [
    "#The same can be created by lambda using\n",
    "squares = list(map(lambda x: x**2, range(10)))\n",
    "print(squares)"
   ]
  },
  {
   "cell_type": "code",
   "execution_count": 311,
   "metadata": {},
   "outputs": [
    {
     "name": "stdout",
     "output_type": "stream",
     "text": [
      "[0, 1, 4, 9, 16, 25, 36, 49, 64, 81]\n"
     ]
    }
   ],
   "source": [
    "#We can write the above very concisely using\n",
    "squares = [x**2 for x in range(10)]\n",
    "print(squares)"
   ]
  },
  {
   "cell_type": "markdown",
   "metadata": {},
   "source": [
    "<b>List Comprehension</b>\n",
    "<br>\n",
    "A list comprehension consists of brackets containing an expression followed by a for clause, then zero or more for or if clauses. The result will be a new list resulting from evaluating the expression in the context of the for and if clauses which follow it. For example, this listcomp combines the elements of two lists if they are not equal:"
   ]
  },
  {
   "cell_type": "code",
   "execution_count": 312,
   "metadata": {},
   "outputs": [
    {
     "data": {
      "text/plain": [
       "[(1, 3), (1, 4), (2, 3), (2, 1), (2, 4), (3, 1), (3, 4)]"
      ]
     },
     "execution_count": 312,
     "metadata": {},
     "output_type": "execute_result"
    }
   ],
   "source": [
    "[(x, y) for x in [1,2,3] for y in [3,1,4] if x != y]"
   ]
  },
  {
   "cell_type": "code",
   "execution_count": 314,
   "metadata": {},
   "outputs": [
    {
     "name": "stdout",
     "output_type": "stream",
     "text": [
      "[(1, 3), (1, 4), (2, 3), (2, 1), (2, 4), (3, 1), (3, 4)]\n"
     ]
    }
   ],
   "source": [
    "#The above is equivalent to\n",
    "combs = []\n",
    "for x in [1,2,3]:\n",
    "    for y in [3,1,4]:\n",
    "        if x != y:\n",
    "            combs.append((x, y))\n",
    "print(combs)"
   ]
  },
  {
   "cell_type": "markdown",
   "metadata": {},
   "source": [
    "<h3>Iterate through lists</h3>"
   ]
  },
  {
   "cell_type": "code",
   "execution_count": 315,
   "metadata": {},
   "outputs": [
    {
     "name": "stdout",
     "output_type": "stream",
     "text": [
      "H\n",
      "a\n",
      "r\n",
      "s\n",
      "h\n",
      "a\n"
     ]
    }
   ],
   "source": [
    "for i in list('Harsha'):\n",
    "    print(i)"
   ]
  },
  {
   "cell_type": "code",
   "execution_count": 317,
   "metadata": {},
   "outputs": [
    {
     "name": "stdout",
     "output_type": "stream",
     "text": [
      "Harsha\n",
      "Siva\n",
      "Aravind\n",
      "Krishna\n"
     ]
    }
   ],
   "source": [
    "for name in ['Harsha','Siva','Aravind','Krishna']:\n",
    "    print(name)"
   ]
  },
  {
   "cell_type": "markdown",
   "metadata": {},
   "source": [
    "<h3>Multidimensional lists</h3>"
   ]
  },
  {
   "cell_type": "code",
   "execution_count": 318,
   "metadata": {},
   "outputs": [
    {
     "name": "stdout",
     "output_type": "stream",
     "text": [
      "[3, 6, 9, 12, 15]\n"
     ]
    }
   ],
   "source": [
    "#Two Dimensional Lists, below are list of lists where each have a individual list inside it\n",
    "number_sets = [[2, 4, 6, 8,[1,2,[1,2,3,4]], 10], [3, 6, 9, 12, 15], [4, 8, 12, 16, 20]]\n",
    "print(number_sets[1])"
   ]
  },
  {
   "cell_type": "markdown",
   "metadata": {},
   "source": [
    "The second list of numbers will print out. In order to access those lower elements, you need to use a second set of square brackets. In the first set of square brackets, specifies the top level element that you want to access.\n",
    "\n",
    "In the example below, that is the first list. Then, in the second set of brackets, specifies the element within that initial top level element that you want. In that same example, it's the second element, or the number \"4.\""
   ]
  },
  {
   "cell_type": "code",
   "execution_count": 28,
   "metadata": {},
   "outputs": [
    {
     "name": "stdout",
     "output_type": "stream",
     "text": [
      "9\n"
     ]
    }
   ],
   "source": [
    "number_sets = [[2, 4, 6, 8, 10], [3, 6, 9, 12, 15], [4, 8, 12, 16, 20]]\n",
    "print(number_sets[1][2])"
   ]
  },
  {
   "cell_type": "code",
   "execution_count": 320,
   "metadata": {},
   "outputs": [
    {
     "name": "stdout",
     "output_type": "stream",
     "text": [
      "[[2, 4, 6, 8, 10, 12, 14, 16, 18], [3, 6, 9, 12, 15], [4, 8, 12, 16, 20]]\n"
     ]
    }
   ],
   "source": [
    "a = [[2, 4, 6, 8, 10], [3, 6, 9, 12, 15], [4, 8, 12, 16, 20]] \n",
    "a[0].extend([12, 14, 16, 18]) \n",
    "print(a) "
   ]
  },
  {
   "cell_type": "code",
   "execution_count": 321,
   "metadata": {},
   "outputs": [
    {
     "name": "stdout",
     "output_type": "stream",
     "text": [
      "[[2, 4, 6, 8, 10], [3, 6, 9, 12, 15], [20, 16, 12, 8, 4]]\n"
     ]
    }
   ],
   "source": [
    "# Reversing a sublist  \n",
    "  \n",
    "a = [[2, 4, 6, 8, 10], [3, 6, 9, 12, 15], [4, 8, 12, 16, 20]] \n",
    "a[2].reverse() \n",
    "print(a) "
   ]
  },
  {
   "cell_type": "markdown",
   "metadata": {},
   "source": [
    "<b>List comprehension with 2d list</b>"
   ]
  },
  {
   "cell_type": "code",
   "execution_count": 322,
   "metadata": {
    "scrolled": true
   },
   "outputs": [
    {
     "data": {
      "text/plain": [
       "[[1, 5, 9], [2, 6, 10], [3, 7, 11], [4, 8, 12]]"
      ]
     },
     "execution_count": 322,
     "metadata": {},
     "output_type": "execute_result"
    }
   ],
   "source": [
    "matrix = [[1, 2, 3, 4],\n",
    "          [5, 6, 7, 8],\n",
    "          [9, 10, 11, 12]]\n",
    "#We will transpose the matrix using the below list comprehension\n",
    "[[row[i] for row in matrix] for i in range(4)]"
   ]
  },
  {
   "cell_type": "code",
   "execution_count": 324,
   "metadata": {
    "scrolled": true
   },
   "outputs": [
    {
     "name": "stdout",
     "output_type": "stream",
     "text": [
      "[[1, 5, 9], [2, 6, 10], [3, 7, 11], [4, 8, 12]]\n"
     ]
    }
   ],
   "source": [
    "#The above is eqivealent to below\n",
    "transposed = []\n",
    "for i in range(4):\n",
    "# the following 3 lines implement the nested listcomp\n",
    "    transposed_row = []\n",
    "    for row in matrix:\n",
    "        transposed_row.append(row[i])\n",
    "    transposed.append(transposed_row)\n",
    "print(transposed)"
   ]
  },
  {
   "cell_type": "markdown",
   "metadata": {},
   "source": [
    "<h2>Dictionary</h2>"
   ]
  },
  {
   "cell_type": "markdown",
   "metadata": {},
   "source": [
    "Python dictionary is an unordered collection of items. While other compound data types have only value as an element, a dictionary has a key: value pair.\n",
    "\n",
    "Dictionaries are optimized to retrieve values when the key is known.\n",
    "\n",
    "Typically used to hold data that are related, such as the information contained in an ID or a user profile, dictionaries are constructed with curly braces on either side { }.\n",
    "\n",
    "A dictionary looks like this:\n",
    "\n",
    "sammy = {'username': 'sammy-shark', 'online': True, 'followers': 987}"
   ]
  },
  {
   "cell_type": "code",
   "execution_count": 7,
   "metadata": {},
   "outputs": [],
   "source": [
    "#Create a dictionary\n",
    "#Creating a dictionary is as simple as placing items inside curly braces {} separated by comma.\n",
    "#An item has a key and the corresponding value expressed as a pair, key: value.\n",
    "#While values can be of any data type and can repeat,\n",
    "#keys must be of immutable type (string, number or tuple with immutable elements) and must be unique.\n",
    "\n",
    "my_dict = {} # empty dictionary\n",
    "# dictionary with integer keys\n",
    "my_dict = {1: 'a', 2: 'b'}\n",
    "# dictionary with mixed keys\n",
    "my_dict = {'name': 'Harsha', 1: [2, 4, 3]}\n",
    "# using dict()\n",
    "my_dict = dict({1:'a', 2:'b'})\n",
    "# from sequence having each item as a pair\n",
    "my_dict = dict([(1,'a'), (2,'b')])"
   ]
  },
  {
   "cell_type": "code",
   "execution_count": 8,
   "metadata": {},
   "outputs": [],
   "source": [
    "my_dict = {'name': 'Harsha', 1: [2, 4, 3]}"
   ]
  },
  {
   "cell_type": "code",
   "execution_count": 13,
   "metadata": {},
   "outputs": [
    {
     "data": {
      "text/plain": [
       "['name']"
      ]
     },
     "execution_count": 13,
     "metadata": {},
     "output_type": "execute_result"
    }
   ],
   "source": [
    "['name']"
   ]
  },
  {
   "cell_type": "code",
   "execution_count": 15,
   "metadata": {},
   "outputs": [],
   "source": [
    "my_dict = {'name': 'Harsha', 1: [2, 4, 3]}\n",
    "my_dict[1][1]=2"
   ]
  },
  {
   "cell_type": "code",
   "execution_count": 16,
   "metadata": {},
   "outputs": [
    {
     "data": {
      "text/plain": [
       "{'name': 'Harsha', 1: [2, 2, 3]}"
      ]
     },
     "execution_count": 16,
     "metadata": {},
     "output_type": "execute_result"
    }
   ],
   "source": [
    "my_dict"
   ]
  },
  {
   "cell_type": "code",
   "execution_count": 19,
   "metadata": {},
   "outputs": [
    {
     "name": "stdout",
     "output_type": "stream",
     "text": [
      "abc\n"
     ]
    }
   ],
   "source": [
    "#U can also create dictionary with tuple as a key\n",
    "my_dict = { (1,2,3):\"abc\", 3.1415:\"abc\"}\n",
    "print(my_dict[(1,2,3)])"
   ]
  },
  {
   "cell_type": "markdown",
   "metadata": {},
   "source": [
    "<h3>Access elements from a dictionary</h3>"
   ]
  },
  {
   "cell_type": "markdown",
   "metadata": {},
   "source": [
    "<b>get() method</b><br>\n",
    "While indexing is used with other container types to access values, dictionary uses keys. Key can be used either inside square brackets or with the get() method.\n",
    "\n",
    "The difference while using get() is that it returns None instead of KeyError, if the key is not found."
   ]
  },
  {
   "cell_type": "code",
   "execution_count": 328,
   "metadata": {},
   "outputs": [
    {
     "name": "stdout",
     "output_type": "stream",
     "text": [
      "Harsha\n",
      "24\n",
      "Key Error thrown\n"
     ]
    }
   ],
   "source": [
    "my_dict = {'name':'Harsha', 'age': 24}\n",
    "\n",
    "# Output: Harsha\n",
    "print(my_dict['name'])\n",
    "\n",
    "# Output: 24\n",
    "print(my_dict.get('age'))\n",
    "\n",
    "# Trying to access keys which doesn't exist throws error\n",
    "try:\n",
    "    my_dict.get('address')\n",
    "except KeyError:\n",
    "    print('Key Error thrown')\n",
    "try:\n",
    "    my_dict['address']\n",
    "except KeyError:\n",
    "    print('Key Error thrown')\n"
   ]
  },
  {
   "cell_type": "markdown",
   "metadata": {},
   "source": [
    "<h3>Change or add elements in a dictionary</h3>"
   ]
  },
  {
   "cell_type": "markdown",
   "metadata": {},
   "source": [
    "Dictionary are mutable. We can add new items or change the value of existing items using assignment operator.\n",
    "\n",
    "If the key is already present, value gets updated, else a new key: value pair is added to the dictionary."
   ]
  },
  {
   "cell_type": "code",
   "execution_count": 331,
   "metadata": {},
   "outputs": [
    {
     "name": "stdout",
     "output_type": "stream",
     "text": [
      "{'name': 'Harsha', 'age': 26}\n",
      "{'name': 'Harsha', 'age': 26, 'address': 'CHennai'}\n"
     ]
    }
   ],
   "source": [
    "my_dict = {'name':'Harsha', 'age': 24}\n",
    "\n",
    "# update value\n",
    "my_dict['age'] = 26\n",
    "\n",
    "#{'name': 'Harsha', 'age': 26}\n",
    "print(my_dict)\n",
    "\n",
    "# add item\n",
    "my_dict['address'] = 'CHennai'  \n",
    "\n",
    "#{'name': 'Harsha', 'age': 26, 'address': 'CHennai'}\n",
    "print(my_dict)"
   ]
  },
  {
   "cell_type": "code",
   "execution_count": 333,
   "metadata": {},
   "outputs": [
    {
     "name": "stdout",
     "output_type": "stream",
     "text": [
      "{1: 'one', 2: 'two'}\n",
      "{1: 'one', 2: 'two', 3: 'three'}\n"
     ]
    }
   ],
   "source": [
    "#Using update \n",
    "#The update() method takes either a dictionary or an iterable object of key/value pairs (generally tuples).\n",
    "#If update() is called without passing parameters, the dictionary remains unchanged.\n",
    "\n",
    "d = {1: \"one\", 2: \"three\"}\n",
    "d1 = {2: \"two\"}\n",
    "\n",
    "# updates the value of key 2\n",
    "d.update(d1)\n",
    "print(d)\n",
    "\n",
    "d1 = {3: \"three\"}\n",
    "\n",
    "# adds element with key 3\n",
    "d.update(d1)\n",
    "print(d)"
   ]
  },
  {
   "cell_type": "code",
   "execution_count": 336,
   "metadata": {},
   "outputs": [
    {
     "name": "stdout",
     "output_type": "stream",
     "text": [
      "{'a': {'Perl', 'Python'}, 'b': {'C', 'C++'}, 'c': {'Python'}}\n"
     ]
    }
   ],
   "source": [
    "knowledge = {\"a\": {\"Perl\"}, \"b\":{\"C\",\"C++\"}}\n",
    "knowledge2 = {\"c\":{\"Python\"}, \"a\":{\"Perl\", \"Python\"}}\n",
    "knowledge.update(knowledge2)\n",
    "print(knowledge)"
   ]
  },
  {
   "cell_type": "markdown",
   "metadata": {},
   "source": [
    "<h3>Delete or remove elements from a dictionary</h3>"
   ]
  },
  {
   "cell_type": "markdown",
   "metadata": {},
   "source": [
    "We can remove a particular item in a dictionary by using the method pop(). This method removes as item with the provided key and returns the value.\n",
    "\n",
    "The method, popitem() can be used to remove and return an arbitrary item (key, value) form the dictionary. All the items can be removed at once using the clear() method.\n",
    "\n",
    "We can also use the del keyword to remove individual items or the entire dictionary itself."
   ]
  },
  {
   "cell_type": "code",
   "execution_count": 334,
   "metadata": {},
   "outputs": [
    {
     "name": "stdout",
     "output_type": "stream",
     "text": [
      "16\n",
      "{1: 1, 2: 4, 3: 9, 5: 25}\n",
      "(5, 25)\n",
      "{1: 1, 2: 4, 3: 9}\n"
     ]
    },
    {
     "ename": "KeyError",
     "evalue": "5",
     "output_type": "error",
     "traceback": [
      "\u001b[1;31m---------------------------------------------------------------------------\u001b[0m",
      "\u001b[1;31mKeyError\u001b[0m                                  Traceback (most recent call last)",
      "\u001b[1;32m<ipython-input-334-d3532408378d>\u001b[0m in \u001b[0;36m<module>\u001b[1;34m\u001b[0m\n\u001b[0;32m     17\u001b[0m \u001b[1;33m\u001b[0m\u001b[0m\n\u001b[0;32m     18\u001b[0m \u001b[1;31m# delete a particular item\u001b[0m\u001b[1;33m\u001b[0m\u001b[1;33m\u001b[0m\u001b[1;33m\u001b[0m\u001b[0m\n\u001b[1;32m---> 19\u001b[1;33m \u001b[1;32mdel\u001b[0m \u001b[0msquares\u001b[0m\u001b[1;33m[\u001b[0m\u001b[1;36m5\u001b[0m\u001b[1;33m]\u001b[0m\u001b[1;33m\u001b[0m\u001b[1;33m\u001b[0m\u001b[0m\n\u001b[0m\u001b[0;32m     20\u001b[0m \u001b[1;33m\u001b[0m\u001b[0m\n\u001b[0;32m     21\u001b[0m \u001b[1;31m# Output: {2: 4, 3: 9}\u001b[0m\u001b[1;33m\u001b[0m\u001b[1;33m\u001b[0m\u001b[1;33m\u001b[0m\u001b[0m\n",
      "\u001b[1;31mKeyError\u001b[0m: 5"
     ]
    }
   ],
   "source": [
    "# create a dictionary\n",
    "squares = {1:1, 2:4, 3:9, 4:16, 5:25}  \n",
    "\n",
    "# remove a particular item\n",
    "# Output: 16\n",
    "print(squares.pop(4))  \n",
    "\n",
    "# Output: {1: 1, 2: 4, 3: 9, 5: 25}\n",
    "print(squares)\n",
    "\n",
    "# remove an arbitrary item\n",
    "# Output: (1, 1)\n",
    "print(squares.popitem())\n",
    "\n",
    "# Output: {2: 4, 3: 9, 5: 25}\n",
    "print(squares)\n",
    "\n",
    "# delete a particular item\n",
    "del squares[5]  \n",
    "\n",
    "# Output: {2: 4, 3: 9}\n",
    "print(squares)\n",
    "\n",
    "# remove all items\n",
    "squares.clear()\n",
    "\n",
    "# Output: {}\n",
    "print(squares)\n",
    "\n",
    "# delete the dictionary itself\n",
    "del squares\n",
    "\n",
    "# Throws Error\n",
    "# print(squares)"
   ]
  },
  {
   "cell_type": "code",
   "execution_count": 38,
   "metadata": {},
   "outputs": [],
   "source": [
    "a=10\n",
    "a=20"
   ]
  },
  {
   "cell_type": "code",
   "execution_count": 337,
   "metadata": {},
   "outputs": [
    {
     "name": "stdout",
     "output_type": "stream",
     "text": [
      "{'Math': 0, 'English': 0, 'Science': 0}\n",
      "('Math', 0)\n",
      "('English', 0)\n",
      "('Science', 0)\n"
     ]
    },
    {
     "data": {
      "text/plain": [
       "['English', 'Math', 'Science']"
      ]
     },
     "execution_count": 337,
     "metadata": {},
     "output_type": "execute_result"
    }
   ],
   "source": [
    "#Methods in python\n",
    "marks = {}.fromkeys(['Math','English','Science'], 0)\n",
    "\n",
    "# Output: {'English': 0, 'Math': 0, 'Science': 0}\n",
    "print(marks)\n",
    "\n",
    "for item in marks.items():\n",
    "    print(item)\n",
    "\n",
    "# Output: ['English', 'Math', 'Science']\n",
    "list(sorted(marks.keys()))"
   ]
  },
  {
   "attachments": {
    "image.png": {
     "image/png": "[encoded data removed]"
    }
   },
   "cell_type": "markdown",
   "metadata": {},
   "source": [
    "![image.png](attachment:image.png)"
   ]
  },
  {
   "cell_type": "code",
   "execution_count": 339,
   "metadata": {},
   "outputs": [
    {
     "name": "stdout",
     "output_type": "stream",
     "text": [
      "{'course1': {'title': 'Python Training Course for Beginners', 'location': 'Frankfurt', 'trainer': 'Steve G. Snake'}, 'course2': {'title': 'Perl Training Course for Beginners', 'location': 'Berlin', 'trainer': 'Ella M. Charming'}, 'course3': {'title': 'Python Text Processing Course', 'location': 'München', 'trainer': 'Monica A. Snowdon'}}\n",
      "{'course1': {'title': 'Python Training Course for Beginners', 'location': 'Frankfurt', 'trainer': 'Steve G. Snake'}, 'course2': {'title': 'Perl Training Course for Beginners', 'location': 'Berlin', 'trainer': 'Ella M. Charming'}, 'course3': {'title': 'Python Text Processing Course', 'location': 'München', 'trainer': 'Monica A. Snowdon'}}\n"
     ]
    }
   ],
   "source": [
    "#Nested list with copy() function\n",
    "trainings = { \"course1\":{\"title\":\"Python Training Course for Beginners\", \n",
    "                         \"location\":\"Frankfurt\", \n",
    "                         \"trainer\":\"Steve G. Snake\"},\n",
    "              \"course2\":{\"title\":\"Intermediate Python Training\",\n",
    "                         \"location\":\"Berlin\",\n",
    "                         \"trainer\":\"Ella M. Charming\"},\n",
    "              \"course3\":{\"title\":\"Python Text Processing Course\",\n",
    "                         \"location\":\"München\",\n",
    "                         \"trainer\":\"Monica A. Snowdon\"}\n",
    "              }\n",
    "\n",
    "trainings2 = trainings.copy()\n",
    "\n",
    "trainings[\"course2\"][\"title\"] = \"Perl Training Course for Beginners\"\n",
    "print(trainings2)\n",
    "print(trainings)"
   ]
  },
  {
   "cell_type": "markdown",
   "metadata": {},
   "source": [
    "<h3>Python Dictionary Comprehension</h3>"
   ]
  },
  {
   "cell_type": "code",
   "execution_count": 340,
   "metadata": {},
   "outputs": [
    {
     "name": "stdout",
     "output_type": "stream",
     "text": [
      "{0: 0, 1: 1, 2: 4, 3: 9, 4: 16, 5: 25}\n"
     ]
    }
   ],
   "source": [
    "squares = {x: x*x for x in range(6)}\n",
    "\n",
    "# Output: {0: 0, 1: 1, 2: 4, 3: 9, 4: 16, 5: 25}\n",
    "print(squares)"
   ]
  },
  {
   "cell_type": "code",
   "execution_count": null,
   "metadata": {},
   "outputs": [],
   "source": [
    "#Above is equivalent to\n",
    "squares = {}\n",
    "for x in range(6):\n",
    "   squares[x] = x*x"
   ]
  },
  {
   "cell_type": "code",
   "execution_count": 341,
   "metadata": {},
   "outputs": [
    {
     "name": "stdout",
     "output_type": "stream",
     "text": [
      "{1: 1, 3: 9, 5: 25, 7: 49, 9: 81}\n"
     ]
    }
   ],
   "source": [
    "#Example 2\n",
    "odd_squares = {x: x*x for x in range(11) if x%2 == 1}\n",
    "\n",
    "# Output: {1: 1, 3: 9, 5: 25, 7: 49, 9: 81}\n",
    "print(odd_squares)"
   ]
  },
  {
   "cell_type": "code",
   "execution_count": null,
   "metadata": {},
   "outputs": [],
   "source": [
    "[(x,y) for x in [] for y in []]"
   ]
  },
  {
   "cell_type": "code",
   "execution_count": 342,
   "metadata": {},
   "outputs": [
    {
     "name": "stdout",
     "output_type": "stream",
     "text": [
      "True\n",
      "True\n",
      "False\n"
     ]
    }
   ],
   "source": [
    "#Search key in dictionary\n",
    "squares = {1: 1, 3: 9, 5: 25, 7: 49, 9: 81}\n",
    "\n",
    "# Output: True\n",
    "print(1 in squares)\n",
    "\n",
    "# Output: True\n",
    "print(2 not in squares)\n",
    "\n",
    "# membership tests for key only not value\n",
    "# Output: False\n",
    "print(49 in squares)"
   ]
  },
  {
   "cell_type": "code",
   "execution_count": 349,
   "metadata": {},
   "outputs": [
    {
     "name": "stdout",
     "output_type": "stream",
     "text": [
      "1\n",
      "9\n",
      "25\n",
      "49\n",
      "81\n",
      "Iterate through values\n",
      "1\n",
      "9\n",
      "25\n",
      "49\n",
      "81\n",
      "Iterate through keys\n",
      "1\n",
      "3\n",
      "5\n",
      "7\n",
      "9\n"
     ]
    }
   ],
   "source": [
    "#Iterating Through a Dictionary\n",
    "squares = {1: 1, 3: 9, 5: 25, 7: 49, 9: 81}\n",
    "for i in squares:\n",
    "    print(squares[i])\n",
    "\n",
    "#Iterating through values\n",
    "print('Iterate through values')\n",
    "for value in squares.values():\n",
    "    print(value)\n",
    "    \n",
    "#Iterating through keys\n",
    "print('Iterate through keys')\n",
    "for key in squares.keys():\n",
    "    print(key)"
   ]
  },
  {
   "attachments": {
    "image.png": {
     "image/png": "[encoded data removed]"
    }
   },
   "cell_type": "markdown",
   "metadata": {},
   "source": [
    "![image.png](attachment:image.png)"
   ]
  },
  {
   "cell_type": "code",
   "execution_count": 344,
   "metadata": {},
   "outputs": [
    {
     "name": "stdout",
     "output_type": "stream",
     "text": [
      "5\n",
      "[1, 3, 5, 7, 9]\n"
     ]
    }
   ],
   "source": [
    "squares = {1: 1, 3: 9, 5: 25, 7: 49, 9: 81}\n",
    "\n",
    "# Output: 5\n",
    "print(len(squares))\n",
    "\n",
    "# Output: [1, 3, 5, 7, 9]\n",
    "print(sorted(squares))"
   ]
  },
  {
   "cell_type": "markdown",
   "metadata": {},
   "source": [
    "<h2>Creating a Tuple</h2>\n",
    "\n",
    "A tuple is created by placing all the items (elements) inside parentheses (), separated by commas. The parentheses are optional, however, it is a good practice to use them.\n",
    "\n",
    "A tuple can have any number of items and they may be of different types (integer, float, list, string, etc.)."
   ]
  },
  {
   "cell_type": "code",
   "execution_count": 8,
   "metadata": {},
   "outputs": [
    {
     "name": "stdout",
     "output_type": "stream",
     "text": [
      "()\n",
      "(1, 2, 3)\n",
      "(1, 'Hello', 3.4)\n",
      "('mouse', [8, 4, 6], (1, 2, 3))\n"
     ]
    }
   ],
   "source": [
    "# Empty tuple\n",
    "my_tuple = ()\n",
    "print(my_tuple)  # Output: ()\n",
    "\n",
    "# Tuple having integers\n",
    "my_tuple = (1, 2, 3)\n",
    "print(my_tuple)  # Output: (1, 2, 3) \n",
    "\n",
    "# tuple with mixed datatypes\n",
    "my_tuple = (1, \"Hello\", 3.4)\n",
    "print(my_tuple)  # Output: (1, \"Hello\", 3.4)  \n",
    "\n",
    "# nested tuple\n",
    "my_tuple = (\"mouse\", [8, 4, 6], (1, 2, 3))\n",
    "\n",
    "# Output: (\"mouse\", [8, 4, 6], (1, 2, 3)) \n",
    "print(my_tuple)"
   ]
  },
  {
   "cell_type": "code",
   "execution_count": 1,
   "metadata": {},
   "outputs": [
    {
     "name": "stdout",
     "output_type": "stream",
     "text": [
      "(3, 4.6, 'dog')\n",
      "3\n",
      "4.6\n",
      "dog\n"
     ]
    }
   ],
   "source": [
    "#A tuple can also be created without using parentheses. This is known as tuple packing.\n",
    "my_tuple = 3, 4.6, \"dog\"\n",
    "print(my_tuple)   # Output: 3, 4.6, \"dog\" \n",
    "\n",
    "# tuple unpacking is also possible\n",
    "a, b, c = my_tuple\n",
    "\n",
    "print(a)      # 3\n",
    "print(b)      # 4.6 \n",
    "print(c)      # dog "
   ]
  },
  {
   "cell_type": "code",
   "execution_count": 2,
   "metadata": {},
   "outputs": [
    {
     "name": "stdout",
     "output_type": "stream",
     "text": [
      "<class 'str'>\n",
      "<class 'tuple'>\n",
      "<class 'tuple'>\n"
     ]
    }
   ],
   "source": [
    "#Creating a tuple with one element is a bit tricky.\n",
    "\n",
    "#Having one element within parentheses is not enough. We will need a trailing comma to indicate that it is, in fact, a tuple.\n",
    "my_tuple = (\"hello\")\n",
    "print(type(my_tuple))  # <class 'str'>\n",
    "\n",
    "# Creating a tuple having one element\n",
    "my_tuple = (\"hello\",)  \n",
    "print(type(my_tuple))  # <class 'tuple'> \n",
    "\n",
    "# Parentheses is optional\n",
    "my_tuple = \"hello\",\n",
    "print(type(my_tuple))  # <class 'tuple'> "
   ]
  },
  {
   "cell_type": "markdown",
   "metadata": {},
   "source": [
    "Access Tuple Elements:\n",
    "\n",
    "There are various ways in which we can access the elements of a tuple.\n",
    "\n",
    "1. Indexing\n",
    "\n",
    "We can use the index operator [] to access an item in a tuple where the index starts from 0.\n",
    "\n",
    "So, a tuple having 6 elements will have indices from 0 to 5. Trying to access an element outside of tuple (for example, 6, 7,...) will raise an IndexError.\n",
    "\n",
    "The index must be an integer; so we cannot use float or other types. This will result in TypeError.\n",
    "\n",
    "Likewise, nested tuples are accessed using nested indexing, as shown in the example below."
   ]
  },
  {
   "cell_type": "code",
   "execution_count": 5,
   "metadata": {},
   "outputs": [
    {
     "name": "stdout",
     "output_type": "stream",
     "text": [
      "p\n",
      "t\n",
      "e\n",
      "3\n"
     ]
    }
   ],
   "source": [
    "my_tuple = ('p','e','r','m','i','t')\n",
    "\n",
    "print(my_tuple[0])   # 'p' \n",
    "print(my_tuple[5])   # 't'\n",
    "\n",
    "# IndexError: list index out of range\n",
    "# print(my_tuple[6])\n",
    "\n",
    "# Index must be an integer\n",
    "# TypeError: list indices must be integers, not float\n",
    "# my_tuple[2.0]\n",
    "\n",
    "# nested tuple\n",
    "n_tuple = (\"mouse\", [8, 4, 6], (1, 2, 3))\n",
    "\n",
    "# nested index\n",
    "print(n_tuple[0][4])       # 's'\n",
    "print(n_tuple[2][2])       # 4"
   ]
  },
  {
   "cell_type": "code",
   "execution_count": 12,
   "metadata": {},
   "outputs": [
    {
     "name": "stdout",
     "output_type": "stream",
     "text": [
      "t\n",
      "p\n"
     ]
    }
   ],
   "source": [
    "#2. Negative Indexing\n",
    "# Python allows negative indexing for its sequences.\n",
    "\n",
    "# The index of -1 refers to the last item, -2 to the second last item and so on.\n",
    "my_tuple = ('p','e','r','m','i','t')\n",
    "\n",
    "# Output: 't'\n",
    "print(my_tuple[-1])\n",
    "\n",
    "# Output: 'p'\n",
    "print(my_tuple[-6])"
   ]
  },
  {
   "cell_type": "code",
   "execution_count": 19,
   "metadata": {},
   "outputs": [
    {
     "name": "stdout",
     "output_type": "stream",
     "text": [
      "('e', 'r', 'z')\n",
      "('v', 'e')\n",
      "('1', '3')\n",
      "('v', 'e', 'r', 'z', 'e', 'o', 'b', '1', '3')\n"
     ]
    }
   ],
   "source": [
    "#We can access a range of items in a tuple by using the slicing operator - colon \":\".\n",
    "my_tuple = ('v','e','r','z','e','o','b','1','3')\n",
    "\n",
    "# elements 2nd to 4th\n",
    "# Output: ('r', 'o', 'g')\n",
    "print(my_tuple[1:4])\n",
    "\n",
    "# elements beginning to 2nd\n",
    "# Output: ('p', 'r')\n",
    "print(my_tuple[:-7])\n",
    "\n",
    "# elements 8th to end\n",
    "# Output: ('i', 'z')\n",
    "print(my_tuple[7:])\n",
    "\n",
    "# elements beginning to end\n",
    "# Output: ('v','e','r','z','e','o','b','1','3')\n",
    "print(my_tuple[:])"
   ]
  },
  {
   "cell_type": "code",
   "execution_count": 30,
   "metadata": {},
   "outputs": [
    {
     "ename": "TypeError",
     "evalue": "'tuple' object does not support item assignment",
     "output_type": "error",
     "traceback": [
      "\u001b[1;31m---------------------------------------------------------------------------\u001b[0m",
      "\u001b[1;31mTypeError\u001b[0m                                 Traceback (most recent call last)",
      "\u001b[1;32m<ipython-input-30-23e76a78293d>\u001b[0m in \u001b[0;36m<module>\u001b[1;34m\u001b[0m\n\u001b[0;32m      8\u001b[0m \u001b[0mmy_tuple\u001b[0m \u001b[1;33m=\u001b[0m \u001b[1;33m(\u001b[0m\u001b[1;36m4\u001b[0m\u001b[1;33m,\u001b[0m \u001b[1;36m2\u001b[0m\u001b[1;33m,\u001b[0m \u001b[1;36m3\u001b[0m\u001b[1;33m,\u001b[0m \u001b[1;33m[\u001b[0m\u001b[1;36m6\u001b[0m\u001b[1;33m,\u001b[0m \u001b[1;36m5\u001b[0m\u001b[1;33m]\u001b[0m\u001b[1;33m)\u001b[0m\u001b[1;33m\u001b[0m\u001b[1;33m\u001b[0m\u001b[0m\n\u001b[0;32m      9\u001b[0m \u001b[1;33m\u001b[0m\u001b[0m\n\u001b[1;32m---> 10\u001b[1;33m \u001b[0mmy_tuple\u001b[0m\u001b[1;33m[\u001b[0m\u001b[1;36m0\u001b[0m\u001b[1;33m]\u001b[0m\u001b[1;33m=\u001b[0m\u001b[1;36m5\u001b[0m\u001b[1;33m\u001b[0m\u001b[1;33m\u001b[0m\u001b[0m\n\u001b[0m\u001b[0;32m     11\u001b[0m \u001b[1;31m# TypeError: 'tuple' object does not support item assignment\u001b[0m\u001b[1;33m\u001b[0m\u001b[1;33m\u001b[0m\u001b[1;33m\u001b[0m\u001b[0m\n\u001b[0;32m     12\u001b[0m \u001b[1;31m# my_tuple[1] = 9\u001b[0m\u001b[1;33m\u001b[0m\u001b[1;33m\u001b[0m\u001b[1;33m\u001b[0m\u001b[0m\n",
      "\u001b[1;31mTypeError\u001b[0m: 'tuple' object does not support item assignment"
     ]
    }
   ],
   "source": [
    "# Changing a Tuple\n",
    "# Unlike lists, tuples are immutable.\n",
    "\n",
    "# This means that elements of a tuple cannot be changed once it has been assigned. But, if the element is itself a mutable datatype like list, its nested items can be changed.\n",
    "\n",
    "# We can also assign a tuple to different values (reassignment).\n",
    "\n",
    "my_tuple = (4, 2, 3, [6, 5])\n",
    "\n",
    "my_tuple[0]=5\n",
    "# TypeError: 'tuple' object does not support item assignment\n",
    "# my_tuple[1] = 9\n",
    "\n",
    "# However, item of mutable element can be changed\n",
    "my_tuple[3][0] = 9    # Output: (4, 2, 3, [9, 5])\n",
    "print(my_tuple)\n",
    "\n",
    "# Tuples can be reassigned\n",
    "my_tuple = ('v','e','r','z','e','o','b','1','3')\n",
    "\n",
    "# Output: ('v','e','r','z','e','o','b','1','3')\n",
    "print(my_tuple)"
   ]
  },
  {
   "cell_type": "code",
   "execution_count": 6,
   "metadata": {},
   "outputs": [
    {
     "ename": "IndexError",
     "evalue": "list assignment index out of range",
     "output_type": "error",
     "traceback": [
      "\u001b[1;31m---------------------------------------------------------------------------\u001b[0m",
      "\u001b[1;31mIndexError\u001b[0m                                Traceback (most recent call last)",
      "\u001b[1;32m<ipython-input-6-ccbf78837ec4>\u001b[0m in \u001b[0;36m<module>\u001b[1;34m\u001b[0m\n\u001b[0;32m      1\u001b[0m \u001b[0mmy_tuple\u001b[0m \u001b[1;33m=\u001b[0m \u001b[1;33m(\u001b[0m\u001b[1;36m4\u001b[0m\u001b[1;33m,\u001b[0m \u001b[1;36m2\u001b[0m\u001b[1;33m,\u001b[0m \u001b[1;36m3\u001b[0m\u001b[1;33m,\u001b[0m \u001b[1;33m[\u001b[0m\u001b[1;36m6\u001b[0m\u001b[1;33m,\u001b[0m \u001b[1;36m5\u001b[0m\u001b[1;33m]\u001b[0m\u001b[1;33m)\u001b[0m\u001b[1;33m\u001b[0m\u001b[1;33m\u001b[0m\u001b[0m\n\u001b[0;32m      2\u001b[0m \u001b[1;33m\u001b[0m\u001b[0m\n\u001b[1;32m----> 3\u001b[1;33m \u001b[0mmy_tuple\u001b[0m\u001b[1;33m[\u001b[0m\u001b[1;36m3\u001b[0m\u001b[1;33m]\u001b[0m\u001b[1;33m[\u001b[0m\u001b[1;36m3\u001b[0m\u001b[1;33m]\u001b[0m\u001b[1;33m=\u001b[0m\u001b[1;36m10\u001b[0m\u001b[1;33m\u001b[0m\u001b[1;33m\u001b[0m\u001b[0m\n\u001b[0m",
      "\u001b[1;31mIndexError\u001b[0m: list assignment index out of range"
     ]
    }
   ],
   "source": [
    "my_tuple = (4, 2, 3, [6, 5])\n",
    "\n",
    "my_tuple[3][3]=10"
   ]
  },
  {
   "cell_type": "code",
   "execution_count": 15,
   "metadata": {},
   "outputs": [
    {
     "name": "stdout",
     "output_type": "stream",
     "text": [
      "(1, 2, 3, 4, 5, 6)\n",
      "('Repeat', 'Repeat', 'Repeat')\n"
     ]
    }
   ],
   "source": [
    "# We can use + operator to combine two tuples. This is also called concatenation.\n",
    "\n",
    "# We can also repeat the elements in a tuple for a given number of times using the * operator.\n",
    "\n",
    "# Both + and * operations result in a new tuple.\n",
    "\n",
    "# Concatenation\n",
    "# Output: (1, 2, 3, 4, 5, 6)\n",
    "print((1, 2, 3) + (4, 5, 6))\n",
    "\n",
    "# Repeat\n",
    "# Output: ('Repeat', 'Repeat', 'Repeat')\n",
    "print((\"Repeat\",) * 3)"
   ]
  },
  {
   "cell_type": "code",
   "execution_count": 18,
   "metadata": {},
   "outputs": [
    {
     "ename": "NameError",
     "evalue": "name 'my_tuple' is not defined",
     "output_type": "error",
     "traceback": [
      "\u001b[1;31m---------------------------------------------------------------------------\u001b[0m",
      "\u001b[1;31mNameError\u001b[0m                                 Traceback (most recent call last)",
      "\u001b[1;32m<ipython-input-18-afa0a50ee21e>\u001b[0m in \u001b[0;36m<module>\u001b[1;34m\u001b[0m\n\u001b[0;32m     14\u001b[0m \u001b[1;33m\u001b[0m\u001b[0m\n\u001b[0;32m     15\u001b[0m \u001b[1;31m# NameError: name 'my_tuple' is not defined\u001b[0m\u001b[1;33m\u001b[0m\u001b[1;33m\u001b[0m\u001b[1;33m\u001b[0m\u001b[0m\n\u001b[1;32m---> 16\u001b[1;33m \u001b[0mprint\u001b[0m\u001b[1;33m(\u001b[0m\u001b[0mmy_tuple\u001b[0m\u001b[1;33m)\u001b[0m\u001b[1;33m\u001b[0m\u001b[1;33m\u001b[0m\u001b[0m\n\u001b[0m",
      "\u001b[1;31mNameError\u001b[0m: name 'my_tuple' is not defined"
     ]
    }
   ],
   "source": [
    "# Deleting a Tuple\n",
    "# As discussed above, we cannot change the elements in a tuple. That also means we cannot delete or remove items from a tuple.\n",
    "\n",
    "# But deleting a tuple entirely is possible using the keyword del.\n",
    "\n",
    "my_tuple = ('v','e','r','z','e','o','b','1','3')\n",
    "\n",
    "# can't delete items\n",
    "# TypeError: 'tuple' object doesn't support item deletion\n",
    "# del my_tuple[3]\n",
    "\n",
    "# Can delete an entire tuple\n",
    "del my_tuple\n",
    "\n",
    "# NameError: name 'my_tuple' is not defined\n",
    "print(my_tuple)"
   ]
  },
  {
   "cell_type": "code",
   "execution_count": 20,
   "metadata": {},
   "outputs": [
    {
     "name": "stdout",
     "output_type": "stream",
     "text": [
      "2\n",
      "3\n"
     ]
    }
   ],
   "source": [
    "#methods\n",
    "my_tuple = ('a','p','p','l','e',)\n",
    "\n",
    "print(my_tuple.count('p'))  # Output: 2\n",
    "print(my_tuple.index('l'))  # Output: 3"
   ]
  },
  {
   "cell_type": "code",
   "execution_count": 21,
   "metadata": {},
   "outputs": [
    {
     "name": "stdout",
     "output_type": "stream",
     "text": [
      "Hello John\n",
      "Hello Kate\n"
     ]
    }
   ],
   "source": [
    "#Iterating Through a Tuple\n",
    "# Output: \n",
    "# Hello John\n",
    "# Hello Kate\n",
    "for name in ('John','Kate'):\n",
    "     print(\"Hello\",name) "
   ]
  },
  {
   "cell_type": "markdown",
   "metadata": {},
   "source": [
    "Advantages of Tuple over List:\n",
    "    \n",
    "Since tuples are quite similar to lists, both of them are used in similar situations as well.\n",
    "\n",
    "However, there are certain advantages of implementing a tuple over a list. Below listed are some of the main advantages:\n",
    "\n",
    "We generally use tuple for heterogeneous (different) datatypes and list for homogeneous (similar) datatypes.\n",
    "\n",
    "Since tuples are immutable, iterating through tuple is faster than with list. So there is a slight performance boost.\n",
    "\n",
    "Tuples that contain immutable elements can be used as a key for a dictionary. With lists, this is not possible.\n",
    "\n",
    "If you have data that doesn't change, implementing it as tuple will guarantee that it remains write-protected."
   ]
  },
  {
   "cell_type": "markdown",
   "metadata": {},
   "source": [
    "<h2>Python class init</h2>"
   ]
  },
  {
   "cell_type": "markdown",
   "metadata": {},
   "source": [
    "Whenever a beginner starts learning the Python programming language, they come across something like __init__ which usually they don’t fully understand."
   ]
  },
  {
   "cell_type": "code",
   "execution_count": 1,
   "metadata": {},
   "outputs": [
    {
     "name": "stdout",
     "output_type": "stream",
     "text": [
      "Init called.\n"
     ]
    },
    {
     "data": {
      "text/plain": [
       "'Harsha'"
      ]
     },
     "execution_count": 1,
     "metadata": {},
     "output_type": "execute_result"
    }
   ],
   "source": [
    "# Understanding python class init function\n",
    "# Let’s see a short code snippet and see what we’re trying to understand\n",
    "class Student(object):\n",
    "\n",
    "    def __init__(self, name):\n",
    "        print(\"Init called.\")\n",
    "        self.name = name\n",
    "\n",
    "    def method(self):\n",
    "        return self.name \n",
    "\n",
    "my_object = Student('Harsha')\n",
    "my_object.method()"
   ]
  },
  {
   "cell_type": "markdown",
   "metadata": {},
   "source": [
    "<b>What does the python init method do?</b>\n",
    "\n",
    "When a new instance of a python class is created, it is the __init__ method which is called and proves to be a very good place where we can modify the object after it has been created.\n",
    "\n",
    "This means that when we create a new instance of the class like:"
   ]
  },
  {
   "cell_type": "code",
   "execution_count": 2,
   "metadata": {},
   "outputs": [
    {
     "name": "stdout",
     "output_type": "stream",
     "text": [
      "Init called.\n"
     ]
    }
   ],
   "source": [
    "my_object = Student('Harsha')"
   ]
  },
  {
   "cell_type": "markdown",
   "metadata": {},
   "source": [
    "<b>Is __init__ the constructor?</b>\n",
    "\n",
    "Actually yes. __init__ is an oop construct. __init__ is the constructor for a class. Just like mentioned above, the __init__ method is called as soon as the memory for the object is allocated. Let’s see what we did above in our snippet:"
   ]
  },
  {
   "cell_type": "code",
   "execution_count": 3,
   "metadata": {},
   "outputs": [],
   "source": [
    "def __init__(self, something):\n",
    "    self.something = something"
   ]
  },
  {
   "cell_type": "code",
   "execution_count": 4,
   "metadata": {},
   "outputs": [],
   "source": [
    "#Using self is important because if you don’t and implement your method like:\n",
    "def __init__(self, something):\n",
    "    _something = something\n",
    "#The something parameter would be stored in variables on the stack and would be discarded as soon as the __init__ method goes out of scope.\n"
   ]
  },
  {
   "cell_type": "markdown",
   "metadata": {},
   "source": [
    "<b>How __init__ works with Inheritance?</b>"
   ]
  },
  {
   "cell_type": "code",
   "execution_count": 9,
   "metadata": {},
   "outputs": [
    {
     "name": "stdout",
     "output_type": "stream",
     "text": [
      "User Init called.\n",
      "Student Init called.\n"
     ]
    },
    {
     "data": {
      "text/plain": [
       "'Harsha'"
      ]
     },
     "execution_count": 9,
     "metadata": {},
     "output_type": "execute_result"
    }
   ],
   "source": [
    "#When we have a class inheriting from a superclass, __init__ method works the same way. \n",
    "#Let us try to demonstrate what happens when we try to initialise a child class:\n",
    "class User(object):\n",
    "    def __init__(self, something):\n",
    "        print(\"User Init called.\")\n",
    "        self.something = something\n",
    "\n",
    "    def method(self):\n",
    "        return self.something \n",
    "\n",
    "class Student(User):\n",
    "    def __init__(self, something):\n",
    "        User.__init__(self, something)\n",
    "        print(\"Student Init called.\")\n",
    "        self.something = something\n",
    "\n",
    "    def method(self):\n",
    "        return self.something \n",
    "\n",
    "my_object = Student('Harsha')\n",
    "my_object.method()"
   ]
  },
  {
   "cell_type": "code",
   "execution_count": null,
   "metadata": {},
   "outputs": [],
   "source": [
    "#n above code, when we initialised the Student object, this will be the output which is created when we ran the above program:\n",
    "#So, before the child class, the parent’s class init was called. You can control this by modifying the order in which the init is called for a parent or a child class.\n",
    "#To summarise, python __init__ is what is called as a constructor in other OOPs languages such as C++ and Java. \n",
    "#The basic idea behind this is, it a special method which is automatically called when an object of that Class is created."
   ]
  },
  {
   "cell_type": "code",
   "execution_count": null,
   "metadata": {},
   "outputs": [],
   "source": []
  },
  {
   "cell_type": "markdown",
   "metadata": {},
   "source": [
    "<h2>Common errors in python</h2>"
   ]
  },
  {
   "cell_type": "markdown",
   "metadata": {},
   "source": [
    "<h3>1.Incorrect indentation, tabs and spaces</h3>"
   ]
  },
  {
   "cell_type": "markdown",
   "metadata": {},
   "source": [
    "Never use tabs, only spaces. Use 4 spaces for a tab. And follow a consistent indentation pattern, because many Python features rely on indentation. If your code is executing a task when it shouldn't then review the indentation you’re using."
   ]
  },
  {
   "cell_type": "markdown",
   "metadata": {},
   "source": [
    "<h3>2.Using a Mutable Value as a Default Value</h3>"
   ]
  },
  {
   "cell_type": "code",
   "execution_count": 232,
   "metadata": {},
   "outputs": [
    {
     "data": {
      "text/plain": [
       "[9]"
      ]
     },
     "execution_count": 232,
     "metadata": {},
     "output_type": "execute_result"
    }
   ],
   "source": [
    "#Example\n",
    "def abc(num=[]):\n",
    "    num.append(9)\n",
    "    return num\n",
    "\n",
    "abc()"
   ]
  },
  {
   "cell_type": "code",
   "execution_count": 233,
   "metadata": {},
   "outputs": [
    {
     "name": "stdout",
     "output_type": "stream",
     "text": [
      "[1, 2, 9]\n",
      "[1, 2, 3, 9]\n"
     ]
    }
   ],
   "source": [
    "print(abc(num=[1,2]))\n",
    "print(abc(num=[1,2,3]))"
   ]
  },
  {
   "cell_type": "code",
   "execution_count": 234,
   "metadata": {},
   "outputs": [
    {
     "name": "stdout",
     "output_type": "stream",
     "text": [
      "[9, 9]\n",
      "[9, 9, 9]\n",
      "[9, 9, 9, 9]\n"
     ]
    }
   ],
   "source": [
    "#Till now there is no problem\n",
    "print(abc())\n",
    "print(abc())\n",
    "print(abc()) #In Python default values or functions are instantiated not when the function is called, but when it's defined."
   ]
  },
  {
   "cell_type": "code",
   "execution_count": 236,
   "metadata": {},
   "outputs": [],
   "source": [
    "#How to handle\n",
    "def abc(num=None):\n",
    "    if num is None:\n",
    "        num = []\n",
    "    num.append(9)\n",
    "    return num"
   ]
  },
  {
   "cell_type": "code",
   "execution_count": 237,
   "metadata": {},
   "outputs": [
    {
     "name": "stdout",
     "output_type": "stream",
     "text": [
      "[9]\n",
      "[9]\n",
      "[9]\n"
     ]
    }
   ],
   "source": [
    "print(abc())\n",
    "print(abc())\n",
    "print(abc())"
   ]
  },
  {
   "cell_type": "markdown",
   "metadata": {},
   "source": [
    "<h3>3.Specifying parameters incorrectly for an exception block</h3>"
   ]
  },
  {
   "cell_type": "code",
   "execution_count": 238,
   "metadata": {},
   "outputs": [
    {
     "ename": "SyntaxError",
     "evalue": "invalid syntax (<ipython-input-238-8fc8b4eb19b9>, line 4)",
     "output_type": "error",
     "traceback": [
      "\u001b[1;36m  File \u001b[1;32m\"<ipython-input-238-8fc8b4eb19b9>\"\u001b[1;36m, line \u001b[1;32m4\u001b[0m\n\u001b[1;33m    except ValueError, IndexError:  # To catch both exceptions, right?\u001b[0m\n\u001b[1;37m                     ^\u001b[0m\n\u001b[1;31mSyntaxError\u001b[0m\u001b[1;31m:\u001b[0m invalid syntax\n"
     ]
    }
   ],
   "source": [
    "try:\n",
    "    l = [\"a\", \"b\"]\n",
    "    int(l[2])\n",
    "except ValueError, IndexError:  # To catch both exceptions, right?\n",
    "    pass\n",
    "\n",
    "#The problem here is that the except statement does not take a list of exceptions specified in this manner\n",
    "#How to handle this \n",
    "\n"
   ]
  },
  {
   "cell_type": "code",
   "execution_count": 239,
   "metadata": {},
   "outputs": [],
   "source": [
    "try:\n",
    "    l = [\"a\", \"b\"]\n",
    "    int(l[2])\n",
    "except (ValueError, IndexError) as e:  \n",
    "    pass"
   ]
  },
  {
   "cell_type": "markdown",
   "metadata": {},
   "source": [
    "<h3>4.Scoping of local and global variables</h3>"
   ]
  },
  {
   "cell_type": "code",
   "execution_count": 241,
   "metadata": {},
   "outputs": [
    {
     "data": {
      "text/plain": [
       "42"
      ]
     },
     "execution_count": 241,
     "metadata": {},
     "output_type": "execute_result"
    }
   ],
   "source": [
    "b = 42\n",
    "def abc():\n",
    "    return b\n",
    "abc()"
   ]
  },
  {
   "cell_type": "code",
   "execution_count": 247,
   "metadata": {},
   "outputs": [
    {
     "data": {
      "text/plain": [
       "[42, 0]"
      ]
     },
     "execution_count": 247,
     "metadata": {},
     "output_type": "execute_result"
    }
   ],
   "source": [
    "b = [42]\n",
    "def abc():\n",
    "    b.append(0)\n",
    "abc()\n",
    "b"
   ]
  },
  {
   "cell_type": "code",
   "execution_count": 248,
   "metadata": {},
   "outputs": [
    {
     "ename": "UnboundLocalError",
     "evalue": "local variable 'b' referenced before assignment",
     "output_type": "error",
     "traceback": [
      "\u001b[1;31m---------------------------------------------------------------------------\u001b[0m",
      "\u001b[1;31mUnboundLocalError\u001b[0m                         Traceback (most recent call last)",
      "\u001b[1;32m<ipython-input-248-6c6f737702f5>\u001b[0m in \u001b[0;36m<module>\u001b[1;34m\u001b[0m\n\u001b[0;32m      4\u001b[0m     \u001b[0mprint\u001b[0m\u001b[1;33m(\u001b[0m\u001b[0mb\u001b[0m\u001b[1;33m)\u001b[0m\u001b[1;33m\u001b[0m\u001b[1;33m\u001b[0m\u001b[0m\n\u001b[0;32m      5\u001b[0m     \u001b[0mb\u001b[0m \u001b[1;33m=\u001b[0m \u001b[1;36m0\u001b[0m\u001b[1;33m\u001b[0m\u001b[1;33m\u001b[0m\u001b[0m\n\u001b[1;32m----> 6\u001b[1;33m \u001b[0mabc\u001b[0m\u001b[1;33m(\u001b[0m\u001b[1;33m)\u001b[0m\u001b[1;33m\u001b[0m\u001b[1;33m\u001b[0m\u001b[0m\n\u001b[0m",
      "\u001b[1;32m<ipython-input-248-6c6f737702f5>\u001b[0m in \u001b[0;36mabc\u001b[1;34m()\u001b[0m\n\u001b[0;32m      2\u001b[0m \u001b[0mb\u001b[0m \u001b[1;33m=\u001b[0m \u001b[1;36m42\u001b[0m\u001b[1;33m\u001b[0m\u001b[1;33m\u001b[0m\u001b[0m\n\u001b[0;32m      3\u001b[0m \u001b[1;32mdef\u001b[0m \u001b[0mabc\u001b[0m\u001b[1;33m(\u001b[0m\u001b[1;33m)\u001b[0m\u001b[1;33m:\u001b[0m\u001b[1;33m\u001b[0m\u001b[1;33m\u001b[0m\u001b[0m\n\u001b[1;32m----> 4\u001b[1;33m     \u001b[0mprint\u001b[0m\u001b[1;33m(\u001b[0m\u001b[0mb\u001b[0m\u001b[1;33m)\u001b[0m\u001b[1;33m\u001b[0m\u001b[1;33m\u001b[0m\u001b[0m\n\u001b[0m\u001b[0;32m      5\u001b[0m     \u001b[0mb\u001b[0m \u001b[1;33m=\u001b[0m \u001b[1;36m0\u001b[0m\u001b[1;33m\u001b[0m\u001b[1;33m\u001b[0m\u001b[0m\n\u001b[0;32m      6\u001b[0m \u001b[0mabc\u001b[0m\u001b[1;33m(\u001b[0m\u001b[1;33m)\u001b[0m\u001b[1;33m\u001b[0m\u001b[1;33m\u001b[0m\u001b[0m\n",
      "\u001b[1;31mUnboundLocalError\u001b[0m: local variable 'b' referenced before assignment"
     ]
    }
   ],
   "source": [
    "#Here is the error\n",
    "b = 42\n",
    "def abc():\n",
    "    print(b)\n",
    "    b = 0\n",
    "abc()"
   ]
  },
  {
   "cell_type": "code",
   "execution_count": 249,
   "metadata": {},
   "outputs": [],
   "source": [
    "#We should global keyword when you want to modify the global variables in local scope"
   ]
  },
  {
   "cell_type": "markdown",
   "metadata": {},
   "source": [
    "<b>5.Relying on the assignment operator instead of the equality operator: When performing a comparison between two objects or value, you just use the equality operator (==), not the assignment operator (=). The assignment operator places an object or value within a variable and doesn’t compare anything.</b>"
   ]
  },
  {
   "cell_type": "markdown",
   "metadata": {},
   "source": [
    "<b>6.Creating count-by-one errors on loops: Remember that a loop doesn’t count the last number you specify in a range. So, if you specify the range [1:11], you actually get output for values between 1 and 10.</b>"
   ]
  },
  {
   "cell_type": "code",
   "execution_count": 250,
   "metadata": {},
   "outputs": [
    {
     "data": {
      "text/plain": [
       "[1, 2, 3, 4, 5, 6, 7, 8, 9, 10]"
      ]
     },
     "execution_count": 250,
     "metadata": {},
     "output_type": "execute_result"
    }
   ],
   "source": [
    "a = list(range(1, 11))\n",
    "a"
   ]
  },
  {
   "cell_type": "markdown",
   "metadata": {},
   "source": [
    "<h3>7.Modifying a list while iterating over it</h3>"
   ]
  },
  {
   "cell_type": "code",
   "execution_count": 251,
   "metadata": {},
   "outputs": [
    {
     "ename": "IndexError",
     "evalue": "list index out of range",
     "output_type": "error",
     "traceback": [
      "\u001b[1;31m---------------------------------------------------------------------------\u001b[0m",
      "\u001b[1;31mIndexError\u001b[0m                                Traceback (most recent call last)",
      "\u001b[1;32m<ipython-input-251-1e3ed043f1bd>\u001b[0m in \u001b[0;36m<module>\u001b[1;34m\u001b[0m\n\u001b[0;32m      2\u001b[0m \u001b[0mnumbers\u001b[0m \u001b[1;33m=\u001b[0m \u001b[1;33m[\u001b[0m\u001b[0mn\u001b[0m \u001b[1;32mfor\u001b[0m \u001b[0mn\u001b[0m \u001b[1;32min\u001b[0m \u001b[0mrange\u001b[0m\u001b[1;33m(\u001b[0m\u001b[1;36m10\u001b[0m\u001b[1;33m)\u001b[0m\u001b[1;33m]\u001b[0m\u001b[1;33m\u001b[0m\u001b[1;33m\u001b[0m\u001b[0m\n\u001b[0;32m      3\u001b[0m \u001b[1;32mfor\u001b[0m \u001b[0mi\u001b[0m \u001b[1;32min\u001b[0m \u001b[0mrange\u001b[0m\u001b[1;33m(\u001b[0m\u001b[0mlen\u001b[0m\u001b[1;33m(\u001b[0m\u001b[0mnumbers\u001b[0m\u001b[1;33m)\u001b[0m\u001b[1;33m)\u001b[0m\u001b[1;33m:\u001b[0m\u001b[1;33m\u001b[0m\u001b[1;33m\u001b[0m\u001b[0m\n\u001b[1;32m----> 4\u001b[1;33m     \u001b[1;32mif\u001b[0m \u001b[0modd\u001b[0m\u001b[1;33m(\u001b[0m\u001b[0mnumbers\u001b[0m\u001b[1;33m[\u001b[0m\u001b[0mi\u001b[0m\u001b[1;33m]\u001b[0m\u001b[1;33m)\u001b[0m\u001b[1;33m:\u001b[0m\u001b[1;33m\u001b[0m\u001b[1;33m\u001b[0m\u001b[0m\n\u001b[0m\u001b[0;32m      5\u001b[0m         \u001b[1;32mdel\u001b[0m \u001b[0mnumbers\u001b[0m\u001b[1;33m[\u001b[0m\u001b[0mi\u001b[0m\u001b[1;33m]\u001b[0m  \u001b[1;31m# BAD: Deleting item from a list while iterating over it\u001b[0m\u001b[1;33m\u001b[0m\u001b[1;33m\u001b[0m\u001b[0m\n\u001b[0;32m      6\u001b[0m \u001b[1;33m\u001b[0m\u001b[0m\n",
      "\u001b[1;31mIndexError\u001b[0m: list index out of range"
     ]
    }
   ],
   "source": [
    "odd = lambda x : bool(x % 2)\n",
    "numbers = [n for n in range(10)]\n",
    "for i in range(len(numbers)):\n",
    "    if odd(numbers[i]):\n",
    "        del numbers[i]  # BAD: Deleting item from a list while iterating over it\n",
    "        "
   ]
  },
  {
   "cell_type": "code",
   "execution_count": 252,
   "metadata": {},
   "outputs": [
    {
     "data": {
      "text/plain": [
       "[0, 2, 4, 6, 8]"
      ]
     },
     "execution_count": 252,
     "metadata": {},
     "output_type": "execute_result"
    }
   ],
   "source": [
    "odd = lambda x : bool(x % 2)\n",
    "numbers = [n for n in range(10)]\n",
    "numbers[:] = [n for n in numbers if not odd(n)]  # ahh, the beauty of it all\n",
    "numbers"
   ]
  },
  {
   "cell_type": "code",
   "execution_count": 253,
   "metadata": {},
   "outputs": [],
   "source": [
    "#You can try using filer with lambda function"
   ]
  },
  {
   "cell_type": "markdown",
   "metadata": {},
   "source": [
    "<h3>8.Copying a list </h3>"
   ]
  },
  {
   "cell_type": "code",
   "execution_count": 254,
   "metadata": {},
   "outputs": [
    {
     "data": {
      "text/plain": [
       "[2, 10, 8]"
      ]
     },
     "execution_count": 254,
     "metadata": {},
     "output_type": "execute_result"
    }
   ],
   "source": [
    "a = [2, 4, 8]\n",
    "b = a\n",
    "a[1] = 10\n",
    "b # since is b is refrencing a, any changes in a can change the b unless handled"
   ]
  },
  {
   "cell_type": "code",
   "execution_count": 257,
   "metadata": {},
   "outputs": [
    {
     "data": {
      "text/plain": [
       "[2, 10, 8]"
      ]
     },
     "execution_count": 257,
     "metadata": {},
     "output_type": "execute_result"
    }
   ],
   "source": [
    "#Here is how to handle it\n",
    "b = a.copy()\n",
    "a[2] = 10\n",
    "b"
   ]
  },
  {
   "cell_type": "markdown",
   "metadata": {},
   "source": [
    "<b>9.Remember to include the colons for compound statements  – This is a very common beginner’s coding mistake: don’t forget to type a : at the end of compound statement headers (the first line of an if, while, for, try, with). I would say that a majority of my students make this mistake at least once and usually many times throughout training.  I think this is partly because they simply don’t have a full understanding of what that colon represents which is that it defines the beginning of a code block.</b>"
   ]
  },
  {
   "cell_type": "markdown",
   "metadata": {},
   "source": [
    "<h3>10.List Extend and Append</h3>"
   ]
  },
  {
   "cell_type": "code",
   "execution_count": 258,
   "metadata": {},
   "outputs": [
    {
     "name": "stdout",
     "output_type": "stream",
     "text": [
      "Using Extend : [1, 2, 3, 4, 5, 6]\n",
      "Using append : [1, 2, 3, [4, 5, 6]]\n"
     ]
    }
   ],
   "source": [
    "#You have this list:\n",
    "list1 = [1, 2, 3]\n",
    " \n",
    "#Say you want to elongate the list to add items 4, 5 & 6:\n",
    " \n",
    "#Using the extend() method is fine:\n",
    "list1.extend([4, 5, 6]) #Output: list = [1, 2, 3, 4, 5, 6]\n",
    "print('Using Extend :',list1)\n",
    "list1 = [1, 2, 3]\n",
    "#The append() method seems tempting as well but there's a catch!\n",
    "list1.append([4, 5, 6]) #Output: list = [1, 2, 3, [4, 5, 6]]\n",
    "print('Using append :',list1)"
   ]
  },
  {
   "cell_type": "markdown",
   "metadata": {},
   "source": [
    "<h2>Basic Stats with python</h2>"
   ]
  },
  {
   "cell_type": "markdown",
   "metadata": {},
   "source": [
    "<h3>What is statistics? </h3></br>\n",
    "\n",
    "1.Provides a collection of methods in representing data</br>\n",
    "\n",
    "2.A branch in mathematics</br>\n",
    "\n",
    "3.Provide methods for designing experiments</br>\n",
    "\n",
    "4.Plans data collection, analysis, and representation for further evaluations</br>"
   ]
  },
  {
   "cell_type": "markdown",
   "metadata": {},
   "source": [
    "<h3>Concept of statistics</h3>\n",
    "\n",
    "1.Statistics is the science of data\n",
    "\n",
    "2.It is used to measure or estimate an attribute\n",
    "\n",
    "3.Applies statistical functions or algorithms on sets of data to determine values as appropriate for the problem being studied"
   ]
  },
  {
   "cell_type": "markdown",
   "metadata": {},
   "source": [
    "<h3>Advantages</h3>\n",
    "\n",
    "1.To design and formulate real-world questions based on data\n",
    "\n",
    "2.Represent data in the form of tables, charts, graphs\n",
    "\n",
    "3.Understand techniques in data analysis\n",
    "\n",
    "4.Support for decision making"
   ]
  },
  {
   "cell_type": "markdown",
   "metadata": {},
   "source": [
    "<h3>Stats functions using python</h3>\n",
    "<b>Averages and measures of central location</b>"
   ]
  },
  {
   "attachments": {
    "image.png": {
     "image/png": "[encoded data removed]"
    }
   },
   "cell_type": "markdown",
   "metadata": {},
   "source": [
    "![image.png](attachment:image.png)"
   ]
  },
  {
   "cell_type": "markdown",
   "metadata": {},
   "source": [
    "<b>Measures of spread</b>"
   ]
  },
  {
   "attachments": {
    "image.png": {
     "image/png": "[encoded data removed]"
    }
   },
   "cell_type": "markdown",
   "metadata": {},
   "source": [
    "![image.png](attachment:image.png)"
   ]
  },
  {
   "cell_type": "markdown",
   "metadata": {},
   "source": [
    "<b>statistics.mean</b>"
   ]
  },
  {
   "cell_type": "code",
   "execution_count": 353,
   "metadata": {},
   "outputs": [
    {
     "data": {
      "text/plain": [
       "2.8"
      ]
     },
     "execution_count": 353,
     "metadata": {},
     "output_type": "execute_result"
    }
   ],
   "source": [
    "#Return the sample arithmetic mean of data which can be a sequence or iterator.\n",
    "\n",
    "#The arithmetic mean is the sum of the data divided by the number of data points. \n",
    "#It is commonly called “the average”, although it is only one of many different mathematical averages. \n",
    "#It is a measure of the central location of the data.\n",
    "import statistics as st\n",
    "st.mean([1, 2, 3, 4, 4])\n",
    "\n",
    "#The mean is strongly affected by outliers and is not a robust estimator for central location: \n",
    "#the mean is not necessarily a typical example of the data points"
   ]
  },
  {
   "cell_type": "markdown",
   "metadata": {},
   "source": [
    "<b>geometric_mean</b>"
   ]
  },
  {
   "cell_type": "code",
   "execution_count": 360,
   "metadata": {},
   "outputs": [
    {
     "data": {
      "text/plain": [
       "36.0"
      ]
     },
     "execution_count": 360,
     "metadata": {},
     "output_type": "execute_result"
    }
   ],
   "source": [
    "#The geometric mean indicates the central tendency or typical value of the data \n",
    "#using the product of the values (as opposed to the arithmetic mean which uses their sum).\n",
    "from scipy.stats.mstats import gmean\n",
    "round(gmean([54, 24, 36]), 1)"
   ]
  },
  {
   "cell_type": "markdown",
   "metadata": {},
   "source": [
    "<b>statistics.harmonic_mean</b>"
   ]
  },
  {
   "cell_type": "code",
   "execution_count": 361,
   "metadata": {},
   "outputs": [
    {
     "data": {
      "text/plain": [
       "3.6"
      ]
     },
     "execution_count": 361,
     "metadata": {},
     "output_type": "execute_result"
    }
   ],
   "source": [
    "#The harmonic mean, sometimes called the subcontrary mean, is the reciprocal of the arithmetic mean() of the reciprocals of the data. \n",
    "#For example, the harmonic mean of three values a, b and c will be equivalent to 3/(1/a + 1/b + 1/c).\n",
    "\n",
    "#The harmonic mean is a type of average, a measure of the central location of the data. \n",
    "#It is often appropriate when averaging rates or ratios, for example speeds.\n",
    "st.harmonic_mean([2.5, 3, 10]) "
   ]
  },
  {
   "cell_type": "markdown",
   "metadata": {},
   "source": [
    "<b>statistics.median</b>"
   ]
  },
  {
   "cell_type": "code",
   "execution_count": 362,
   "metadata": {},
   "outputs": [
    {
     "name": "stdout",
     "output_type": "stream",
     "text": [
      "4.0\n",
      "3\n"
     ]
    }
   ],
   "source": [
    "#Return the median (middle value) of numeric data, using the common “mean of middle two” method. \n",
    "#If data is empty, StatisticsError is raised. data can be a sequence or iterator.\n",
    "\n",
    "#The median is a robust measure of central location and is less affected by the presence of outliers. \n",
    "#When the number of data points is odd, the middle data point is returned:\n",
    "print(st.median([1, 3, 5, 7]))\n",
    "print(st.median([1, 3, 5]))"
   ]
  },
  {
   "cell_type": "markdown",
   "metadata": {},
   "source": [
    "<b>statistics.median_low</b>"
   ]
  },
  {
   "cell_type": "code",
   "execution_count": 364,
   "metadata": {},
   "outputs": [
    {
     "name": "stdout",
     "output_type": "stream",
     "text": [
      "3\n",
      "3\n"
     ]
    }
   ],
   "source": [
    "#The low median is always a member of the data set. When the number of data points is odd, the middle value is returned. \n",
    "#When it is even, the smaller of the two middle values is returned.\n",
    "print(st.median_low([1, 3, 5]))\n",
    "\n",
    "print(st.median_low([1, 3, 5, 7]))"
   ]
  },
  {
   "cell_type": "markdown",
   "metadata": {},
   "source": [
    "<b>statistics.median_high</b>"
   ]
  },
  {
   "cell_type": "code",
   "execution_count": 366,
   "metadata": {},
   "outputs": [
    {
     "name": "stdout",
     "output_type": "stream",
     "text": [
      "3\n",
      "5\n"
     ]
    }
   ],
   "source": [
    "#When the number of data points is odd, the middle value is returned. \n",
    "#When it is even, the larger of the two middle values is returned.\n",
    "print(st.median_high([1, 3, 5]))\n",
    "print(st.median_high([1, 3, 5, 7]))"
   ]
  },
  {
   "cell_type": "markdown",
   "metadata": {},
   "source": [
    "<b>statistics.median_grouped</b>"
   ]
  },
  {
   "cell_type": "code",
   "execution_count": 367,
   "metadata": {},
   "outputs": [
    {
     "name": "stdout",
     "output_type": "stream",
     "text": [
      "52.5\n",
      "3.7\n"
     ]
    }
   ],
   "source": [
    "#Return the median of grouped continuous data, calculated as the 50th percentile, using interpolation.\n",
    "print(st.median_grouped([52, 52, 53, 54]))\n",
    "print(st. median_grouped([1, 2, 2, 3, 4, 4, 4, 4, 4, 5]))"
   ]
  },
  {
   "cell_type": "markdown",
   "metadata": {},
   "source": [
    "<b>statistics.mode</b>"
   ]
  },
  {
   "cell_type": "code",
   "execution_count": 368,
   "metadata": {},
   "outputs": [
    {
     "name": "stdout",
     "output_type": "stream",
     "text": [
      "3\n",
      "red\n"
     ]
    }
   ],
   "source": [
    "#Return the single most common data point from discrete or nominal data. The mode (when it exists) is the most typical value and serves as a measure of central location.\n",
    "\n",
    "#If there are multiple modes with the same frequency, returns the first one encountered in the data.\n",
    "#If the smallest or largest of those is desired instead, use min(multimode(data)) or max(multimode(data)).\n",
    "print(st.mode([1, 1, 2, 3, 3, 3, 3, 4]))\n",
    "print(st.mode([\"red\", \"blue\", \"blue\", \"red\", \"green\", \"red\", \"red\"]))"
   ]
  },
  {
   "cell_type": "markdown",
   "metadata": {},
   "source": [
    "<b>statistics.pvariance</b>"
   ]
  },
  {
   "cell_type": "code",
   "execution_count": 371,
   "metadata": {},
   "outputs": [
    {
     "data": {
      "text/plain": [
       "1.25"
      ]
     },
     "execution_count": 371,
     "metadata": {},
     "output_type": "execute_result"
    }
   ],
   "source": [
    "#Return the population variance of data, a non-empty sequence or iterator of real-valued numbers.\n",
    "#Variance, or second moment about the mean, is a measure of the variability (spread or dispersion) of data. \n",
    "#A large variance indicates that the data is spread out; a small variance indicates it is clustered closely around the mean.\n",
    "data = [0.0, 0.25, 0.25, 1.25, 1.5, 1.75, 2.75, 3.25]\n",
    "st.pvariance(data)"
   ]
  },
  {
   "cell_type": "markdown",
   "metadata": {},
   "source": [
    "<b>statistics.pstdev</b>"
   ]
  },
  {
   "cell_type": "code",
   "execution_count": 370,
   "metadata": {},
   "outputs": [
    {
     "data": {
      "text/plain": [
       "0.986893273527251"
      ]
     },
     "execution_count": 370,
     "metadata": {},
     "output_type": "execute_result"
    }
   ],
   "source": [
    "#Return the population standard deviation (the square root of the population variance).\n",
    "st.pstdev([1.5, 2.5, 2.5, 2.75, 3.25, 4.75])"
   ]
  },
  {
   "cell_type": "markdown",
   "metadata": {},
   "source": [
    "<b>statistics.quantiles</b>"
   ]
  },
  {
   "cell_type": "code",
   "execution_count": 473,
   "metadata": {},
   "outputs": [
    {
     "data": {
      "text/plain": [
       "[81.0, 87.5, 103.0, 108.5, 111.0, 1100.0]"
      ]
     },
     "execution_count": 473,
     "metadata": {},
     "output_type": "execute_result"
    }
   ],
   "source": [
    "#Divide data into n continuous intervals with equal probability. Returns a list of n - 1 cut points separating the intervals.\n",
    "#Quantiles will be useful when you have to identify outliers in the data.\n",
    "import numpy as np\n",
    "data = [105, 129, 87, 86, 111, 111, 89, 81, 108, 92, 110,\n",
    "        100, 75, 105, 103, 109, 76, 119, 99, 91, 103, 129,\n",
    "        106, 101, 84, 111, 74, 87, 86, 103, 103, 106, 86,111,\n",
    "        75, 87, 102, 121, 111, 88, 89, 101, 106, 95,103, 107, 101, 81, 109, 104,1100]\n",
    "[np.quantile(data, q) for q in [0.1,0.25,0.5,0.75,0.9,1.0]]"
   ]
  }
 ],
 "metadata": {
  "kernelspec": {
   "display_name": "Python 3",
   "language": "python",
   "name": "python3"
  },
  "language_info": {
   "codemirror_mode": {
    "name": "ipython",
    "version": 3
   },
   "file_extension": ".py",
   "mimetype": "text/x-python",
   "name": "python",
   "nbconvert_exporter": "python",
   "pygments_lexer": "ipython3",
   "version": "3.7.3"
  }
 },
 "nbformat": 4,
 "nbformat_minor": 2
}
